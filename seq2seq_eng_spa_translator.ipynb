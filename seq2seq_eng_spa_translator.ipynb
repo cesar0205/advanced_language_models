{
 "cells": [
  {
   "cell_type": "code",
   "execution_count": 1,
   "metadata": {},
   "outputs": [],
   "source": [
    "import numpy as np"
   ]
  },
  {
   "cell_type": "code",
   "execution_count": 2,
   "metadata": {},
   "outputs": [
    {
     "name": "stderr",
     "output_type": "stream",
     "text": [
      "Using TensorFlow backend.\n"
     ]
    }
   ],
   "source": [
    "from keras.preprocessing.text import Tokenizer\n",
    "from keras.layers import CuDNNLSTM as LSTM\n",
    "from keras.layers import Dense, Input, Embedding\n",
    "from keras.models import Model\n",
    "from keras.preprocessing.sequence import pad_sequences\n",
    "from keras.optimizers import Adam"
   ]
  },
  {
   "cell_type": "code",
   "execution_count": 3,
   "metadata": {},
   "outputs": [],
   "source": [
    "NUM_SAMPLES = 10000\n",
    "MAX_VOCABULARY = 20000\n",
    "MAX_SEQUENCE_LENGTH = 100\n",
    "LATENT_DIM = 256\n",
    "EMBEDDING_DIM = 100\n",
    "BATCH_SIZE = 128"
   ]
  },
  {
   "cell_type": "code",
   "execution_count": 4,
   "metadata": {},
   "outputs": [],
   "source": [
    "#Download the file from http://www.manythings.org/anki/\n",
    "encoder_sentences = []\n",
    "decoder_sentences_input = []\n",
    "decoder_sentences_target = []\n",
    "count = 0\n",
    "lines = []\n",
    "with open(\"spa.txt\", encoding='utf-8') as f:\n",
    "    for line in f:\n",
    "        \n",
    "        #Choose the first sentences in the file as they are the shortest ones, we do not want the larger ones\n",
    "        #as to avoid memory issues\n",
    "        if(count>=NUM_SAMPLES):\n",
    "            break;\n",
    "        encoder_sentence, decoder_sentence = line.split(\"\\t\");\n",
    "\n",
    "        decoder_sentence_input = '<sos> ' + decoder_sentence\n",
    "        decoder_sentence_target = decoder_sentence + ' <eos>'\n",
    "        \n",
    "        encoder_sentences.append(encoder_sentence)\n",
    "        decoder_sentences_input.append(decoder_sentence_input)\n",
    "        decoder_sentences_target.append(decoder_sentence_target)\n",
    "        \n",
    "        count += 1"
   ]
  },
  {
   "cell_type": "code",
   "execution_count": 5,
   "metadata": {},
   "outputs": [],
   "source": [
    "#Do not filter ? ! that are common expressions in english.\n",
    "encoder_tokenizer = Tokenizer(num_words = MAX_VOCABULARY, filters = '')\n",
    "encoder_tokenizer.fit_on_texts(encoder_sentences)\n",
    "\n",
    "#Do not filter ¿? !¡ that are common expressions in spanish. Only filter new line.\n",
    "decoder_tokenizer = Tokenizer(num_words = MAX_VOCABULARY, filters = '\\n')\n",
    "decoder_tokenizer.fit_on_texts(decoder_sentences_input + decoder_sentences_target)"
   ]
  },
  {
   "cell_type": "code",
   "execution_count": 6,
   "metadata": {},
   "outputs": [],
   "source": [
    "encoder_sequences = encoder_tokenizer.texts_to_sequences(encoder_sentences)\n",
    "decoder_sequences_input = decoder_tokenizer.texts_to_sequences(decoder_sentences_input)\n",
    "decoder_sequences_target = decoder_tokenizer.texts_to_sequences(decoder_sentences_target)"
   ]
  },
  {
   "cell_type": "code",
   "execution_count": 7,
   "metadata": {},
   "outputs": [],
   "source": [
    "decoder_index2word = {idx: word for word, idx in decoder_tokenizer.word_index.items()}\n"
   ]
  },
  {
   "cell_type": "code",
   "execution_count": 8,
   "metadata": {},
   "outputs": [],
   "source": [
    "max_encoder_length = np.max([len(sentence) for sentence in encoder_sequences])\n",
    "max_decoder_length = np.max([len(sentence) for sentence in decoder_sequences_input])\n",
    "\n",
    "#Lets choose the minimum of these to save memory\n",
    "MAX_DECODER_LENGTH = min(MAX_SEQUENCE_LENGTH, max_decoder_length)\n",
    "MAX_ENCODER_LENGTH = min(MAX_SEQUENCE_LENGTH, max_encoder_length)\n",
    "#We add one to the max_spanish and english words. This is because indexing with tokenizer starts at 1.\n",
    "MAX_DECODER_WORDS = min(MAX_VOCABULARY, len(decoder_tokenizer.word_index) + 1) \n",
    "MAX_ENCODER_WORDS = min(MAX_VOCABULARY, len(encoder_tokenizer.word_index) + 1)"
   ]
  },
  {
   "cell_type": "code",
   "execution_count": 9,
   "metadata": {},
   "outputs": [],
   "source": [
    "#Use post padding as we need the <sos> at the beggining of the sentences in the decoder (not necessary to do so in the encoder)\n",
    "encoder_sequences_padded = pad_sequences(encoder_sequences, maxlen = MAX_ENCODER_LENGTH, padding='post')\n",
    "decoder_sequences_input_padded = pad_sequences(decoder_sequences_input, maxlen = MAX_DECODER_LENGTH, padding = \"post\")\n",
    "decoder_sequences_target_padded = pad_sequences(decoder_sequences_target, maxlen = MAX_DECODER_LENGTH, padding = \"post\")"
   ]
  },
  {
   "cell_type": "code",
   "execution_count": 10,
   "metadata": {},
   "outputs": [],
   "source": [
    "#100 vector dimension.\n",
    "word2vec = {}\n",
    "with open(\"../basic_language_models/large_files/glove.6B/glove.6B.100d.txt\", encoding=\"utf-8\") as f:\n",
    "    for line in f:\n",
    "        tokens = line.split();\n",
    "        word = tokens[0];\n",
    "        vector = np.array(tokens[1:])\n",
    "        word2vec[word] = vector;"
   ]
  },
  {
   "cell_type": "code",
   "execution_count": 11,
   "metadata": {},
   "outputs": [],
   "source": [
    "#We can initialize the Embedding layer for the encoder block because we have teh pretrained weights for the encoder vocabulary.\n",
    "#However, we do not have the spanish ones.\n",
    "\n",
    "encoder_embeddings_weights = np.zeros((MAX_ENCODER_WORDS, EMBEDDING_DIM))\n",
    "\n",
    "for word, index in encoder_tokenizer.word_index.items():\n",
    "    if index < MAX_ENCODER_WORDS:\n",
    "        if(word in word2vec):\n",
    "            encoder_embeddings_weights[index] = word2vec[word]\n",
    "    "
   ]
  },
  {
   "cell_type": "code",
   "execution_count": 12,
   "metadata": {},
   "outputs": [
    {
     "data": {
      "text/plain": [
       "(10000, 9, 6295)"
      ]
     },
     "execution_count": 12,
     "metadata": {},
     "output_type": "execute_result"
    }
   ],
   "source": [
    "len(decoder_sequences_target_padded), MAX_DECODER_LENGTH, MAX_DECODER_WORDS"
   ]
  },
  {
   "cell_type": "code",
   "execution_count": 13,
   "metadata": {},
   "outputs": [],
   "source": [
    "decoder_targets = np.zeros((len(decoder_sequences_target_padded), MAX_DECODER_LENGTH, MAX_DECODER_WORDS))\n",
    "for sentence_idx, sentence in enumerate(decoder_sequences_target_padded):\n",
    "    for word_idx, word_id in enumerate(sentence):\n",
    "        decoder_targets[sentence_idx, word_idx, word_id] = 1"
   ]
  },
  {
   "cell_type": "code",
   "execution_count": 14,
   "metadata": {},
   "outputs": [],
   "source": [
    "encoder_embeddings = Embedding(MAX_ENCODER_WORDS, \n",
    "                               EMBEDDING_DIM, \n",
    "                               weights = [encoder_embeddings_weights], \n",
    "                               input_length=MAX_SEQUENCE_LENGTH)\n",
    "\n",
    "#IF we had the pretrained weights for the spanish vocabulary we could use it here as well.\n",
    "#Do not fix the input_length as it will be variable when we generate new sentences after training.\n",
    "decoder_embeddings = Embedding(MAX_DECODER_WORDS,\n",
    "                               EMBEDDING_DIM)\n",
    "\n"
   ]
  },
  {
   "cell_type": "code",
   "execution_count": 15,
   "metadata": {},
   "outputs": [
    {
     "name": "stdout",
     "output_type": "stream",
     "text": [
      "def foo(module, x): pass <unknown> exec 1024\n",
      "def foo(module, x): pass <unknown> exec 1024\n"
     ]
    }
   ],
   "source": [
    "#Encoder\n",
    "encoder_input = Input([MAX_ENCODER_LENGTH,])\n",
    "embedded_input = encoder_embeddings(encoder_input)\n",
    "encoder_lstm = LSTM(LATENT_DIM, return_state = True) #We don't need the outputs of the encoder\n",
    "__, h_encoder, c_encoder = encoder_lstm(embedded_input)\n"
   ]
  },
  {
   "cell_type": "code",
   "execution_count": 16,
   "metadata": {},
   "outputs": [],
   "source": [
    "#Decoder\n",
    "\n",
    "#We use the decoder_input for teaching.\n",
    "decoder_input = Input([MAX_DECODER_LENGTH,])\n",
    "embedded_decoder_input = decoder_embeddings(decoder_input) #(batch_size, max_sequence_length, embedding_size)\n",
    "decoder_lstm = LSTM(LATENT_DIM, return_state = True, return_sequences = True)\n",
    "decoder_output, h_decoder, c_decoder = decoder_lstm(embedded_decoder_input, initial_state = [h_encoder, c_encoder])\n",
    "dense = Dense(MAX_DECODER_WORDS, activation = 'softmax')\n",
    "output = dense(decoder_output)\n",
    "\n",
    "model = Model(inputs = [encoder_input, decoder_input], outputs = output)\n"
   ]
  },
  {
   "cell_type": "code",
   "execution_count": 17,
   "metadata": {},
   "outputs": [],
   "source": [
    "model.compile(optimizer = Adam(), \n",
    "              loss = 'categorical_crossentropy', \n",
    "              metrics = ['accuracy'])"
   ]
  },
  {
   "cell_type": "code",
   "execution_count": 18,
   "metadata": {},
   "outputs": [
    {
     "name": "stdout",
     "output_type": "stream",
     "text": [
      "Epoch 1/100\n",
      "10000/10000 [==============================] - 36s 4ms/step - loss: 3.7078 - acc: 0.5780\n",
      "Epoch 2/100\n",
      "10000/10000 [==============================] - 33s 3ms/step - loss: 2.4288 - acc: 0.6603\n",
      "Epoch 3/100\n",
      "10000/10000 [==============================] - 33s 3ms/step - loss: 2.2032 - acc: 0.6955\n",
      "Epoch 4/100\n",
      "10000/10000 [==============================] - 33s 3ms/step - loss: 2.0610 - acc: 0.7024\n",
      "Epoch 5/100\n",
      "10000/10000 [==============================] - 34s 3ms/step - loss: 1.9460 - acc: 0.7116\n",
      "Epoch 6/100\n",
      "10000/10000 [==============================] - 34s 3ms/step - loss: 1.8491 - acc: 0.7185\n",
      "Epoch 7/100\n",
      "10000/10000 [==============================] - 33s 3ms/step - loss: 1.7645 - acc: 0.7259\n",
      "Epoch 8/100\n",
      "10000/10000 [==============================] - 33s 3ms/step - loss: 1.6857 - acc: 0.7355\n",
      "Epoch 9/100\n",
      "10000/10000 [==============================] - 34s 3ms/step - loss: 1.6148 - acc: 0.7408\n",
      "Epoch 10/100\n",
      "10000/10000 [==============================] - 33s 3ms/step - loss: 1.5442 - acc: 0.7476\n",
      "Epoch 11/100\n",
      "10000/10000 [==============================] - 33s 3ms/step - loss: 1.4777 - acc: 0.7530\n",
      "Epoch 12/100\n",
      "10000/10000 [==============================] - 34s 3ms/step - loss: 1.4125 - acc: 0.7585\n",
      "Epoch 13/100\n",
      "10000/10000 [==============================] - 33s 3ms/step - loss: 1.3506 - acc: 0.7647\n",
      "Epoch 14/100\n",
      "10000/10000 [==============================] - 33s 3ms/step - loss: 1.2909 - acc: 0.7712\n",
      "Epoch 15/100\n",
      "10000/10000 [==============================] - 33s 3ms/step - loss: 1.2350 - acc: 0.7768\n",
      "Epoch 16/100\n",
      "10000/10000 [==============================] - 33s 3ms/step - loss: 1.1811 - acc: 0.7829\n",
      "Epoch 17/100\n",
      "10000/10000 [==============================] - 33s 3ms/step - loss: 1.1285 - acc: 0.7885\n",
      "Epoch 18/100\n",
      "10000/10000 [==============================] - 33s 3ms/step - loss: 1.0772 - acc: 0.7955\n",
      "Epoch 19/100\n",
      "10000/10000 [==============================] - 33s 3ms/step - loss: 1.0297 - acc: 0.8003\n",
      "Epoch 20/100\n",
      "10000/10000 [==============================] - 33s 3ms/step - loss: 0.9828 - acc: 0.8057\n",
      "Epoch 21/100\n",
      "10000/10000 [==============================] - 33s 3ms/step - loss: 0.9378 - acc: 0.8105\n",
      "Epoch 22/100\n",
      "10000/10000 [==============================] - 33s 3ms/step - loss: 0.8950 - acc: 0.8169\n",
      "Epoch 23/100\n",
      "10000/10000 [==============================] - 33s 3ms/step - loss: 0.8519 - acc: 0.8234\n",
      "Epoch 24/100\n",
      "10000/10000 [==============================] - 33s 3ms/step - loss: 0.8131 - acc: 0.8289\n",
      "Epoch 25/100\n",
      "10000/10000 [==============================] - 33s 3ms/step - loss: 0.7751 - acc: 0.8341\n",
      "Epoch 26/100\n",
      "10000/10000 [==============================] - 33s 3ms/step - loss: 0.7397 - acc: 0.8400\n",
      "Epoch 27/100\n",
      "10000/10000 [==============================] - 33s 3ms/step - loss: 0.7040 - acc: 0.8458\n",
      "Epoch 28/100\n",
      "10000/10000 [==============================] - 33s 3ms/step - loss: 0.6696 - acc: 0.8521\n",
      "Epoch 29/100\n",
      "10000/10000 [==============================] - 33s 3ms/step - loss: 0.6380 - acc: 0.8580\n",
      "Epoch 30/100\n",
      "10000/10000 [==============================] - 34s 3ms/step - loss: 0.6084 - acc: 0.8635\n",
      "Epoch 31/100\n",
      "10000/10000 [==============================] - 33s 3ms/step - loss: 0.5782 - acc: 0.8697\n",
      "Epoch 32/100\n",
      "10000/10000 [==============================] - 34s 3ms/step - loss: 0.5509 - acc: 0.8755\n",
      "Epoch 33/100\n",
      "10000/10000 [==============================] - 34s 3ms/step - loss: 0.5253 - acc: 0.8803\n",
      "Epoch 34/100\n",
      "10000/10000 [==============================] - 34s 3ms/step - loss: 0.5010 - acc: 0.8852\n",
      "Epoch 35/100\n",
      "10000/10000 [==============================] - 33s 3ms/step - loss: 0.4782 - acc: 0.8905\n",
      "Epoch 36/100\n",
      "10000/10000 [==============================] - 33s 3ms/step - loss: 0.4557 - acc: 0.8950\n",
      "Epoch 37/100\n",
      "10000/10000 [==============================] - 33s 3ms/step - loss: 0.4345 - acc: 0.8999\n",
      "Epoch 38/100\n",
      "10000/10000 [==============================] - 33s 3ms/step - loss: 0.4148 - acc: 0.9037\n",
      "Epoch 39/100\n",
      "10000/10000 [==============================] - 33s 3ms/step - loss: 0.3945 - acc: 0.9083\n",
      "Epoch 40/100\n",
      "10000/10000 [==============================] - 35s 3ms/step - loss: 0.3767 - acc: 0.9118\n",
      "Epoch 41/100\n",
      "10000/10000 [==============================] - 33s 3ms/step - loss: 0.3602 - acc: 0.9152\n",
      "Epoch 42/100\n",
      "10000/10000 [==============================] - 34s 3ms/step - loss: 0.3445 - acc: 0.9183\n",
      "Epoch 43/100\n",
      "10000/10000 [==============================] - 33s 3ms/step - loss: 0.3283 - acc: 0.9221\n",
      "Epoch 44/100\n",
      "10000/10000 [==============================] - 34s 3ms/step - loss: 0.3139 - acc: 0.9249\n",
      "Epoch 45/100\n",
      "10000/10000 [==============================] - 33s 3ms/step - loss: 0.3009 - acc: 0.9280\n",
      "Epoch 46/100\n",
      "10000/10000 [==============================] - 34s 3ms/step - loss: 0.2866 - acc: 0.9306\n",
      "Epoch 47/100\n",
      "10000/10000 [==============================] - 33s 3ms/step - loss: 0.2756 - acc: 0.9328\n",
      "Epoch 48/100\n",
      "10000/10000 [==============================] - 33s 3ms/step - loss: 0.2636 - acc: 0.9346\n",
      "Epoch 49/100\n",
      "10000/10000 [==============================] - 34s 3ms/step - loss: 0.2528 - acc: 0.9372\n",
      "Epoch 50/100\n",
      "10000/10000 [==============================] - 34s 3ms/step - loss: 0.2442 - acc: 0.9389\n",
      "Epoch 51/100\n",
      "10000/10000 [==============================] - 33s 3ms/step - loss: 0.2336 - acc: 0.9410\n",
      "Epoch 52/100\n",
      "10000/10000 [==============================] - 34s 3ms/step - loss: 0.2242 - acc: 0.9422\n",
      "Epoch 53/100\n",
      "10000/10000 [==============================] - 33s 3ms/step - loss: 0.2151 - acc: 0.9436\n",
      "Epoch 54/100\n",
      "10000/10000 [==============================] - 33s 3ms/step - loss: 0.2063 - acc: 0.9457\n",
      "Epoch 55/100\n",
      "10000/10000 [==============================] - 33s 3ms/step - loss: 0.1990 - acc: 0.9467\n",
      "Epoch 56/100\n",
      "10000/10000 [==============================] - 33s 3ms/step - loss: 0.1927 - acc: 0.9478\n",
      "Epoch 57/100\n",
      "10000/10000 [==============================] - 33s 3ms/step - loss: 0.1859 - acc: 0.9485\n",
      "Epoch 58/100\n",
      "10000/10000 [==============================] - 33s 3ms/step - loss: 0.1781 - acc: 0.9490\n",
      "Epoch 59/100\n",
      "10000/10000 [==============================] - 33s 3ms/step - loss: 0.1719 - acc: 0.9514\n",
      "Epoch 60/100\n",
      "10000/10000 [==============================] - 33s 3ms/step - loss: 0.1662 - acc: 0.9518\n",
      "Epoch 61/100\n",
      "10000/10000 [==============================] - 33s 3ms/step - loss: 0.1613 - acc: 0.9526\n",
      "Epoch 62/100\n",
      "10000/10000 [==============================] - 33s 3ms/step - loss: 0.1562 - acc: 0.9529\n",
      "Epoch 63/100\n",
      "10000/10000 [==============================] - 33s 3ms/step - loss: 0.1528 - acc: 0.9536\n",
      "Epoch 64/100\n",
      "10000/10000 [==============================] - 33s 3ms/step - loss: 0.1480 - acc: 0.9540\n",
      "Epoch 65/100\n",
      "10000/10000 [==============================] - 33s 3ms/step - loss: 0.1432 - acc: 0.9544\n",
      "Epoch 66/100\n",
      "10000/10000 [==============================] - 33s 3ms/step - loss: 0.1391 - acc: 0.9556\n",
      "Epoch 67/100\n",
      "10000/10000 [==============================] - 33s 3ms/step - loss: 0.1349 - acc: 0.9556\n",
      "Epoch 68/100\n",
      "10000/10000 [==============================] - 33s 3ms/step - loss: 0.1322 - acc: 0.9560\n",
      "Epoch 69/100\n",
      "10000/10000 [==============================] - 33s 3ms/step - loss: 0.1280 - acc: 0.9563\n",
      "Epoch 70/100\n",
      "10000/10000 [==============================] - 33s 3ms/step - loss: 0.1244 - acc: 0.9569\n",
      "Epoch 71/100\n",
      "10000/10000 [==============================] - 33s 3ms/step - loss: 0.1220 - acc: 0.9570\n",
      "Epoch 72/100\n",
      "10000/10000 [==============================] - 33s 3ms/step - loss: 0.1202 - acc: 0.9572\n",
      "Epoch 73/100\n",
      "10000/10000 [==============================] - 33s 3ms/step - loss: 0.1185 - acc: 0.9570\n",
      "Epoch 74/100\n",
      "10000/10000 [==============================] - 33s 3ms/step - loss: 0.1158 - acc: 0.9576\n",
      "Epoch 75/100\n",
      "10000/10000 [==============================] - 33s 3ms/step - loss: 0.1124 - acc: 0.9577\n",
      "Epoch 76/100\n",
      "10000/10000 [==============================] - 33s 3ms/step - loss: 0.1098 - acc: 0.9581\n",
      "Epoch 77/100\n",
      "10000/10000 [==============================] - 33s 3ms/step - loss: 0.1078 - acc: 0.9580\n",
      "Epoch 78/100\n",
      "10000/10000 [==============================] - 33s 3ms/step - loss: 0.1063 - acc: 0.9580\n",
      "Epoch 79/100\n",
      "10000/10000 [==============================] - 33s 3ms/step - loss: 0.1046 - acc: 0.9581\n",
      "Epoch 80/100\n",
      "10000/10000 [==============================] - 33s 3ms/step - loss: 0.1022 - acc: 0.9588\n",
      "Epoch 81/100\n"
     ]
    },
    {
     "name": "stdout",
     "output_type": "stream",
     "text": [
      "10000/10000 [==============================] - 33s 3ms/step - loss: 0.1016 - acc: 0.9581\n",
      "Epoch 82/100\n",
      "10000/10000 [==============================] - 33s 3ms/step - loss: 0.1015 - acc: 0.9585\n",
      "Epoch 83/100\n",
      "10000/10000 [==============================] - 33s 3ms/step - loss: 0.0989 - acc: 0.9587\n",
      "Epoch 84/100\n",
      "10000/10000 [==============================] - 33s 3ms/step - loss: 0.0962 - acc: 0.9586\n",
      "Epoch 85/100\n",
      "10000/10000 [==============================] - 33s 3ms/step - loss: 0.0960 - acc: 0.9587\n",
      "Epoch 86/100\n",
      "10000/10000 [==============================] - 33s 3ms/step - loss: 0.0954 - acc: 0.9582\n",
      "Epoch 87/100\n",
      "10000/10000 [==============================] - 33s 3ms/step - loss: 0.0938 - acc: 0.9592\n",
      "Epoch 88/100\n",
      "10000/10000 [==============================] - 34s 3ms/step - loss: 0.0937 - acc: 0.9584\n",
      "Epoch 89/100\n",
      "10000/10000 [==============================] - 33s 3ms/step - loss: 0.0911 - acc: 0.9591\n",
      "Epoch 90/100\n",
      "10000/10000 [==============================] - 33s 3ms/step - loss: 0.0906 - acc: 0.9587\n",
      "Epoch 91/100\n",
      "10000/10000 [==============================] - 33s 3ms/step - loss: 0.0899 - acc: 0.9587\n",
      "Epoch 92/100\n",
      "10000/10000 [==============================] - 33s 3ms/step - loss: 0.0886 - acc: 0.9591\n",
      "Epoch 93/100\n",
      "10000/10000 [==============================] - 33s 3ms/step - loss: 0.0874 - acc: 0.9586\n",
      "Epoch 94/100\n",
      "10000/10000 [==============================] - 33s 3ms/step - loss: 0.0867 - acc: 0.9598\n",
      "Epoch 95/100\n",
      "10000/10000 [==============================] - 33s 3ms/step - loss: 0.0869 - acc: 0.9589\n",
      "Epoch 96/100\n",
      "10000/10000 [==============================] - 33s 3ms/step - loss: 0.0862 - acc: 0.9585\n",
      "Epoch 97/100\n",
      "10000/10000 [==============================] - 33s 3ms/step - loss: 0.0845 - acc: 0.9591\n",
      "Epoch 98/100\n",
      "10000/10000 [==============================] - 33s 3ms/step - loss: 0.0841 - acc: 0.9592\n",
      "Epoch 99/100\n",
      "10000/10000 [==============================] - 33s 3ms/step - loss: 0.0834 - acc: 0.9598\n",
      "Epoch 100/100\n",
      "10000/10000 [==============================] - 34s 3ms/step - loss: 0.0840 - acc: 0.9596\n"
     ]
    }
   ],
   "source": [
    "#I don't use a validation set as I want to resemble the input as much as possible. I'm only interesed in the \n",
    "#training loss and accuracy.\n",
    "r = model.fit(x = [encoder_sequences_padded, decoder_sequences_input_padded], \n",
    "          y = decoder_targets, \n",
    "          epochs = 100, \n",
    "          batch_size= BATCH_SIZE)"
   ]
  },
  {
   "cell_type": "code",
   "execution_count": 19,
   "metadata": {},
   "outputs": [],
   "source": [
    "model.save_weights(\"./seq2seq_traductor.h5\")"
   ]
  },
  {
   "cell_type": "code",
   "execution_count": 21,
   "metadata": {},
   "outputs": [
    {
     "data": {
      "image/png": "[encoded data removed]",
      "text/plain": [
       "<Figure size 432x288 with 1 Axes>"
      ]
     },
     "metadata": {},
     "output_type": "display_data"
    }
   ],
   "source": [
    "import matplotlib.pyplot as plt\n",
    "plt.plot(r.history['acc'], label = 'train accuracy')\n",
    "plt.xlabel(\"Epochs\")\n",
    "plt.ylabel(\"Loss\")\n",
    "plt.legend()\n",
    "plt.show()"
   ]
  },
  {
   "cell_type": "code",
   "execution_count": 22,
   "metadata": {},
   "outputs": [
    {
     "data": {
      "image/png": "[encoded data removed]",
      "text/plain": [
       "<Figure size 432x288 with 1 Axes>"
      ]
     },
     "metadata": {},
     "output_type": "display_data"
    }
   ],
   "source": [
    "plt.plot(r.history['loss'], label = 'train loss')\n",
    "plt.xlabel(\"Epochs\")\n",
    "plt.ylabel(\"Loss\")\n",
    "plt.legend()\n",
    "plt.show()"
   ]
  },
  {
   "cell_type": "code",
   "execution_count": 23,
   "metadata": {},
   "outputs": [],
   "source": [
    "#During prediction, use the decoder to output the hidden state.\n",
    "encoder_prediction_model = Model(inputs = [encoder_input], outputs = [h_encoder, c_encoder])"
   ]
  },
  {
   "cell_type": "code",
   "execution_count": 24,
   "metadata": {},
   "outputs": [],
   "source": [
    "#Once we get the hidden state, pass it to the decoder that along the decoder input will output word indexes.\n",
    "input_decoder2 = Input([1, ])\n",
    "input_h = Input([LATENT_DIM, ])\n",
    "input_c = Input([LATENT_DIM, ])\n",
    "embedded_decoder_input2 = decoder_embeddings(input_decoder2)\n",
    "o2, h2, c2 = decoder_lstm(embedded_decoder_input2, initial_state=[input_h, input_c])\n",
    "outputs2 = dense(o2)\n",
    "decoder_prediction_model = Model(inputs = [input_decoder2, input_h, input_c], outputs = [outputs2, h2, c2])"
   ]
  },
  {
   "cell_type": "code",
   "execution_count": 45,
   "metadata": {},
   "outputs": [],
   "source": [
    "#Sample sentence.\n",
    "def sample_sentence(encoder_sentence):\n",
    "    encoder_sequence = encoder_tokenizer.texts_to_sequences([encoder_sentence])\n",
    "    encoder_sequence_padded = pad_sequences(encoder_sequence, maxlen = MAX_ENCODER_LENGTH, padding = \"post\")\n",
    "    h_s, c_s = encoder_prediction_model.predict(np.array(encoder_sequence_padded))\n",
    "    decoder_input_init = np.array([[decoder_tokenizer.word_index['<sos>']]])\n",
    "    \n",
    "    decoder_input_ = decoder_input_init\n",
    "    decoder_sentence = []\n",
    "    #Use a loop to feed the decoder input with the last decoder output.\n",
    "    for i in range(MAX_SEQUENCE_LENGTH):\n",
    "        probs, h_s, c_s = decoder_prediction_model.predict([decoder_input_, h_s, c_s])\n",
    "        #Do not take into account the first column.\n",
    "        word_idx = np.argmax(probs[0, 0, 1:]) + 1\n",
    "        word = decoder_index2word[word_idx]\n",
    "        #If end of sentence token, break;\n",
    "        if word == '<eos>':\n",
    "            break;\n",
    "        \n",
    "        decoder_input_[0, 0] = word_idx;\n",
    "        decoder_sentence.append(word)\n",
    "    return ' '.join(decoder_sentence);"
   ]
  },
  {
   "cell_type": "code",
   "execution_count": 47,
   "metadata": {},
   "outputs": [
    {
     "name": "stdout",
     "output_type": "stream",
     "text": [
      "English sentence: It was fabulous. \n",
      "Spanish translation: estaba fabuloso.\n",
      "\n",
      "English sentence: Call me. \n",
      "Spanish translation: llamadme.\n",
      "\n",
      "English sentence: Are you mad? \n",
      "Spanish translation: ¿estás loco?\n",
      "\n",
      "English sentence: What's the plan? \n",
      "Spanish translation: ¿cuál es el plan?\n",
      "\n",
      "English sentence: I need answers. \n",
      "Spanish translation: necesito respuestas.\n",
      "\n",
      "English sentence: Are you crazy? \n",
      "Spanish translation: ¿estás loco?\n",
      "\n",
      "English sentence: I am better. \n",
      "Spanish translation: estoy mejor.\n",
      "\n",
      "English sentence: Don't stop. \n",
      "Spanish translation: no pares.\n",
      "\n",
      "English sentence: I'm too drunk. \n",
      "Spanish translation: estoy demasiado borracho.\n",
      "\n",
      "English sentence: Can I pay later? \n",
      "Spanish translation: puedo pagar más tarde?\n",
      "\n"
     ]
    }
   ],
   "source": [
    "n_examples = 10\n",
    "for i in range(n_examples):\n",
    "    sample_index = np.random.choice(len(encoder_sentences));\n",
    "    print(\"English sentence:\", encoder_sentences[sample_index], \n",
    "          \"\\nSpanish translation:\", sample_sentence(encoder_sentences[sample_index]))\n",
    "    print()"
   ]
  },
  {
   "cell_type": "code",
   "execution_count": null,
   "metadata": {},
   "outputs": [],
   "source": []
  }
 ],
 "metadata": {
  "kernelspec": {
   "display_name": "Python 3",
   "language": "python",
   "name": "python3"
  },
  "language_info": {
   "codemirror_mode": {
    "name": "ipython",
    "version": 3
   },
   "file_extension": ".py",
   "mimetype": "text/x-python",
   "name": "python",
   "nbconvert_exporter": "python",
   "pygments_lexer": "ipython3",
   "version": "3.5.4"
  }
 },
 "nbformat": 4,
 "nbformat_minor": 2
}
