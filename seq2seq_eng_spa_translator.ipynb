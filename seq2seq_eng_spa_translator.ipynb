{
 "cells": [
  {
   "cell_type": "code",
   "execution_count": 1,
   "metadata": {},
   "outputs": [],
   "source": [
    "import numpy as np"
   ]
  },
  {
   "cell_type": "code",
   "execution_count": 2,
   "metadata": {},
   "outputs": [
    {
     "name": "stderr",
     "output_type": "stream",
     "text": [
      "Using TensorFlow backend.\n"
     ]
    }
   ],
   "source": [
    "from keras.preprocessing.text import Tokenizer\n",
    "from keras.layers import CuDNNLSTM as LSTM\n",
    "from keras.layers import Dense, Input, Embedding\n",
    "from keras.models import Model\n",
    "from keras.preprocessing.sequence import pad_sequences\n",
    "from keras.optimizers import Adam"
   ]
  },
  {
   "cell_type": "code",
   "execution_count": 29,
   "metadata": {},
   "outputs": [],
   "source": [
    "NUM_SAMPLES = 10000\n",
    "MAX_VOCABULARY = 20000\n",
    "MAX_SEQUENCE_LENGTH = 100\n",
    "LATENT_DIM = 256\n",
    "EMBEDDING_DIM = 100\n",
    "BATCH_SIZE = 128"
   ]
  },
  {
   "cell_type": "code",
   "execution_count": 30,
   "metadata": {},
   "outputs": [],
   "source": [
    "#Download the file from http://www.manythings.org/anki/\n",
    "encoder_sentences = []\n",
    "decoder_sentences_input = []\n",
    "decoder_sentences_target = []\n",
    "count = 0\n",
    "lines = []\n",
    "with open(\"spa.txt\", encoding='utf-8') as f:\n",
    "    for line in f:\n",
    "        \n",
    "        #Choose the first sentences in the file as they are the shortest ones, we do not want the larger ones\n",
    "        #as to avoid memory issues\n",
    "        if(count>=NUM_SAMPLES):\n",
    "            break;\n",
    "        encoder_sentence, decoder_sentence = line.split(\"\\t\");\n",
    "\n",
    "        decoder_sentence_input = '<sos> ' + decoder_sentence\n",
    "        decoder_sentence_target = decoder_sentence + ' <eos>'\n",
    "        \n",
    "        encoder_sentences.append(encoder_sentence)\n",
    "        decoder_sentences_input.append(decoder_sentence_input)\n",
    "        decoder_sentences_target.append(decoder_sentence_target)\n",
    "        \n",
    "        count += 1"
   ]
  },
  {
   "cell_type": "code",
   "execution_count": 31,
   "metadata": {},
   "outputs": [],
   "source": [
    "#Do not filter ? ! that are common expressions in english.\n",
    "encoder_tokenizer = Tokenizer(num_words = MAX_VOCABULARY, filters = '')\n",
    "encoder_tokenizer.fit_on_texts(encoder_sentences)\n",
    "\n",
    "#Do not filter ¿? !¡ that are common expressions in spanish. Only filter new line.\n",
    "decoder_tokenizer = Tokenizer(num_words = MAX_VOCABULARY, filters = '\\n')\n",
    "decoder_tokenizer.fit_on_texts(decoder_sentences_input + decoder_sentences_target)"
   ]
  },
  {
   "cell_type": "code",
   "execution_count": 32,
   "metadata": {},
   "outputs": [],
   "source": [
    "encoder_sequences = encoder_tokenizer.texts_to_sequences(encoder_sentences)\n",
    "decoder_sequences_input = decoder_tokenizer.texts_to_sequences(decoder_sentences_input)\n",
    "decoder_sequences_target = decoder_tokenizer.texts_to_sequences(decoder_sentences_target)"
   ]
  },
  {
   "cell_type": "code",
   "execution_count": 33,
   "metadata": {},
   "outputs": [],
   "source": [
    "decoder_index2word = {idx: word for word, idx in decoder_tokenizer.word_index.items()}\n"
   ]
  },
  {
   "cell_type": "code",
   "execution_count": 34,
   "metadata": {},
   "outputs": [],
   "source": [
    "max_encoder_length = np.max([len(sentence) for sentence in encoder_sequences])\n",
    "max_decoder_length = np.max([len(sentence) for sentence in decoder_sequences_input])\n",
    "\n",
    "#Lets choose the minimum of these to save memory\n",
    "MAX_DECODER_LENGTH = min(MAX_SEQUENCE_LENGTH, max_decoder_length)\n",
    "MAX_ENCODER_LENGTH = min(MAX_SEQUENCE_LENGTH, max_encoder_length)\n",
    "#We add one to the max_spanish and english words. This is because indexing with tokenizer starts at 1.\n",
    "MAX_DECODER_WORDS = min(MAX_VOCABULARY, len(decoder_tokenizer.word_index) + 1) \n",
    "MAX_ENCODER_WORDS = min(MAX_VOCABULARY, len(encoder_tokenizer.word_index) + 1)"
   ]
  },
  {
   "cell_type": "code",
   "execution_count": 35,
   "metadata": {},
   "outputs": [],
   "source": [
    "#Use post padding as we need the <sos> at the beggining of the sentences in the decoder (not necessary to do so in the encoder)\n",
    "encoder_sequences_padded = pad_sequences(encoder_sequences, maxlen = MAX_ENCODER_LENGTH, padding='post')\n",
    "decoder_sequences_input_padded = pad_sequences(decoder_sequences_input, maxlen = MAX_DECODER_LENGTH, padding = \"post\")\n",
    "decoder_sequences_target_padded = pad_sequences(decoder_sequences_target, maxlen = MAX_DECODER_LENGTH, padding = \"post\")"
   ]
  },
  {
   "cell_type": "code",
   "execution_count": 36,
   "metadata": {},
   "outputs": [],
   "source": [
    "#100 vector dimension.\n",
    "word2vec = {}\n",
    "with open(\"../basic_language_models/large_files/glove.6B/glove.6B.100d.txt\", encoding=\"utf-8\") as f:\n",
    "    for line in f:\n",
    "        tokens = line.split();\n",
    "        word = tokens[0];\n",
    "        vector = np.array(tokens[1:])\n",
    "        word2vec[word] = vector;"
   ]
  },
  {
   "cell_type": "code",
   "execution_count": 37,
   "metadata": {},
   "outputs": [],
   "source": [
    "#We can initialize the Embedding layer for the encoder block because we have teh pretrained weights for the encoder vocabulary.\n",
    "#However, we do not have the spanish ones.\n",
    "\n",
    "encoder_embeddings_weights = np.zeros((MAX_ENCODER_WORDS, EMBEDDING_DIM))\n",
    "\n",
    "for word, index in encoder_tokenizer.word_index.items():\n",
    "    if index < MAX_ENCODER_WORDS:\n",
    "        if(word in word2vec):\n",
    "            encoder_embeddings_weights[index] = word2vec[word]\n",
    "    "
   ]
  },
  {
   "cell_type": "code",
   "execution_count": 38,
   "metadata": {},
   "outputs": [
    {
     "data": {
      "text/plain": [
       "(10000, 9, 6295)"
      ]
     },
     "execution_count": 38,
     "metadata": {},
     "output_type": "execute_result"
    }
   ],
   "source": [
    "len(decoder_sequences_target_padded), MAX_DECODER_LENGTH, MAX_DECODER_WORDS"
   ]
  },
  {
   "cell_type": "code",
   "execution_count": 39,
   "metadata": {},
   "outputs": [],
   "source": [
    "decoder_targets = np.zeros((len(decoder_sequences_target_padded), MAX_DECODER_LENGTH, MAX_DECODER_WORDS))\n",
    "for sentence_idx, sentence in enumerate(decoder_sequences_target_padded):\n",
    "    for word_idx, word_id in enumerate(sentence):\n",
    "        decoder_targets[sentence_idx, word_idx, word_id] = 1"
   ]
  },
  {
   "cell_type": "code",
   "execution_count": 40,
   "metadata": {},
   "outputs": [],
   "source": [
    "encoder_embeddings = Embedding(MAX_ENCODER_WORDS, \n",
    "                               EMBEDDING_DIM, \n",
    "                               weights = [encoder_embeddings_weights], \n",
    "                               input_length=MAX_SEQUENCE_LENGTH)\n",
    "\n",
    "#IF we had the pretrained weights for the spanish vocabulary we could use it here as well.\n",
    "#Do not fix the input_length as it will be variable when we generate new sentences after training.\n",
    "decoder_embeddings = Embedding(MAX_DECODER_WORDS,\n",
    "                               EMBEDDING_DIM)\n",
    "\n"
   ]
  },
  {
   "cell_type": "code",
   "execution_count": 41,
   "metadata": {},
   "outputs": [],
   "source": [
    "#Encoder\n",
    "encoder_input = Input([MAX_ENCODER_LENGTH,])\n",
    "embedded_input = encoder_embeddings(encoder_input)\n",
    "encoder_lstm = LSTM(LATENT_DIM, return_state = True) #We don't need the outputs of the encoder\n",
    "__, h_encoder, c_encoder = encoder_lstm(embedded_input)\n"
   ]
  },
  {
   "cell_type": "code",
   "execution_count": 42,
   "metadata": {},
   "outputs": [],
   "source": [
    "#Decoder\n",
    "#We use the decoder_input for teaching.\n",
    "decoder_input = Input([MAX_DECODER_LENGTH,])\n",
    "embedded_decoder_input = decoder_embeddings(decoder_input) #(batch_size, max_sequence_length, embedding_size)\n",
    "decoder_lstm = LSTM(LATENT_DIM, return_state = True, return_sequences = True)\n",
    "decoder_output, h_decoder, c_decoder = decoder_lstm(embedded_decoder_input, initial_state = [h_encoder, c_encoder])\n",
    "dense = Dense(MAX_DECODER_WORDS, activation = 'softmax')\n",
    "output = dense(decoder_output)\n",
    "\n",
    "model = Model(inputs = [encoder_input, decoder_input], outputs = output)\n"
   ]
  },
  {
   "cell_type": "code",
   "execution_count": 43,
   "metadata": {},
   "outputs": [],
   "source": [
    "model.compile(optimizer = Adam(), \n",
    "              loss = 'categorical_crossentropy', \n",
    "              metrics = ['accuracy'])"
   ]
  },
  {
   "cell_type": "code",
   "execution_count": 44,
   "metadata": {},
   "outputs": [
    {
     "name": "stdout",
     "output_type": "stream",
     "text": [
      "Train on 8000 samples, validate on 2000 samples\n",
      "Epoch 1/100\n",
      "8000/8000 [==============================] - 32s 4ms/step - loss: 3.9208 - acc: 0.5786 - val_loss: 3.0104 - val_acc: 0.5537\n",
      "Epoch 2/100\n",
      "8000/8000 [==============================] - 29s 4ms/step - loss: 2.4430 - acc: 0.6438 - val_loss: 2.8255 - val_acc: 0.6043\n",
      "Epoch 3/100\n",
      "8000/8000 [==============================] - 29s 4ms/step - loss: 2.2178 - acc: 0.6965 - val_loss: 2.6509 - val_acc: 0.6551\n",
      "Epoch 4/100\n",
      "8000/8000 [==============================] - 29s 4ms/step - loss: 2.0772 - acc: 0.7055 - val_loss: 2.5576 - val_acc: 0.6597\n",
      "Epoch 5/100\n",
      "8000/8000 [==============================] - 29s 4ms/step - loss: 1.9719 - acc: 0.7104 - val_loss: 2.4832 - val_acc: 0.6644\n",
      "Epoch 6/100\n",
      "8000/8000 [==============================] - 29s 4ms/step - loss: 1.8900 - acc: 0.7182 - val_loss: 2.4308 - val_acc: 0.6766\n",
      "Epoch 7/100\n",
      "8000/8000 [==============================] - 29s 4ms/step - loss: 1.8182 - acc: 0.7260 - val_loss: 2.3984 - val_acc: 0.6764\n",
      "Epoch 8/100\n",
      "8000/8000 [==============================] - 29s 4ms/step - loss: 1.7522 - acc: 0.7300 - val_loss: 2.3576 - val_acc: 0.6814\n",
      "Epoch 9/100\n",
      "8000/8000 [==============================] - 29s 4ms/step - loss: 1.6920 - acc: 0.7339 - val_loss: 2.3400 - val_acc: 0.6813\n",
      "Epoch 10/100\n",
      "8000/8000 [==============================] - 29s 4ms/step - loss: 1.6336 - acc: 0.7392 - val_loss: 2.3169 - val_acc: 0.6863\n",
      "Epoch 11/100\n",
      "8000/8000 [==============================] - 29s 4ms/step - loss: 1.5770 - acc: 0.7444 - val_loss: 2.3000 - val_acc: 0.6886\n",
      "Epoch 12/100\n",
      "8000/8000 [==============================] - 29s 4ms/step - loss: 1.5234 - acc: 0.7487 - val_loss: 2.2881 - val_acc: 0.6914\n",
      "Epoch 13/100\n",
      "8000/8000 [==============================] - 29s 4ms/step - loss: 1.4709 - acc: 0.7536 - val_loss: 2.2770 - val_acc: 0.6926\n",
      "Epoch 14/100\n",
      "8000/8000 [==============================] - 29s 4ms/step - loss: 1.4214 - acc: 0.7581 - val_loss: 2.2636 - val_acc: 0.6967\n",
      "Epoch 15/100\n",
      "8000/8000 [==============================] - 29s 4ms/step - loss: 1.3713 - acc: 0.7630 - val_loss: 2.2411 - val_acc: 0.7015\n",
      "Epoch 16/100\n",
      "8000/8000 [==============================] - 29s 4ms/step - loss: 1.3234 - acc: 0.7679 - val_loss: 2.2348 - val_acc: 0.7029\n",
      "Epoch 17/100\n",
      "8000/8000 [==============================] - 29s 4ms/step - loss: 1.2757 - acc: 0.7718 - val_loss: 2.2282 - val_acc: 0.7036\n",
      "Epoch 18/100\n",
      "8000/8000 [==============================] - 29s 4ms/step - loss: 1.2297 - acc: 0.7755 - val_loss: 2.2193 - val_acc: 0.7049\n",
      "Epoch 19/100\n",
      "8000/8000 [==============================] - 29s 4ms/step - loss: 1.1848 - acc: 0.7807 - val_loss: 2.2071 - val_acc: 0.7096\n",
      "Epoch 20/100\n",
      "8000/8000 [==============================] - 29s 4ms/step - loss: 1.1410 - acc: 0.7855 - val_loss: 2.1980 - val_acc: 0.7123\n",
      "Epoch 21/100\n",
      "8000/8000 [==============================] - 29s 4ms/step - loss: 1.0988 - acc: 0.7911 - val_loss: 2.1951 - val_acc: 0.7144\n",
      "Epoch 22/100\n",
      "8000/8000 [==============================] - 29s 4ms/step - loss: 1.0584 - acc: 0.7950 - val_loss: 2.1910 - val_acc: 0.7157\n",
      "Epoch 23/100\n",
      "8000/8000 [==============================] - 29s 4ms/step - loss: 1.0196 - acc: 0.7997 - val_loss: 2.1910 - val_acc: 0.7153\n",
      "Epoch 24/100\n",
      "8000/8000 [==============================] - 29s 4ms/step - loss: 0.9825 - acc: 0.8044 - val_loss: 2.1842 - val_acc: 0.7178\n",
      "Epoch 25/100\n",
      "8000/8000 [==============================] - 29s 4ms/step - loss: 0.9462 - acc: 0.8085 - val_loss: 2.1879 - val_acc: 0.7194\n",
      "Epoch 26/100\n",
      "8000/8000 [==============================] - 29s 4ms/step - loss: 0.9124 - acc: 0.8128 - val_loss: 2.1918 - val_acc: 0.7187\n",
      "Epoch 27/100\n",
      "8000/8000 [==============================] - 29s 4ms/step - loss: 0.8797 - acc: 0.8176 - val_loss: 2.1879 - val_acc: 0.7226\n",
      "Epoch 28/100\n",
      "8000/8000 [==============================] - 29s 4ms/step - loss: 0.8478 - acc: 0.8223 - val_loss: 2.1870 - val_acc: 0.7227\n",
      "Epoch 29/100\n",
      "8000/8000 [==============================] - 29s 4ms/step - loss: 0.8181 - acc: 0.8264 - val_loss: 2.1898 - val_acc: 0.7231\n",
      "Epoch 30/100\n",
      "8000/8000 [==============================] - 29s 4ms/step - loss: 0.7879 - acc: 0.8312 - val_loss: 2.1981 - val_acc: 0.7228\n",
      "Epoch 31/100\n",
      "8000/8000 [==============================] - 29s 4ms/step - loss: 0.7610 - acc: 0.8355 - val_loss: 2.1884 - val_acc: 0.7250\n",
      "Epoch 32/100\n",
      "8000/8000 [==============================] - 29s 4ms/step - loss: 0.7320 - acc: 0.8410 - val_loss: 2.1973 - val_acc: 0.7234\n",
      "Epoch 33/100\n",
      "8000/8000 [==============================] - 29s 4ms/step - loss: 0.7053 - acc: 0.8456 - val_loss: 2.2037 - val_acc: 0.7223\n",
      "Epoch 34/100\n",
      "8000/8000 [==============================] - 29s 4ms/step - loss: 0.6821 - acc: 0.8492 - val_loss: 2.2019 - val_acc: 0.7249\n",
      "Epoch 35/100\n",
      "8000/8000 [==============================] - 30s 4ms/step - loss: 0.6578 - acc: 0.8537 - val_loss: 2.2049 - val_acc: 0.7238\n",
      "Epoch 36/100\n",
      "8000/8000 [==============================] - 29s 4ms/step - loss: 0.6343 - acc: 0.8582 - val_loss: 2.2052 - val_acc: 0.7241\n",
      "Epoch 37/100\n",
      "8000/8000 [==============================] - 29s 4ms/step - loss: 0.6125 - acc: 0.8620 - val_loss: 2.2155 - val_acc: 0.7229\n",
      "Epoch 38/100\n",
      "8000/8000 [==============================] - 29s 4ms/step - loss: 0.5918 - acc: 0.8655 - val_loss: 2.2116 - val_acc: 0.7247\n",
      "Epoch 39/100\n",
      "8000/8000 [==============================] - 29s 4ms/step - loss: 0.5715 - acc: 0.8687 - val_loss: 2.2136 - val_acc: 0.7263\n",
      "Epoch 40/100\n",
      "8000/8000 [==============================] - 29s 4ms/step - loss: 0.5508 - acc: 0.8735 - val_loss: 2.2272 - val_acc: 0.7227\n",
      "Epoch 41/100\n",
      "8000/8000 [==============================] - 29s 4ms/step - loss: 0.5316 - acc: 0.8772 - val_loss: 2.2323 - val_acc: 0.7227\n",
      "Epoch 42/100\n",
      "8000/8000 [==============================] - 29s 4ms/step - loss: 0.5136 - acc: 0.8803 - val_loss: 2.2253 - val_acc: 0.7261\n",
      "Epoch 43/100\n",
      "8000/8000 [==============================] - 29s 4ms/step - loss: 0.4957 - acc: 0.8842 - val_loss: 2.2339 - val_acc: 0.7245\n",
      "Epoch 44/100\n",
      "8000/8000 [==============================] - 29s 4ms/step - loss: 0.4781 - acc: 0.8876 - val_loss: 2.2432 - val_acc: 0.7247\n",
      "Epoch 45/100\n",
      "8000/8000 [==============================] - 29s 4ms/step - loss: 0.4623 - acc: 0.8910 - val_loss: 2.2441 - val_acc: 0.7232\n",
      "Epoch 46/100\n",
      "8000/8000 [==============================] - 29s 4ms/step - loss: 0.4465 - acc: 0.8932 - val_loss: 2.2449 - val_acc: 0.7240\n",
      "Epoch 47/100\n",
      "8000/8000 [==============================] - 30s 4ms/step - loss: 0.4320 - acc: 0.8967 - val_loss: 2.2491 - val_acc: 0.7236\n",
      "Epoch 48/100\n",
      "8000/8000 [==============================] - 30s 4ms/step - loss: 0.4169 - acc: 0.8999 - val_loss: 2.2516 - val_acc: 0.7226\n",
      "Epoch 49/100\n",
      "8000/8000 [==============================] - 29s 4ms/step - loss: 0.4034 - acc: 0.9024 - val_loss: 2.2639 - val_acc: 0.7232\n",
      "Epoch 50/100\n",
      "8000/8000 [==============================] - 29s 4ms/step - loss: 0.3888 - acc: 0.9045 - val_loss: 2.2635 - val_acc: 0.7236\n",
      "Epoch 51/100\n",
      "8000/8000 [==============================] - 29s 4ms/step - loss: 0.3771 - acc: 0.9077 - val_loss: 2.2662 - val_acc: 0.7251\n",
      "Epoch 52/100\n",
      "8000/8000 [==============================] - 29s 4ms/step - loss: 0.3642 - acc: 0.9098 - val_loss: 2.2747 - val_acc: 0.7245\n",
      "Epoch 53/100\n",
      "8000/8000 [==============================] - 29s 4ms/step - loss: 0.3521 - acc: 0.9118 - val_loss: 2.2715 - val_acc: 0.7250\n",
      "Epoch 54/100\n",
      "8000/8000 [==============================] - 29s 4ms/step - loss: 0.3407 - acc: 0.9140 - val_loss: 2.2769 - val_acc: 0.7271\n",
      "Epoch 55/100\n",
      "8000/8000 [==============================] - 29s 4ms/step - loss: 0.3295 - acc: 0.9178 - val_loss: 2.2807 - val_acc: 0.7251\n",
      "Epoch 56/100\n",
      "8000/8000 [==============================] - 29s 4ms/step - loss: 0.3178 - acc: 0.9193 - val_loss: 2.2851 - val_acc: 0.7239\n",
      "Epoch 57/100\n",
      "8000/8000 [==============================] - 29s 4ms/step - loss: 0.3070 - acc: 0.9225 - val_loss: 2.2906 - val_acc: 0.7243\n",
      "Epoch 58/100\n",
      "8000/8000 [==============================] - 29s 4ms/step - loss: 0.2968 - acc: 0.9236 - val_loss: 2.2998 - val_acc: 0.7249\n",
      "Epoch 59/100\n",
      "8000/8000 [==============================] - 29s 4ms/step - loss: 0.2875 - acc: 0.9255 - val_loss: 2.2995 - val_acc: 0.7233\n",
      "Epoch 60/100\n"
     ]
    },
    {
     "name": "stdout",
     "output_type": "stream",
     "text": [
      "8000/8000 [==============================] - 29s 4ms/step - loss: 0.2793 - acc: 0.9282 - val_loss: 2.3041 - val_acc: 0.7252\n",
      "Epoch 61/100\n",
      "8000/8000 [==============================] - 29s 4ms/step - loss: 0.2701 - acc: 0.9292 - val_loss: 2.3019 - val_acc: 0.7254\n",
      "Epoch 62/100\n",
      "8000/8000 [==============================] - 32s 4ms/step - loss: 0.2606 - acc: 0.9316 - val_loss: 2.3096 - val_acc: 0.7239\n",
      "Epoch 63/100\n",
      "8000/8000 [==============================] - 29s 4ms/step - loss: 0.2528 - acc: 0.9331 - val_loss: 2.3195 - val_acc: 0.7243\n",
      "Epoch 64/100\n",
      "8000/8000 [==============================] - 29s 4ms/step - loss: 0.2445 - acc: 0.9351 - val_loss: 2.3213 - val_acc: 0.7248\n",
      "Epoch 65/100\n",
      "8000/8000 [==============================] - 29s 4ms/step - loss: 0.2376 - acc: 0.9358 - val_loss: 2.3247 - val_acc: 0.7249\n",
      "Epoch 66/100\n",
      "8000/8000 [==============================] - 29s 4ms/step - loss: 0.2295 - acc: 0.9371 - val_loss: 2.3319 - val_acc: 0.7251\n",
      "Epoch 67/100\n",
      "8000/8000 [==============================] - 29s 4ms/step - loss: 0.2227 - acc: 0.9395 - val_loss: 2.3323 - val_acc: 0.7252\n",
      "Epoch 68/100\n",
      "8000/8000 [==============================] - 29s 4ms/step - loss: 0.2165 - acc: 0.9407 - val_loss: 2.3418 - val_acc: 0.7249\n",
      "Epoch 69/100\n",
      "8000/8000 [==============================] - 29s 4ms/step - loss: 0.2096 - acc: 0.9414 - val_loss: 2.3431 - val_acc: 0.7247\n",
      "Epoch 70/100\n",
      "8000/8000 [==============================] - 29s 4ms/step - loss: 0.2037 - acc: 0.9430 - val_loss: 2.3355 - val_acc: 0.7271\n",
      "Epoch 71/100\n",
      "8000/8000 [==============================] - 29s 4ms/step - loss: 0.1977 - acc: 0.9437 - val_loss: 2.3480 - val_acc: 0.7248\n",
      "Epoch 72/100\n",
      "8000/8000 [==============================] - 29s 4ms/step - loss: 0.1910 - acc: 0.9453 - val_loss: 2.3586 - val_acc: 0.7239\n",
      "Epoch 73/100\n",
      "8000/8000 [==============================] - 29s 4ms/step - loss: 0.1867 - acc: 0.9461 - val_loss: 2.3535 - val_acc: 0.7262\n",
      "Epoch 74/100\n",
      "8000/8000 [==============================] - 29s 4ms/step - loss: 0.1819 - acc: 0.9464 - val_loss: 2.3682 - val_acc: 0.7238\n",
      "Epoch 75/100\n",
      "8000/8000 [==============================] - 29s 4ms/step - loss: 0.1763 - acc: 0.9473 - val_loss: 2.3779 - val_acc: 0.7252\n",
      "Epoch 76/100\n",
      "8000/8000 [==============================] - 29s 4ms/step - loss: 0.1711 - acc: 0.9486 - val_loss: 2.3704 - val_acc: 0.7246\n",
      "Epoch 77/100\n",
      "8000/8000 [==============================] - 29s 4ms/step - loss: 0.1667 - acc: 0.9490 - val_loss: 2.3795 - val_acc: 0.7257\n",
      "Epoch 78/100\n",
      "8000/8000 [==============================] - 29s 4ms/step - loss: 0.1629 - acc: 0.9501 - val_loss: 2.3797 - val_acc: 0.7243\n",
      "Epoch 79/100\n",
      "8000/8000 [==============================] - 29s 4ms/step - loss: 0.1587 - acc: 0.9508 - val_loss: 2.3882 - val_acc: 0.7247\n",
      "Epoch 80/100\n",
      "8000/8000 [==============================] - 29s 4ms/step - loss: 0.1548 - acc: 0.9513 - val_loss: 2.3938 - val_acc: 0.7233\n",
      "Epoch 81/100\n",
      "8000/8000 [==============================] - 29s 4ms/step - loss: 0.1507 - acc: 0.9520 - val_loss: 2.3985 - val_acc: 0.7244\n",
      "Epoch 82/100\n",
      "8000/8000 [==============================] - 29s 4ms/step - loss: 0.1476 - acc: 0.9519 - val_loss: 2.3981 - val_acc: 0.7257\n",
      "Epoch 83/100\n",
      "8000/8000 [==============================] - 29s 4ms/step - loss: 0.1439 - acc: 0.9523 - val_loss: 2.4037 - val_acc: 0.7244\n",
      "Epoch 84/100\n",
      "8000/8000 [==============================] - 28s 4ms/step - loss: 0.1417 - acc: 0.9523 - val_loss: 2.4080 - val_acc: 0.7241\n",
      "Epoch 85/100\n",
      "8000/8000 [==============================] - 29s 4ms/step - loss: 0.1380 - acc: 0.9532 - val_loss: 2.4158 - val_acc: 0.7252\n",
      "Epoch 86/100\n",
      "8000/8000 [==============================] - 29s 4ms/step - loss: 0.1346 - acc: 0.9541 - val_loss: 2.4203 - val_acc: 0.7233\n",
      "Epoch 87/100\n",
      "8000/8000 [==============================] - 29s 4ms/step - loss: 0.1319 - acc: 0.9535 - val_loss: 2.4213 - val_acc: 0.7231\n",
      "Epoch 88/100\n",
      "8000/8000 [==============================] - 29s 4ms/step - loss: 0.1283 - acc: 0.9544 - val_loss: 2.4317 - val_acc: 0.7229\n",
      "Epoch 89/100\n",
      "8000/8000 [==============================] - 29s 4ms/step - loss: 0.1261 - acc: 0.9550 - val_loss: 2.4239 - val_acc: 0.7262\n",
      "Epoch 90/100\n",
      "8000/8000 [==============================] - 29s 4ms/step - loss: 0.1240 - acc: 0.9547 - val_loss: 2.4326 - val_acc: 0.7249\n",
      "Epoch 91/100\n",
      "8000/8000 [==============================] - 29s 4ms/step - loss: 0.1219 - acc: 0.9548 - val_loss: 2.4384 - val_acc: 0.7248\n",
      "Epoch 92/100\n",
      "8000/8000 [==============================] - 29s 4ms/step - loss: 0.1196 - acc: 0.9557 - val_loss: 2.4485 - val_acc: 0.7237\n",
      "Epoch 93/100\n",
      "8000/8000 [==============================] - 29s 4ms/step - loss: 0.1171 - acc: 0.9555 - val_loss: 2.4471 - val_acc: 0.7238\n",
      "Epoch 94/100\n",
      "8000/8000 [==============================] - 28s 4ms/step - loss: 0.1158 - acc: 0.9557 - val_loss: 2.4483 - val_acc: 0.7236\n",
      "Epoch 95/100\n",
      "8000/8000 [==============================] - 29s 4ms/step - loss: 0.1131 - acc: 0.9557 - val_loss: 2.4539 - val_acc: 0.7245\n",
      "Epoch 96/100\n",
      "8000/8000 [==============================] - 29s 4ms/step - loss: 0.1110 - acc: 0.9563 - val_loss: 2.4518 - val_acc: 0.7237\n",
      "Epoch 97/100\n",
      "8000/8000 [==============================] - 29s 4ms/step - loss: 0.1093 - acc: 0.9559 - val_loss: 2.4686 - val_acc: 0.7226\n",
      "Epoch 98/100\n",
      "8000/8000 [==============================] - 29s 4ms/step - loss: 0.1077 - acc: 0.9567 - val_loss: 2.4694 - val_acc: 0.7238\n",
      "Epoch 99/100\n",
      "8000/8000 [==============================] - 30s 4ms/step - loss: 0.1064 - acc: 0.9563 - val_loss: 2.4722 - val_acc: 0.7231\n",
      "Epoch 100/100\n",
      "8000/8000 [==============================] - 28s 4ms/step - loss: 0.1052 - acc: 0.9566 - val_loss: 2.4738 - val_acc: 0.7239\n"
     ]
    }
   ],
   "source": [
    "r = model.fit(x = [encoder_sequences_padded, decoder_sequences_input_padded], \n",
    "          y = decoder_targets, \n",
    "          epochs = 100, \n",
    "          batch_size= BATCH_SIZE, validation_split = 0.2)"
   ]
  },
  {
   "cell_type": "code",
   "execution_count": 45,
   "metadata": {},
   "outputs": [],
   "source": [
    "#model.save_weights(\"./seq2seq_traductor.h5\")"
   ]
  },
  {
   "cell_type": "code",
   "execution_count": 46,
   "metadata": {},
   "outputs": [
    {
     "data": {
      "image/png": "[encoded data removed]",
      "text/plain": [
       "<Figure size 432x288 with 1 Axes>"
      ]
     },
     "metadata": {},
     "output_type": "display_data"
    }
   ],
   "source": [
    "import matplotlib.pyplot as plt\n",
    "plt.plot(r.history['acc'], label = 'train accuracy')\n",
    "plt.plot(r.history['val_acc'], label = 'val accuracy')\n",
    "plt.xlabel(\"Epochs\")\n",
    "plt.ylabel(\"Loss\")\n",
    "plt.legend()\n",
    "plt.show()"
   ]
  },
  {
   "cell_type": "code",
   "execution_count": 47,
   "metadata": {},
   "outputs": [
    {
     "data": {
      "image/png": "[encoded data removed]",
      "text/plain": [
       "<Figure size 432x288 with 1 Axes>"
      ]
     },
     "metadata": {},
     "output_type": "display_data"
    }
   ],
   "source": [
    "plt.plot(r.history['loss'], label = 'train loss')\n",
    "plt.plot(r.history['val_loss'], label = 'val loss')\n",
    "plt.xlabel(\"Epochs\")\n",
    "plt.ylabel(\"Loss\")\n",
    "plt.legend()\n",
    "plt.show()"
   ]
  },
  {
   "cell_type": "code",
   "execution_count": 48,
   "metadata": {},
   "outputs": [],
   "source": [
    "#During prediction, use the decoder to output the hidden state.\n",
    "encoder_prediction_model = Model(inputs = [encoder_input], outputs = [h_encoder, c_encoder])"
   ]
  },
  {
   "cell_type": "code",
   "execution_count": 49,
   "metadata": {},
   "outputs": [],
   "source": [
    "#Once we get the hidden state, pass it to the decoder that along the decoder input will output word indexes.\n",
    "input_decoder2 = Input([1, ])\n",
    "input_h = Input([LATENT_DIM, ])\n",
    "input_c = Input([LATENT_DIM, ])\n",
    "embedded_decoder_input2 = decoder_embeddings(input_decoder2)\n",
    "o2, h2, c2 = decoder_lstm(embedded_decoder_input2, initial_state=[input_h, input_c])\n",
    "outputs2 = dense(o2)\n",
    "decoder_prediction_model = Model(inputs = [input_decoder2, input_h, input_c], outputs = [outputs2, h2, c2])"
   ]
  },
  {
   "cell_type": "code",
   "execution_count": 50,
   "metadata": {},
   "outputs": [],
   "source": [
    "#Sample sentence.\n",
    "def sample_sentence(encoder_sentence):\n",
    "    encoder_sequence = encoder_tokenizer.texts_to_sequences([encoder_sentence])\n",
    "    encoder_sequence_padded = pad_sequences(encoder_sequence, maxlen = MAX_ENCODER_LENGTH, padding = \"post\")\n",
    "    h_s, c_s = encoder_prediction_model.predict(np.array(encoder_sequence_padded))\n",
    "    decoder_input_init = np.array([[decoder_tokenizer.word_index['<sos>']]])\n",
    "    \n",
    "    decoder_input_ = decoder_input_init\n",
    "    decoder_sentence = []\n",
    "    #Use a loop to feed the decoder input with the last decoder output.\n",
    "    for i in range(MAX_SEQUENCE_LENGTH):\n",
    "        probs, h_s, c_s = decoder_prediction_model.predict([decoder_input_, h_s, c_s])\n",
    "        #Do not take into account the first column.\n",
    "        word_idx = np.argmax(probs[0, 0, 1:]) + 1\n",
    "        word = decoder_index2word[word_idx]\n",
    "        #If end of sentence token, break;\n",
    "        if word == '<eos>':\n",
    "            break;\n",
    "        \n",
    "        decoder_input_[0, 0] = word_idx;\n",
    "        decoder_sentence.append(word)\n",
    "    return ' '.join(decoder_sentence);"
   ]
  },
  {
   "cell_type": "code",
   "execution_count": 53,
   "metadata": {},
   "outputs": [
    {
     "name": "stdout",
     "output_type": "stream",
     "text": [
      "English sentence: Who is this boy? \n",
      "Spanish translation: ¿quién es un mentiroso.\n",
      "\n",
      "English sentence: I like old cars. \n",
      "Spanish translation: me gusta el pollo.\n",
      "\n",
      "English sentence: Stay still. \n",
      "Spanish translation: no te muevas.\n",
      "\n",
      "English sentence: He had a stroke. \n",
      "Spanish translation: él tuvo un golpe.\n",
      "\n",
      "English sentence: Why is this? \n",
      "Spanish translation: ¿a qué viene esto?\n",
      "\n",
      "English sentence: Sit down! \n",
      "Spanish translation: ¡sentate!\n",
      "\n",
      "English sentence: Tom drove fast. \n",
      "Spanish translation: tom condujo rápido.\n",
      "\n",
      "English sentence: Let's go by bus. \n",
      "Spanish translation: vuelve con coche.\n",
      "\n",
      "English sentence: Let's do it! \n",
      "Spanish translation: ¡hagámoslo!\n",
      "\n",
      "English sentence: Stuff happens. \n",
      "Spanish translation: las cosas pasan.\n",
      "\n"
     ]
    }
   ],
   "source": [
    "n_examples = 10\n",
    "for i in range(n_examples):\n",
    "    sample_index = np.random.choice(len(encoder_sentences));\n",
    "    print(\"English sentence:\", encoder_sentences[sample_index], \n",
    "          \"\\nSpanish translation:\", sample_sentence(encoder_sentences[sample_index]))\n",
    "    print()"
   ]
  },
  {
   "cell_type": "code",
   "execution_count": null,
   "metadata": {},
   "outputs": [],
   "source": []
  }
 ],
 "metadata": {
  "kernelspec": {
   "display_name": "Python 3",
   "language": "python",
   "name": "python3"
  },
  "language_info": {
   "codemirror_mode": {
    "name": "ipython",
    "version": 3
   },
   "file_extension": ".py",
   "mimetype": "text/x-python",
   "name": "python",
   "nbconvert_exporter": "python",
   "pygments_lexer": "ipython3",
   "version": "3.5.4"
  }
 },
 "nbformat": 4,
 "nbformat_minor": 2
}
