{
 "cells": [
  {
   "cell_type": "code",
   "execution_count": 55,
   "metadata": {},
   "outputs": [],
   "source": [
    "import numpy as np\n",
    "from keras.utils.data_utils import get_file\n",
    "import tarfile\n",
    "from keras.preprocessing.sequence import pad_sequences\n",
    "from keras.optimizers import Adam, RMSprop\n",
    "from keras.layers import Embedding, Input\n",
    "import keras.backend as K\n",
    "from keras.layers import Lambda, Reshape, Dense\n",
    "from keras.layers import Dot, Flatten, Activation\n",
    "from keras.models import Model\n",
    "import matplotlib.pyplot as plt\n",
    "\n",
    "#Notebook that explores Memory networks.\n",
    "#In particular we takle the tasks of query answering given a story using the single supporting fact and \n",
    "#two supporting facts datasets.\n",
    "\n"
   ]
  },
  {
   "cell_type": "code",
   "execution_count": 2,
   "metadata": {},
   "outputs": [],
   "source": [
    "#Gets the file at the provided url and saves it into disk.\n",
    "path = get_file(\n",
    "  'babi-tasks-v1-2.tar.gz', \n",
    "  origin='https://s3.amazonaws.com/text-datasets/babi_tasks_1-20_v1-2.tar.gz')"
   ]
  },
  {
   "cell_type": "code",
   "execution_count": 3,
   "metadata": {},
   "outputs": [],
   "source": [
    "tar = tarfile.open(path)"
   ]
  },
  {
   "cell_type": "code",
   "execution_count": 4,
   "metadata": {},
   "outputs": [],
   "source": [
    "f_test = tar.extractfile(\"tasks_1-20_v1-2/en-10k/qa1_single-supporting-fact_train.txt\")"
   ]
  },
  {
   "cell_type": "code",
   "execution_count": 5,
   "metadata": {},
   "outputs": [],
   "source": [
    "import re\n",
    "#Tokenizes a sentence.\n",
    "def tokenize(s):\n",
    "    tokens = [word.strip() for word in re.split(r'(\\W+)', s)]\n",
    "    return [word for word in tokens if len(word)>0]"
   ]
  },
  {
   "cell_type": "code",
   "execution_count": null,
   "metadata": {},
   "outputs": [],
   "source": []
  },
  {
   "cell_type": "code",
   "execution_count": 6,
   "metadata": {},
   "outputs": [],
   "source": [
    "#Untars the dataset file and preprocesses it into lists of word sequences.\n",
    "def get_stories_from_tar_file(path):\n",
    "    f = tar.extractfile(path)\n",
    "    stories = []\n",
    "    supporting_facts = []\n",
    "    story = []\n",
    "    for index, line in enumerate(f):\n",
    "        #print(line)\n",
    "        line = line.decode('utf-8').strip()\n",
    "\n",
    "        split_ind = line.index(\" \")\n",
    "        number = line[:split_ind]\n",
    "        #print(\"Number:\", number, len(number))\n",
    "        text = line[split_ind + 1:]\n",
    "\n",
    "        #print(\"Number:\", number, \"Text:\", text)\n",
    "\n",
    "        if(index != 0):\n",
    "            if((number == \"1\")):\n",
    "                #print(\"Initializing story\")\n",
    "                stories.append(story)\n",
    "                supporting_facts = []\n",
    "                story = []\n",
    "                #print(stories)\n",
    "\n",
    "        if(\"\\t\" in text):\n",
    "            #Get the question and answer\n",
    "            question, answer, support = text.split(\"\\t\");\n",
    "            question_tokens = tokenize(question); \n",
    "            facts_question_answer = (supporting_facts[:], question_tokens, answer)\n",
    "            story.append(facts_question_answer)\n",
    "        else:\n",
    "            sentence = tokenize(text);\n",
    "            supporting_facts.append([number] + sentence);\n",
    "            \n",
    "    stories.append(story)\n",
    "            \n",
    "    return stories;\n",
    "\n"
   ]
  },
  {
   "cell_type": "code",
   "execution_count": 7,
   "metadata": {},
   "outputs": [],
   "source": [
    "#Calculates the vocabulary and creates a word to index map\n",
    "def get_vocabulary_dictionaries(stories):\n",
    "    words = []\n",
    "    for story in stories:\n",
    "        for (facts, question, answer) in story:\n",
    "            for fact in facts:\n",
    "                for word in fact:\n",
    "                    words.append(word);\n",
    "            for word in question:\n",
    "                words.append(word);\n",
    "            words.append(answer);\n",
    "\n",
    "    #print(words)\n",
    "    vocabulary = set(words)\n",
    "\n",
    "    word2idx = {word:index + 1 for index, word in enumerate(vocabulary)}\n",
    "    word2idx[\"<P>\"] = 0;\n",
    "    return word2idx;"
   ]
  },
  {
   "cell_type": "code",
   "execution_count": 8,
   "metadata": {},
   "outputs": [],
   "source": [
    "#Transforms the datasets from lists of words to lists of indexes (at the different list levels)\n",
    "def transform_to_idx(stories, word2idx):\n",
    "    story_facts = []\n",
    "    story_questions = []\n",
    "    story_answers = []\n",
    "\n",
    "    for story in stories:\n",
    "\n",
    "        for (facts, question, answer) in story:\n",
    "            support_facts_idxs = []\n",
    "            question_idxs = []\n",
    "            for fact in facts:\n",
    "                fact_idxs = []\n",
    "                #print(fact)\n",
    "                for word in fact:\n",
    "                    fact_idxs.append(word2idx[word]);\n",
    "                support_facts_idxs.append(fact_idxs)\n",
    "\n",
    "            for word in question:\n",
    "                question_idxs.append(word2idx[word]);\n",
    "\n",
    "\n",
    "            story_facts.append(support_facts_idxs)\n",
    "            story_questions.append(question_idxs)\n",
    "            story_answers.append(word2idx[answer])\n",
    "        \n",
    "    return story_facts, story_questions, story_answers;\n"
   ]
  },
  {
   "cell_type": "code",
   "execution_count": 9,
   "metadata": {},
   "outputs": [],
   "source": [
    "#Pads the stories, sentences and questions.\n",
    "def pad_facts_and_questions(story_facts, story_questions, max_length_story, max_length_fact, max_length_question):\n",
    "    questions_padded = pad_sequences(story_questions, maxlen = max_length_question)\n",
    "    facts_padded = []\n",
    "    for facts in story_facts:\n",
    "        fact_padded = pad_sequences(facts, maxlen=max_length_fact, padding = \"post\")\n",
    "        fact_padded = np.concatenate((fact_padded, np.zeros((max_length_story - len(fact_padded), max_length_fact), dtype = int)))\n",
    "        facts_padded.append(fact_padded)\n",
    "    return np.stack(facts_padded), np.array(questions_padded)"
   ]
  },
  {
   "cell_type": "code",
   "execution_count": 10,
   "metadata": {},
   "outputs": [],
   "source": [
    "SINGLE_SUPPORTING_FACT_FILES = {\"train_file\": \"tasks_1-20_v1-2/en-10k/qa1_single-supporting-fact_train.txt\",\n",
    "                               \"test_file\": \"tasks_1-20_v1-2/en-10k/qa1_single-supporting-fact_test.txt\"}\n",
    "\n",
    "TWO_SUPPORTING_FACT_FILES = {\"train_file\": \"tasks_1-20_v1-2/en-10k/qa2_two-supporting-facts_train.txt\",\n",
    "                               \"test_file\": \"tasks_1-20_v1-2/en-10k/qa2_two-supporting-facts_test.txt\"}"
   ]
  },
  {
   "cell_type": "code",
   "execution_count": 11,
   "metadata": {},
   "outputs": [],
   "source": [
    "#Retrieves the dataset correspoing to the single supporting fact task or the two supporting facts task.\n",
    "\n",
    "def get_task_data_sets(task):\n",
    "    \n",
    "    train_stories = get_stories_from_tar_file(task[\"train_file\"])\n",
    "    test_stories = get_stories_from_tar_file(task[\"test_file\"])\n",
    "\n",
    "    #Computes the vocabulary available in the train and test sets.\n",
    "    word2idx = get_vocabulary_dictionaries(train_stories + test_stories)\n",
    "    #Transforms the texts into indexes given a vocabulary map.\n",
    "    train_facts, train_questions, train_answers = transform_to_idx(train_stories, word2idx)\n",
    "    test_facts, test_questions, test_answers = transform_to_idx(test_stories, word2idx)\n",
    "\n",
    "    max_length_question = max([len(questions) for questions in train_questions + test_questions])\n",
    "    max_length_story = max([len(facts) for facts in train_facts + test_facts])\n",
    "    max_length_fact = 0;\n",
    "    for facts in train_facts + test_facts:\n",
    "        max_length = max([len(fact) for fact in facts])\n",
    "        max_length_fact = max(max_length_fact, max_length)\n",
    "\n",
    "    #Pads the stories, sentences and the sentences.\n",
    "    train_facts_padded, train_questions_padded = pad_facts_and_questions(train_facts, train_questions, max_length_story, max_length_fact, max_length_question);\n",
    "    test_facts_padded, test_questions_padded = pad_facts_and_questions(test_facts, test_questions, max_length_story, max_length_fact, max_length_question);\n",
    "    return (train_facts_padded, train_questions_padded, np.array(train_answers).reshape((-1, 1))), (test_facts_padded, test_questions_padded, np.array(test_answers).reshape((-1, 1))), word2idx"
   ]
  },
  {
   "cell_type": "code",
   "execution_count": 93,
   "metadata": {},
   "outputs": [
    {
     "data": {
      "text/plain": [
       "(32, 10, 8, 4)"
      ]
     },
     "execution_count": 93,
     "metadata": {},
     "output_type": "execute_result"
    }
   ],
   "source": [
    "X_train, X_test, word2idx = get_task_data_sets(SINGLE_SUPPORTING_FACT_FILES)\n",
    "idx2word = {idx:word for word, idx in word2idx.items()}\n",
    "MAX_VOCABULARY = len(word2idx);\n",
    "MAX_STORY_LENGTH = X_train[0].shape[1]\n",
    "MAX_FACT_LENGTH = X_train[0].shape[2]\n",
    "MAX_QUESTION_LENGTH = X_train[1].shape[1]\n",
    "MAX_VOCABULARY, MAX_STORY_LENGTH, MAX_FACT_LENGTH, MAX_QUESTION_LENGTH"
   ]
  },
  {
   "cell_type": "code",
   "execution_count": 94,
   "metadata": {},
   "outputs": [],
   "source": [
    "#SINGLE SUPPORTING FACT\n",
    "\n",
    "#Build the model.\n",
    "\n",
    "EMBEDDING_DIM = 15\n",
    "input_facts = Input(shape=(MAX_STORY_LENGTH, MAX_FACT_LENGTH))\n",
    "embeddings = Embedding(MAX_VOCABULARY, EMBEDDING_DIM)\n",
    "sentences_op = embeddings(input_facts)\n",
    "sentences_op = Lambda(lambda x: K.sum(x, axis = 2))(sentences_op)\n"
   ]
  },
  {
   "cell_type": "code",
   "execution_count": 95,
   "metadata": {},
   "outputs": [],
   "source": [
    "input_question = Input(shape=(MAX_QUESTION_LENGTH, ))\n",
    "embeddings_question = Embedding(MAX_VOCABULARY, EMBEDDING_DIM)\n",
    "question_op = embeddings_question(input_question)\n",
    "question_op = Lambda(lambda x: K.sum(x, axis = 1))(question_op)\n",
    "question_op = Reshape((1, EMBEDDING_DIM))(question_op)\n"
   ]
  },
  {
   "cell_type": "code",
   "execution_count": 96,
   "metadata": {},
   "outputs": [],
   "source": [
    "from keras.layers import Dot, Flatten, Activation, dot\n",
    "#Create weights using the dot product between the question and the sentences in a story.\n",
    "weights = Dot(axes = 2)([sentences_op, question_op])\n",
    "weights = Reshape((MAX_STORY_LENGTH,))(weights) #We can use flatten as well but this way we can control the output dimension.\n",
    "weights = Activation(activation = \"softmax\")(weights)\n",
    "weights = Reshape((MAX_STORY_LENGTH, 1))(weights)\n"
   ]
  },
  {
   "cell_type": "code",
   "execution_count": 97,
   "metadata": {},
   "outputs": [],
   "source": [
    "s_relevant = Dot(axes = 1)([sentences_op, weights])\n",
    "s_relevant = Reshape((EMBEDDING_DIM, ))(s_relevant)"
   ]
  },
  {
   "cell_type": "code",
   "execution_count": 98,
   "metadata": {},
   "outputs": [],
   "source": [
    "output = Dense(MAX_VOCABULARY, activation = \"softmax\")(s_relevant)"
   ]
  },
  {
   "cell_type": "code",
   "execution_count": 99,
   "metadata": {},
   "outputs": [],
   "source": [
    "from keras.models import Model"
   ]
  },
  {
   "cell_type": "code",
   "execution_count": 100,
   "metadata": {},
   "outputs": [],
   "source": [
    "model = Model(inputs = [input_facts, input_question], outputs = [output])"
   ]
  },
  {
   "cell_type": "code",
   "execution_count": 101,
   "metadata": {},
   "outputs": [
    {
     "name": "stdout",
     "output_type": "stream",
     "text": [
      "Train on 10000 samples, validate on 1000 samples\n",
      "Epoch 1/5\n",
      "10000/10000 [==============================] - 1s 113us/step - loss: 1.8341 - acc: 0.3614 - val_loss: 1.1660 - val_acc: 0.6590\n",
      "Epoch 2/5\n",
      "10000/10000 [==============================] - 1s 56us/step - loss: 0.4174 - acc: 0.8960 - val_loss: 0.0396 - val_acc: 1.0000\n",
      "Epoch 3/5\n",
      "10000/10000 [==============================] - 1s 57us/step - loss: 0.0184 - acc: 1.0000 - val_loss: 0.0089 - val_acc: 1.0000\n",
      "Epoch 4/5\n",
      "10000/10000 [==============================] - 1s 57us/step - loss: 0.0061 - acc: 1.0000 - val_loss: 0.0048 - val_acc: 1.0000\n",
      "Epoch 5/5\n",
      "10000/10000 [==============================] - 1s 59us/step - loss: 0.0035 - acc: 1.0000 - val_loss: 0.0030 - val_acc: 1.0000\n"
     ]
    }
   ],
   "source": [
    "model.compile(optimizer = Adam(lr = 0.01), \n",
    "              loss = 'sparse_categorical_crossentropy', \n",
    "              metrics = [\"accuracy\"])\n",
    "r = model.fit(x = [X_train[0], X_train[1]], \n",
    "          y = X_train[2], \n",
    "          batch_size = 128, \n",
    "          validation_data = ([X_test[0], X_test[1]], X_test[2]), \n",
    "          epochs = 5)"
   ]
  },
  {
   "cell_type": "code",
   "execution_count": 102,
   "metadata": {},
   "outputs": [
    {
     "data": {
      "image/png": "[encoded data removed]",
      "text/plain": [
       "<Figure size 432x288 with 1 Axes>"
      ]
     },
     "metadata": {},
     "output_type": "display_data"
    }
   ],
   "source": [
    "plt.plot(r.history['loss'], label = \"train loss\");\n",
    "plt.plot(r.history['val_loss'], label = \"val loss\");\n",
    "plt.legend()\n",
    "plt.title(\"Loss\")\n",
    "plt.show()"
   ]
  },
  {
   "cell_type": "code",
   "execution_count": 103,
   "metadata": {},
   "outputs": [
    {
     "data": {
      "image/png": "[encoded data removed]",
      "text/plain": [
       "<Figure size 432x288 with 1 Axes>"
      ]
     },
     "metadata": {},
     "output_type": "display_data"
    }
   ],
   "source": [
    "plt.plot(r.history['acc'], label = \"train acc\");\n",
    "plt.plot(r.history['val_acc'], label = \"val acc\");\n",
    "plt.legend()\n",
    "plt.title(\"Accuracy\")\n",
    "plt.show()"
   ]
  },
  {
   "cell_type": "code",
   "execution_count": 105,
   "metadata": {},
   "outputs": [],
   "source": [
    "#Model to get the calculated weights given a story and a query.\n",
    "story_weights_model = Model(inputs = [input_facts, input_question], outputs = [weights, output])"
   ]
  },
  {
   "cell_type": "code",
   "execution_count": 106,
   "metadata": {},
   "outputs": [],
   "source": [
    "#Transform a sequence of word indexes into a word sentence.\n",
    "def to_text(idxs):\n",
    "    words = []\n",
    "    for idx in idxs:\n",
    "        words.append(idx2word[idx])\n",
    "    return \" \".join(words)    "
   ]
  },
  {
   "cell_type": "code",
   "execution_count": 110,
   "metadata": {},
   "outputs": [
    {
     "name": "stdout",
     "output_type": "stream",
     "text": [
      "\n",
      "Question:  Where is Sandra ? Correct: kitchen Prediction: kitchen\n",
      "Story: \n",
      "1 Mary journeyed to the bedroom . <P>\t\t\t0.00\n",
      "2 Sandra travelled to the kitchen . <P>\t\t\t1.00\n",
      "<P> <P> <P> <P> <P> <P> <P> <P>\t\t\t0.00\n",
      "<P> <P> <P> <P> <P> <P> <P> <P>\t\t\t0.00\n",
      "<P> <P> <P> <P> <P> <P> <P> <P>\t\t\t0.00\n",
      "<P> <P> <P> <P> <P> <P> <P> <P>\t\t\t0.00\n",
      "<P> <P> <P> <P> <P> <P> <P> <P>\t\t\t0.00\n",
      "<P> <P> <P> <P> <P> <P> <P> <P>\t\t\t0.00\n",
      "<P> <P> <P> <P> <P> <P> <P> <P>\t\t\t0.00\n",
      "<P> <P> <P> <P> <P> <P> <P> <P>\t\t\t0.00\n",
      "Continue y/nn\n"
     ]
    }
   ],
   "source": [
    "#Prints a story sample, its query, answer, prediction and weights.\n",
    "\n",
    "m = len(X_train[0])\n",
    "while(True):\n",
    "    print()\n",
    "    idx = np.random.choice(m)\n",
    "    story_sample = X_train[0][idx]\n",
    "    question_sample = X_train[1][idx]\n",
    "    answer_sample = X_train[2][idx]\n",
    "\n",
    "    weights_sample, pred_sample = story_weights_model.predict([[story_sample], [question_sample]])\n",
    "    \n",
    "    print(\"Question: \", to_text(question_sample), \"Correct:\", to_text(answer_sample), \"Prediction:\", idx2word[np.argmax(pred_sample)])\n",
    "\n",
    "    print(\"Story: \")\n",
    "    for sentence_idxs, weight in zip(story_sample, weights_sample[0]):\n",
    "        print(\"{}\\t\\t\\t{:.2f}\".format(to_text(sentence_idxs) , weight[0]))\n",
    "        \n",
    "    res = input(\"Continue y/n\");\n",
    "    if(res == \"n\"):\n",
    "        break;"
   ]
  },
  {
   "cell_type": "code",
   "execution_count": null,
   "metadata": {},
   "outputs": [],
   "source": []
  },
  {
   "cell_type": "code",
   "execution_count": 127,
   "metadata": {},
   "outputs": [],
   "source": [
    "#Creates word embeddings for stories (axis = 2) or sentences (axis = 1)\n",
    "def create_embeddings(x_input, axis, max_vocabulary, embedding_dim):\n",
    "    embeddings = Embedding(max_vocabulary, embedding_dim)\n",
    "    x_input = embeddings(x_input)\n",
    "    #Sum over all word embeddings in a sentence get a single vector representation for a sentence.\n",
    "    return Lambda(lambda x: K.sum(x, axis = axis))(x_input)\n",
    "\n",
    "#Creates a hop. \n",
    "def hop(embeddings_story, embeddings_question, dense_layer_, max_vocabulary, embedding_dim, max_story_length):\n",
    "    #Emeddings story will be used to calculate the weights.   \n",
    "    #Embeddings question will be used to calculate the weights as well\n",
    "\n",
    "    #Calcuate the weights\n",
    "    embeddings_question = Reshape((1, embedding_dim))(embeddings_question) #(?, 1, E)\n",
    "    weights = Dot(axes = 2)([embeddings_story, embeddings_question]) #(?, S, 1)\n",
    "    weights = Reshape((max_story_length,))(weights) #We can use flatten as well but this way we can control the output dimension.\n",
    "    weights = Activation(activation = \"softmax\")(weights) #(?, S)\n",
    "    weights_norm = Reshape((max_story_length, 1))(weights) #(?, S, 1)\n",
    "    weights_norm #\n",
    "    \n",
    "    #Create second embeddings story to be dotted with the weights.\n",
    "    embeddings_story_2 = create_embeddings(input_story, 2, max_vocabulary, embedding_dim) #(?, S, E)\n",
    "    s_relevant = Dot(axes = 1)([embeddings_story_2, weights_norm]) #(?, 1, E)\n",
    "    s_relevant = Reshape((embedding_dim, ))(s_relevant) #(?, E)\n",
    "    s_relevant\n",
    "    \n",
    "    #Pass the relevant sentence into a dense layer\n",
    "    output = dense_layer_(s_relevant) #(?, E)\n",
    "    return embeddings_story_2, weights, output\n",
    "    "
   ]
  },
  {
   "cell_type": "code",
   "execution_count": 132,
   "metadata": {},
   "outputs": [
    {
     "data": {
      "text/plain": [
       "(124, 88, 8, 5)"
      ]
     },
     "execution_count": 132,
     "metadata": {},
     "output_type": "execute_result"
    }
   ],
   "source": [
    "#TWO SUPPORTING FACT MODEL\n",
    "\n",
    "#Build the model.\n",
    "\n",
    "#Inputs for the first and second hop\n",
    "\n",
    "X_train, X_test, word2idx = get_task_data_sets(TWO_SUPPORTING_FACT_FILES)\n",
    "idx2word = {idx:word for word, idx in word2idx.items()}\n",
    "MAX_VOCABULARY = len(word2idx);\n",
    "MAX_STORY_LENGTH = X_train[0].shape[1]\n",
    "MAX_FACT_LENGTH = X_train[0].shape[2]\n",
    "MAX_QUESTION_LENGTH = X_train[1].shape[1]\n",
    "MAX_VOCABULARY, MAX_STORY_LENGTH, MAX_FACT_LENGTH, MAX_QUESTION_LENGTH\n"
   ]
  },
  {
   "cell_type": "code",
   "execution_count": 133,
   "metadata": {},
   "outputs": [],
   "source": [
    "#Create inputs for the story and query.\n",
    "EMBEDDING_DIM = 30\n",
    "input_story = Input(shape=(MAX_STORY_LENGTH, MAX_FACT_LENGTH))\n",
    "input_question = Input(shape=(MAX_QUESTION_LENGTH, ))\n",
    "embeddings_story = create_embeddings(input_story, 2, MAX_VOCABULARY, EMBEDDING_DIM)  #(?, S, E)\n",
    "embeddings_question = create_embeddings(input_question, 1, MAX_VOCABULARY, EMBEDDING_DIM) # (?, E)\n",
    "embeddings_story, embeddings_question\n",
    "\n",
    "dense_layer = Dense(EMBEDDING_DIM, activation='relu')"
   ]
  },
  {
   "cell_type": "code",
   "execution_count": null,
   "metadata": {},
   "outputs": [],
   "source": []
  },
  {
   "cell_type": "code",
   "execution_count": 135,
   "metadata": {},
   "outputs": [],
   "source": [
    "#First hop \n",
    "embeddings_story_1 , weights_1, output_1 = hop(embeddings_story, \n",
    "                                               embeddings_question, \n",
    "                                               dense_layer, \n",
    "                                               MAX_VOCABULARY, \n",
    "                                               EMBEDDING_DIM, \n",
    "                                               MAX_STORY_LENGTH)\n",
    "#(Optimization) Pass the sentence embeddings of the first hop into the second hop\n",
    "embeddings_story_2 , weights_2, output_2 = hop(embeddings_story_1, \n",
    "                                               output_1,\n",
    "                                               dense_layer, \n",
    "                                               MAX_VOCABULARY, \n",
    "                                               EMBEDDING_DIM, \n",
    "                                               MAX_STORY_LENGTH)\n",
    "output_softmax = Dense(MAX_VOCABULARY, activation = \"softmax\")(output_2)"
   ]
  },
  {
   "cell_type": "code",
   "execution_count": 136,
   "metadata": {},
   "outputs": [
    {
     "data": {
      "text/plain": [
       "(<tf.Tensor 'lambda_35/Sum:0' shape=(?, 88, 30) dtype=float32>,\n",
       " <tf.Tensor 'activation_16/Softmax:0' shape=(?, 88) dtype=float32>,\n",
       " <tf.Tensor 'dense_17/Relu:0' shape=(?, 30) dtype=float32>)"
      ]
     },
     "execution_count": 136,
     "metadata": {},
     "output_type": "execute_result"
    }
   ],
   "source": [
    "embeddings_story_1, weights_1, output_1"
   ]
  },
  {
   "cell_type": "code",
   "execution_count": 137,
   "metadata": {},
   "outputs": [
    {
     "data": {
      "text/plain": [
       "(<tf.Tensor 'input_21:0' shape=(?, 88, 8) dtype=float32>,\n",
       " <tf.Tensor 'input_22:0' shape=(?, 5) dtype=float32>,\n",
       " <tf.Tensor 'dense_17_1/Relu:0' shape=(?, 30) dtype=float32>)"
      ]
     },
     "execution_count": 137,
     "metadata": {},
     "output_type": "execute_result"
    }
   ],
   "source": [
    "input_story, input_question, output_2"
   ]
  },
  {
   "cell_type": "code",
   "execution_count": 143,
   "metadata": {},
   "outputs": [],
   "source": [
    "model = Model(inputs = [input_story, input_question], outputs = output_softmax)\n",
    "model.compile(optimizer = Adam(lr = 0.001), loss = 'sparse_categorical_crossentropy', metrics = [\"accuracy\"]);"
   ]
  },
  {
   "cell_type": "code",
   "execution_count": 144,
   "metadata": {},
   "outputs": [
    {
     "name": "stdout",
     "output_type": "stream",
     "text": [
      "Train on 10000 samples, validate on 1000 samples\n",
      "Epoch 1/50\n",
      "10000/10000 [==============================] - 5s 486us/step - loss: 1.4854 - acc: 0.4061 - val_loss: 1.4916 - val_acc: 0.3950\n",
      "Epoch 2/50\n",
      "10000/10000 [==============================] - 4s 392us/step - loss: 1.4364 - acc: 0.4190 - val_loss: 1.4494 - val_acc: 0.4160\n",
      "Epoch 3/50\n",
      "10000/10000 [==============================] - 4s 388us/step - loss: 1.3603 - acc: 0.4580 - val_loss: 1.3358 - val_acc: 0.4590\n",
      "Epoch 4/50\n",
      "10000/10000 [==============================] - 4s 389us/step - loss: 1.1797 - acc: 0.5429 - val_loss: 0.9880 - val_acc: 0.6290\n",
      "Epoch 5/50\n",
      "10000/10000 [==============================] - 4s 391us/step - loss: 0.7915 - acc: 0.7098 - val_loss: 0.6988 - val_acc: 0.7460\n",
      "Epoch 6/50\n",
      "10000/10000 [==============================] - 4s 391us/step - loss: 0.6581 - acc: 0.7612 - val_loss: 0.6662 - val_acc: 0.7580\n",
      "Epoch 7/50\n",
      "10000/10000 [==============================] - 4s 388us/step - loss: 0.6150 - acc: 0.7759 - val_loss: 0.6818 - val_acc: 0.7420\n",
      "Epoch 8/50\n",
      "10000/10000 [==============================] - 4s 385us/step - loss: 0.5871 - acc: 0.7836 - val_loss: 0.6456 - val_acc: 0.7430\n",
      "Epoch 9/50\n",
      "10000/10000 [==============================] - 4s 390us/step - loss: 0.5565 - acc: 0.7915 - val_loss: 0.6263 - val_acc: 0.7600\n",
      "Epoch 10/50\n",
      "10000/10000 [==============================] - 4s 388us/step - loss: 0.5243 - acc: 0.7988 - val_loss: 0.5847 - val_acc: 0.7890\n",
      "Epoch 11/50\n",
      "10000/10000 [==============================] - 4s 386us/step - loss: 0.4928 - acc: 0.8157 - val_loss: 0.5721 - val_acc: 0.7830\n",
      "Epoch 12/50\n",
      "10000/10000 [==============================] - 4s 389us/step - loss: 0.4639 - acc: 0.8283 - val_loss: 0.5369 - val_acc: 0.7850\n",
      "Epoch 13/50\n",
      "10000/10000 [==============================] - 4s 386us/step - loss: 0.4344 - acc: 0.8404 - val_loss: 0.5246 - val_acc: 0.7940\n",
      "Epoch 14/50\n",
      "10000/10000 [==============================] - 4s 398us/step - loss: 0.4003 - acc: 0.8539 - val_loss: 0.4985 - val_acc: 0.8200\n",
      "Epoch 15/50\n",
      "10000/10000 [==============================] - 4s 388us/step - loss: 0.3658 - acc: 0.8675 - val_loss: 0.4707 - val_acc: 0.8330\n",
      "Epoch 16/50\n",
      "10000/10000 [==============================] - 4s 407us/step - loss: 0.3375 - acc: 0.8813 - val_loss: 0.4435 - val_acc: 0.8200\n",
      "Epoch 17/50\n",
      "10000/10000 [==============================] - 4s 375us/step - loss: 0.3114 - acc: 0.8906 - val_loss: 0.4400 - val_acc: 0.8420\n",
      "Epoch 18/50\n",
      "10000/10000 [==============================] - 4s 417us/step - loss: 0.2861 - acc: 0.9049 - val_loss: 0.4112 - val_acc: 0.8350\n",
      "Epoch 19/50\n",
      "10000/10000 [==============================] - 4s 419us/step - loss: 0.2650 - acc: 0.9075 - val_loss: 0.3873 - val_acc: 0.8560\n",
      "Epoch 20/50\n",
      "10000/10000 [==============================] - 5s 455us/step - loss: 0.2485 - acc: 0.9160 - val_loss: 0.3786 - val_acc: 0.8470\n",
      "Epoch 21/50\n",
      "10000/10000 [==============================] - 4s 427us/step - loss: 0.2335 - acc: 0.9233 - val_loss: 0.3648 - val_acc: 0.8600\n",
      "Epoch 22/50\n",
      "10000/10000 [==============================] - 4s 419us/step - loss: 0.2186 - acc: 0.9255 - val_loss: 0.3438 - val_acc: 0.8720\n",
      "Epoch 23/50\n",
      "10000/10000 [==============================] - 4s 394us/step - loss: 0.2058 - acc: 0.9327 - val_loss: 0.3626 - val_acc: 0.8710\n",
      "Epoch 24/50\n",
      "10000/10000 [==============================] - 4s 427us/step - loss: 0.1961 - acc: 0.9368 - val_loss: 0.3552 - val_acc: 0.8680\n",
      "Epoch 25/50\n",
      "10000/10000 [==============================] - 4s 391us/step - loss: 0.1838 - acc: 0.9395 - val_loss: 0.3360 - val_acc: 0.8690\n",
      "Epoch 26/50\n",
      "10000/10000 [==============================] - 4s 391us/step - loss: 0.1745 - acc: 0.9438 - val_loss: 0.3302 - val_acc: 0.8910\n",
      "Epoch 27/50\n",
      "10000/10000 [==============================] - 4s 410us/step - loss: 0.1610 - acc: 0.9508 - val_loss: 0.3057 - val_acc: 0.8910\n",
      "Epoch 28/50\n",
      "10000/10000 [==============================] - 4s 445us/step - loss: 0.1543 - acc: 0.9522 - val_loss: 0.3338 - val_acc: 0.8770\n",
      "Epoch 29/50\n",
      "10000/10000 [==============================] - 4s 425us/step - loss: 0.1511 - acc: 0.9516 - val_loss: 0.3179 - val_acc: 0.8850\n",
      "Epoch 30/50\n",
      "10000/10000 [==============================] - 5s 461us/step - loss: 0.1448 - acc: 0.9521 - val_loss: 0.3359 - val_acc: 0.8840\n",
      "Epoch 31/50\n",
      "10000/10000 [==============================] - 4s 423us/step - loss: 0.1337 - acc: 0.9581 - val_loss: 0.2955 - val_acc: 0.8920\n",
      "Epoch 32/50\n",
      "10000/10000 [==============================] - 4s 408us/step - loss: 0.1332 - acc: 0.9626 - val_loss: 0.3704 - val_acc: 0.8870\n",
      "Epoch 33/50\n",
      "10000/10000 [==============================] - 4s 399us/step - loss: 0.1296 - acc: 0.9596 - val_loss: 0.3364 - val_acc: 0.8840\n",
      "Epoch 34/50\n",
      "10000/10000 [==============================] - 4s 447us/step - loss: 0.1249 - acc: 0.9601 - val_loss: 0.3347 - val_acc: 0.8890\n",
      "Epoch 35/50\n",
      "10000/10000 [==============================] - 4s 420us/step - loss: 0.1121 - acc: 0.9664 - val_loss: 0.3173 - val_acc: 0.8960\n",
      "Epoch 36/50\n",
      "10000/10000 [==============================] - 4s 410us/step - loss: 0.1034 - acc: 0.9686 - val_loss: 0.3067 - val_acc: 0.8990\n",
      "Epoch 37/50\n",
      "10000/10000 [==============================] - 4s 421us/step - loss: 0.0977 - acc: 0.9724 - val_loss: 0.3527 - val_acc: 0.8930\n",
      "Epoch 38/50\n",
      "10000/10000 [==============================] - 4s 406us/step - loss: 0.0989 - acc: 0.9719 - val_loss: 0.3044 - val_acc: 0.9040\n",
      "Epoch 39/50\n",
      "10000/10000 [==============================] - 4s 413us/step - loss: 0.0993 - acc: 0.9693 - val_loss: 0.3187 - val_acc: 0.9010\n",
      "Epoch 40/50\n",
      "10000/10000 [==============================] - 4s 399us/step - loss: 0.0832 - acc: 0.9765 - val_loss: 0.3040 - val_acc: 0.9100\n",
      "Epoch 41/50\n",
      "10000/10000 [==============================] - 4s 437us/step - loss: 0.0890 - acc: 0.9745 - val_loss: 0.3516 - val_acc: 0.8980\n",
      "Epoch 42/50\n",
      "10000/10000 [==============================] - 4s 408us/step - loss: 0.0884 - acc: 0.9748 - val_loss: 0.3361 - val_acc: 0.9010\n",
      "Epoch 43/50\n",
      "10000/10000 [==============================] - 4s 409us/step - loss: 0.0844 - acc: 0.9779 - val_loss: 0.2906 - val_acc: 0.9110\n",
      "Epoch 44/50\n",
      "10000/10000 [==============================] - 4s 403us/step - loss: 0.0759 - acc: 0.9774 - val_loss: 0.2985 - val_acc: 0.8990\n",
      "Epoch 45/50\n",
      "10000/10000 [==============================] - 4s 408us/step - loss: 0.0825 - acc: 0.9771 - val_loss: 0.3245 - val_acc: 0.9080\n",
      "Epoch 46/50\n",
      "10000/10000 [==============================] - 4s 408us/step - loss: 0.0712 - acc: 0.9811 - val_loss: 0.3236 - val_acc: 0.9080\n",
      "Epoch 47/50\n",
      "10000/10000 [==============================] - 4s 413us/step - loss: 0.0679 - acc: 0.9804 - val_loss: 0.3300 - val_acc: 0.9050\n",
      "Epoch 48/50\n",
      "10000/10000 [==============================] - 4s 411us/step - loss: 0.0629 - acc: 0.9824 - val_loss: 0.2924 - val_acc: 0.9190\n",
      "Epoch 49/50\n",
      "10000/10000 [==============================] - 4s 415us/step - loss: 0.0707 - acc: 0.9817 - val_loss: 0.3351 - val_acc: 0.8980\n",
      "Epoch 50/50\n",
      "10000/10000 [==============================] - 4s 412us/step - loss: 0.0608 - acc: 0.9820 - val_loss: 0.3592 - val_acc: 0.9030\n"
     ]
    }
   ],
   "source": [
    "r = model.fit(x = [X_train[0], X_train[1]], y = X_train[2], \n",
    "          batch_size = 64, \n",
    "          epochs = 50, \n",
    "          validation_data=([X_test[0], X_test[1]], X_test[2]))"
   ]
  },
  {
   "cell_type": "code",
   "execution_count": 145,
   "metadata": {},
   "outputs": [
    {
     "data": {
      "image/png": "[encoded data removed]",
      "text/plain": [
       "<Figure size 432x288 with 1 Axes>"
      ]
     },
     "metadata": {},
     "output_type": "display_data"
    }
   ],
   "source": [
    "plt.plot(r.history['loss'], label = \"train loss\");\n",
    "plt.plot(r.history['val_loss'], label = \"val loss\");\n",
    "plt.legend()\n",
    "plt.title(\"Loss\")\n",
    "plt.show()"
   ]
  },
  {
   "cell_type": "code",
   "execution_count": 146,
   "metadata": {},
   "outputs": [
    {
     "data": {
      "image/png": "[encoded data removed]",
      "text/plain": [
       "<Figure size 432x288 with 1 Axes>"
      ]
     },
     "metadata": {},
     "output_type": "display_data"
    }
   ],
   "source": [
    "plt.plot(r.history['acc'], label = \"train acc\");\n",
    "plt.plot(r.history['val_acc'], label = \"val acc\");\n",
    "plt.legend()\n",
    "plt.title(\"Accuracy\")\n",
    "plt.show()"
   ]
  },
  {
   "cell_type": "code",
   "execution_count": 147,
   "metadata": {},
   "outputs": [],
   "source": [
    "#Model to get the calculated weights given a story and a query.\n",
    "story_weights_model = Model(inputs = [input_story, input_question], outputs = [weights_1, weights_2, output_softmax])"
   ]
  },
  {
   "cell_type": "code",
   "execution_count": 148,
   "metadata": {},
   "outputs": [],
   "source": [
    "def to_text(idxs):\n",
    "    words = []\n",
    "    for idx in idxs:\n",
    "        words.append(idx2word[idx])\n",
    "    return \" \".join(words) "
   ]
  },
  {
   "cell_type": "code",
   "execution_count": 149,
   "metadata": {},
   "outputs": [
    {
     "name": "stdout",
     "output_type": "stream",
     "text": [
      "\n",
      "1.0 1.0\n",
      "Question:  Where is the football ? Answer: garden Prediction: garden\n",
      "Story: \n",
      "1 John moved to the office . <P>\t\t\t0.0000\t\t0.0000\n",
      "2 Sandra got the apple there . <P>\t\t\t0.0000\t\t0.0000\n",
      "3 Daniel went back to the kitchen .\t\t\t0.0000\t\t0.0000\n",
      "4 Sandra left the apple . <P> <P>\t\t\t0.0000\t\t0.0000\n",
      "5 Mary picked up the football there .\t\t\t0.0000\t\t0.0000\n",
      "6 Sandra took the apple there . <P>\t\t\t0.0000\t\t0.0000\n",
      "7 Mary dropped the football there . <P>\t\t\t0.0000\t\t0.0000\n",
      "8 John went to the kitchen . <P>\t\t\t0.0000\t\t0.0000\n",
      "9 Sandra discarded the apple . <P> <P>\t\t\t0.0000\t\t0.0000\n",
      "10 Sandra travelled to the garden . <P>\t\t\t0.0000\t\t0.0000\n",
      "11 John went to the hallway . <P>\t\t\t0.0000\t\t0.0000\n",
      "12 Daniel journeyed to the hallway . <P>\t\t\t0.0000\t\t0.0000\n",
      "13 Sandra went back to the bathroom .\t\t\t0.0000\t\t0.0000\n",
      "14 Sandra went to the office . <P>\t\t\t0.0000\t\t0.0000\n",
      "15 Sandra took the apple there . <P>\t\t\t0.0000\t\t0.0000\n",
      "16 Sandra discarded the apple . <P> <P>\t\t\t0.0000\t\t0.0000\n",
      "18 John journeyed to the garden . <P>\t\t\t0.0000\t\t0.0000\n",
      "19 Mary picked up the football there .\t\t\t0.0159\t\t0.0000\n",
      "21 Mary left the football . <P> <P>\t\t\t0.1773\t\t0.0000\n",
      "22 Sandra got the apple there . <P>\t\t\t0.0000\t\t0.0000\n",
      "23 John moved to the hallway . <P>\t\t\t0.0000\t\t0.0001\n",
      "24 Mary took the football there . <P>\t\t\t0.8068\t\t0.0000\n",
      "25 Mary travelled to the hallway . <P>\t\t\t0.0000\t\t0.2984\n",
      "26 Mary went back to the garden .\t\t\t0.0000\t\t0.7015\n",
      "<P> <P> <P> <P> <P> <P> <P> <P>\t\t\t0.0000\t\t0.0000\n",
      "<P> <P> <P> <P> <P> <P> <P> <P>\t\t\t0.0000\t\t0.0000\n",
      "<P> <P> <P> <P> <P> <P> <P> <P>\t\t\t0.0000\t\t0.0000\n",
      "<P> <P> <P> <P> <P> <P> <P> <P>\t\t\t0.0000\t\t0.0000\n",
      "<P> <P> <P> <P> <P> <P> <P> <P>\t\t\t0.0000\t\t0.0000\n",
      "<P> <P> <P> <P> <P> <P> <P> <P>\t\t\t0.0000\t\t0.0000\n",
      "<P> <P> <P> <P> <P> <P> <P> <P>\t\t\t0.0000\t\t0.0000\n",
      "<P> <P> <P> <P> <P> <P> <P> <P>\t\t\t0.0000\t\t0.0000\n",
      "<P> <P> <P> <P> <P> <P> <P> <P>\t\t\t0.0000\t\t0.0000\n",
      "<P> <P> <P> <P> <P> <P> <P> <P>\t\t\t0.0000\t\t0.0000\n",
      "<P> <P> <P> <P> <P> <P> <P> <P>\t\t\t0.0000\t\t0.0000\n",
      "<P> <P> <P> <P> <P> <P> <P> <P>\t\t\t0.0000\t\t0.0000\n",
      "<P> <P> <P> <P> <P> <P> <P> <P>\t\t\t0.0000\t\t0.0000\n",
      "<P> <P> <P> <P> <P> <P> <P> <P>\t\t\t0.0000\t\t0.0000\n",
      "<P> <P> <P> <P> <P> <P> <P> <P>\t\t\t0.0000\t\t0.0000\n",
      "<P> <P> <P> <P> <P> <P> <P> <P>\t\t\t0.0000\t\t0.0000\n",
      "<P> <P> <P> <P> <P> <P> <P> <P>\t\t\t0.0000\t\t0.0000\n",
      "<P> <P> <P> <P> <P> <P> <P> <P>\t\t\t0.0000\t\t0.0000\n",
      "<P> <P> <P> <P> <P> <P> <P> <P>\t\t\t0.0000\t\t0.0000\n",
      "<P> <P> <P> <P> <P> <P> <P> <P>\t\t\t0.0000\t\t0.0000\n",
      "<P> <P> <P> <P> <P> <P> <P> <P>\t\t\t0.0000\t\t0.0000\n",
      "<P> <P> <P> <P> <P> <P> <P> <P>\t\t\t0.0000\t\t0.0000\n",
      "<P> <P> <P> <P> <P> <P> <P> <P>\t\t\t0.0000\t\t0.0000\n",
      "<P> <P> <P> <P> <P> <P> <P> <P>\t\t\t0.0000\t\t0.0000\n",
      "<P> <P> <P> <P> <P> <P> <P> <P>\t\t\t0.0000\t\t0.0000\n",
      "<P> <P> <P> <P> <P> <P> <P> <P>\t\t\t0.0000\t\t0.0000\n",
      "<P> <P> <P> <P> <P> <P> <P> <P>\t\t\t0.0000\t\t0.0000\n",
      "<P> <P> <P> <P> <P> <P> <P> <P>\t\t\t0.0000\t\t0.0000\n",
      "<P> <P> <P> <P> <P> <P> <P> <P>\t\t\t0.0000\t\t0.0000\n",
      "<P> <P> <P> <P> <P> <P> <P> <P>\t\t\t0.0000\t\t0.0000\n",
      "<P> <P> <P> <P> <P> <P> <P> <P>\t\t\t0.0000\t\t0.0000\n",
      "<P> <P> <P> <P> <P> <P> <P> <P>\t\t\t0.0000\t\t0.0000\n",
      "<P> <P> <P> <P> <P> <P> <P> <P>\t\t\t0.0000\t\t0.0000\n",
      "<P> <P> <P> <P> <P> <P> <P> <P>\t\t\t0.0000\t\t0.0000\n",
      "<P> <P> <P> <P> <P> <P> <P> <P>\t\t\t0.0000\t\t0.0000\n",
      "<P> <P> <P> <P> <P> <P> <P> <P>\t\t\t0.0000\t\t0.0000\n",
      "<P> <P> <P> <P> <P> <P> <P> <P>\t\t\t0.0000\t\t0.0000\n",
      "<P> <P> <P> <P> <P> <P> <P> <P>\t\t\t0.0000\t\t0.0000\n",
      "<P> <P> <P> <P> <P> <P> <P> <P>\t\t\t0.0000\t\t0.0000\n",
      "<P> <P> <P> <P> <P> <P> <P> <P>\t\t\t0.0000\t\t0.0000\n",
      "<P> <P> <P> <P> <P> <P> <P> <P>\t\t\t0.0000\t\t0.0000\n",
      "<P> <P> <P> <P> <P> <P> <P> <P>\t\t\t0.0000\t\t0.0000\n",
      "<P> <P> <P> <P> <P> <P> <P> <P>\t\t\t0.0000\t\t0.0000\n",
      "<P> <P> <P> <P> <P> <P> <P> <P>\t\t\t0.0000\t\t0.0000\n",
      "<P> <P> <P> <P> <P> <P> <P> <P>\t\t\t0.0000\t\t0.0000\n",
      "<P> <P> <P> <P> <P> <P> <P> <P>\t\t\t0.0000\t\t0.0000\n",
      "<P> <P> <P> <P> <P> <P> <P> <P>\t\t\t0.0000\t\t0.0000\n",
      "<P> <P> <P> <P> <P> <P> <P> <P>\t\t\t0.0000\t\t0.0000\n",
      "<P> <P> <P> <P> <P> <P> <P> <P>\t\t\t0.0000\t\t0.0000\n",
      "<P> <P> <P> <P> <P> <P> <P> <P>\t\t\t0.0000\t\t0.0000\n",
      "<P> <P> <P> <P> <P> <P> <P> <P>\t\t\t0.0000\t\t0.0000\n",
      "<P> <P> <P> <P> <P> <P> <P> <P>\t\t\t0.0000\t\t0.0000\n",
      "<P> <P> <P> <P> <P> <P> <P> <P>\t\t\t0.0000\t\t0.0000\n",
      "<P> <P> <P> <P> <P> <P> <P> <P>\t\t\t0.0000\t\t0.0000\n",
      "<P> <P> <P> <P> <P> <P> <P> <P>\t\t\t0.0000\t\t0.0000\n",
      "<P> <P> <P> <P> <P> <P> <P> <P>\t\t\t0.0000\t\t0.0000\n",
      "<P> <P> <P> <P> <P> <P> <P> <P>\t\t\t0.0000\t\t0.0000\n",
      "<P> <P> <P> <P> <P> <P> <P> <P>\t\t\t0.0000\t\t0.0000\n",
      "<P> <P> <P> <P> <P> <P> <P> <P>\t\t\t0.0000\t\t0.0000\n",
      "<P> <P> <P> <P> <P> <P> <P> <P>\t\t\t0.0000\t\t0.0000\n",
      "<P> <P> <P> <P> <P> <P> <P> <P>\t\t\t0.0000\t\t0.0000\n",
      "<P> <P> <P> <P> <P> <P> <P> <P>\t\t\t0.0000\t\t0.0000\n",
      "<P> <P> <P> <P> <P> <P> <P> <P>\t\t\t0.0000\t\t0.0000\n",
      "<P> <P> <P> <P> <P> <P> <P> <P>\t\t\t0.0000\t\t0.0000\n",
      "Continue y/ny\n",
      "\n",
      "1.0 1.0\n",
      "Question:  Where is the apple ? Answer: office Prediction: office\n",
      "Story: \n",
      "1 Sandra went back to the garden .\t\t\t0.0000\t\t0.0000\n",
      "2 Mary journeyed to the kitchen . <P>\t\t\t0.0000\t\t0.0000\n",
      "3 Sandra travelled to the office . <P>\t\t\t0.0000\t\t0.0000\n",
      "4 John went back to the office .\t\t\t0.0000\t\t0.0000\n",
      "5 Sandra went to the bathroom . <P>\t\t\t0.0000\t\t0.0000\n",
      "6 Sandra went back to the garden .\t\t\t0.0000\t\t0.0000\n",
      "7 Daniel went back to the office .\t\t\t0.0000\t\t0.0000\n",
      "8 John moved to the hallway . <P>\t\t\t0.0000\t\t0.0000\n",
      "9 Mary grabbed the milk there . <P>\t\t\t0.0000\t\t0.0000\n",
      "10 Mary left the milk . <P> <P>\t\t\t0.0000\t\t0.0000\n",
      "12 Mary travelled to the garden . <P>\t\t\t0.0000\t\t0.0045\n",
      "13 Sandra took the apple there . <P>\t\t\t0.0011\t\t0.0000\n",
      "15 Sandra left the apple there . <P>\t\t\t0.0202\t\t0.0000\n",
      "16 Mary got the football there . <P>\t\t\t0.0000\t\t0.0000\n",
      "18 Mary grabbed the apple there . <P>\t\t\t0.9787\t\t0.0000\n",
      "19 Mary discarded the football . <P> <P>\t\t\t0.0000\t\t0.0000\n",
      "21 Sandra picked up the football there .\t\t\t0.0000\t\t0.0000\n",
      "22 Mary travelled to the office . <P>\t\t\t0.0000\t\t0.9955\n",
      "<P> <P> <P> <P> <P> <P> <P> <P>\t\t\t0.0000\t\t0.0000\n",
      "<P> <P> <P> <P> <P> <P> <P> <P>\t\t\t0.0000\t\t0.0000\n",
      "<P> <P> <P> <P> <P> <P> <P> <P>\t\t\t0.0000\t\t0.0000\n",
      "<P> <P> <P> <P> <P> <P> <P> <P>\t\t\t0.0000\t\t0.0000\n",
      "<P> <P> <P> <P> <P> <P> <P> <P>\t\t\t0.0000\t\t0.0000\n",
      "<P> <P> <P> <P> <P> <P> <P> <P>\t\t\t0.0000\t\t0.0000\n",
      "<P> <P> <P> <P> <P> <P> <P> <P>\t\t\t0.0000\t\t0.0000\n",
      "<P> <P> <P> <P> <P> <P> <P> <P>\t\t\t0.0000\t\t0.0000\n",
      "<P> <P> <P> <P> <P> <P> <P> <P>\t\t\t0.0000\t\t0.0000\n",
      "<P> <P> <P> <P> <P> <P> <P> <P>\t\t\t0.0000\t\t0.0000\n",
      "<P> <P> <P> <P> <P> <P> <P> <P>\t\t\t0.0000\t\t0.0000\n",
      "<P> <P> <P> <P> <P> <P> <P> <P>\t\t\t0.0000\t\t0.0000\n",
      "<P> <P> <P> <P> <P> <P> <P> <P>\t\t\t0.0000\t\t0.0000\n",
      "<P> <P> <P> <P> <P> <P> <P> <P>\t\t\t0.0000\t\t0.0000\n",
      "<P> <P> <P> <P> <P> <P> <P> <P>\t\t\t0.0000\t\t0.0000\n",
      "<P> <P> <P> <P> <P> <P> <P> <P>\t\t\t0.0000\t\t0.0000\n",
      "<P> <P> <P> <P> <P> <P> <P> <P>\t\t\t0.0000\t\t0.0000\n",
      "<P> <P> <P> <P> <P> <P> <P> <P>\t\t\t0.0000\t\t0.0000\n",
      "<P> <P> <P> <P> <P> <P> <P> <P>\t\t\t0.0000\t\t0.0000\n",
      "<P> <P> <P> <P> <P> <P> <P> <P>\t\t\t0.0000\t\t0.0000\n",
      "<P> <P> <P> <P> <P> <P> <P> <P>\t\t\t0.0000\t\t0.0000\n",
      "<P> <P> <P> <P> <P> <P> <P> <P>\t\t\t0.0000\t\t0.0000\n",
      "<P> <P> <P> <P> <P> <P> <P> <P>\t\t\t0.0000\t\t0.0000\n",
      "<P> <P> <P> <P> <P> <P> <P> <P>\t\t\t0.0000\t\t0.0000\n",
      "<P> <P> <P> <P> <P> <P> <P> <P>\t\t\t0.0000\t\t0.0000\n",
      "<P> <P> <P> <P> <P> <P> <P> <P>\t\t\t0.0000\t\t0.0000\n",
      "<P> <P> <P> <P> <P> <P> <P> <P>\t\t\t0.0000\t\t0.0000\n",
      "<P> <P> <P> <P> <P> <P> <P> <P>\t\t\t0.0000\t\t0.0000\n",
      "<P> <P> <P> <P> <P> <P> <P> <P>\t\t\t0.0000\t\t0.0000\n",
      "<P> <P> <P> <P> <P> <P> <P> <P>\t\t\t0.0000\t\t0.0000\n",
      "<P> <P> <P> <P> <P> <P> <P> <P>\t\t\t0.0000\t\t0.0000\n",
      "<P> <P> <P> <P> <P> <P> <P> <P>\t\t\t0.0000\t\t0.0000\n",
      "<P> <P> <P> <P> <P> <P> <P> <P>\t\t\t0.0000\t\t0.0000\n",
      "<P> <P> <P> <P> <P> <P> <P> <P>\t\t\t0.0000\t\t0.0000\n",
      "<P> <P> <P> <P> <P> <P> <P> <P>\t\t\t0.0000\t\t0.0000\n",
      "<P> <P> <P> <P> <P> <P> <P> <P>\t\t\t0.0000\t\t0.0000\n",
      "<P> <P> <P> <P> <P> <P> <P> <P>\t\t\t0.0000\t\t0.0000\n",
      "<P> <P> <P> <P> <P> <P> <P> <P>\t\t\t0.0000\t\t0.0000\n",
      "<P> <P> <P> <P> <P> <P> <P> <P>\t\t\t0.0000\t\t0.0000\n",
      "<P> <P> <P> <P> <P> <P> <P> <P>\t\t\t0.0000\t\t0.0000\n",
      "<P> <P> <P> <P> <P> <P> <P> <P>\t\t\t0.0000\t\t0.0000\n",
      "<P> <P> <P> <P> <P> <P> <P> <P>\t\t\t0.0000\t\t0.0000\n",
      "<P> <P> <P> <P> <P> <P> <P> <P>\t\t\t0.0000\t\t0.0000\n",
      "<P> <P> <P> <P> <P> <P> <P> <P>\t\t\t0.0000\t\t0.0000\n",
      "<P> <P> <P> <P> <P> <P> <P> <P>\t\t\t0.0000\t\t0.0000\n",
      "<P> <P> <P> <P> <P> <P> <P> <P>\t\t\t0.0000\t\t0.0000\n",
      "<P> <P> <P> <P> <P> <P> <P> <P>\t\t\t0.0000\t\t0.0000\n",
      "<P> <P> <P> <P> <P> <P> <P> <P>\t\t\t0.0000\t\t0.0000\n",
      "<P> <P> <P> <P> <P> <P> <P> <P>\t\t\t0.0000\t\t0.0000\n",
      "<P> <P> <P> <P> <P> <P> <P> <P>\t\t\t0.0000\t\t0.0000\n",
      "<P> <P> <P> <P> <P> <P> <P> <P>\t\t\t0.0000\t\t0.0000\n",
      "<P> <P> <P> <P> <P> <P> <P> <P>\t\t\t0.0000\t\t0.0000\n",
      "<P> <P> <P> <P> <P> <P> <P> <P>\t\t\t0.0000\t\t0.0000\n",
      "<P> <P> <P> <P> <P> <P> <P> <P>\t\t\t0.0000\t\t0.0000\n",
      "<P> <P> <P> <P> <P> <P> <P> <P>\t\t\t0.0000\t\t0.0000\n",
      "<P> <P> <P> <P> <P> <P> <P> <P>\t\t\t0.0000\t\t0.0000\n",
      "<P> <P> <P> <P> <P> <P> <P> <P>\t\t\t0.0000\t\t0.0000\n",
      "<P> <P> <P> <P> <P> <P> <P> <P>\t\t\t0.0000\t\t0.0000\n",
      "<P> <P> <P> <P> <P> <P> <P> <P>\t\t\t0.0000\t\t0.0000\n",
      "<P> <P> <P> <P> <P> <P> <P> <P>\t\t\t0.0000\t\t0.0000\n",
      "<P> <P> <P> <P> <P> <P> <P> <P>\t\t\t0.0000\t\t0.0000\n",
      "<P> <P> <P> <P> <P> <P> <P> <P>\t\t\t0.0000\t\t0.0000\n",
      "<P> <P> <P> <P> <P> <P> <P> <P>\t\t\t0.0000\t\t0.0000\n",
      "<P> <P> <P> <P> <P> <P> <P> <P>\t\t\t0.0000\t\t0.0000\n",
      "<P> <P> <P> <P> <P> <P> <P> <P>\t\t\t0.0000\t\t0.0000\n",
      "<P> <P> <P> <P> <P> <P> <P> <P>\t\t\t0.0000\t\t0.0000\n",
      "<P> <P> <P> <P> <P> <P> <P> <P>\t\t\t0.0000\t\t0.0000\n",
      "<P> <P> <P> <P> <P> <P> <P> <P>\t\t\t0.0000\t\t0.0000\n",
      "<P> <P> <P> <P> <P> <P> <P> <P>\t\t\t0.0000\t\t0.0000\n",
      "<P> <P> <P> <P> <P> <P> <P> <P>\t\t\t0.0000\t\t0.0000\n"
     ]
    },
    {
     "name": "stdout",
     "output_type": "stream",
     "text": [
      "Continue y/ny\n",
      "\n",
      "1.0 1.0\n",
      "Question:  Where is the milk ? Answer: garden Prediction: garden\n",
      "Story: \n",
      "1 Mary went back to the garden .\t\t\t0.0000\t\t0.0000\n",
      "2 Sandra grabbed the milk there . <P>\t\t\t0.0000\t\t0.0000\n",
      "3 Sandra left the milk . <P> <P>\t\t\t0.0000\t\t0.0000\n",
      "4 Sandra went to the office . <P>\t\t\t0.0000\t\t0.0000\n",
      "5 John journeyed to the garden . <P>\t\t\t0.0000\t\t0.0000\n",
      "6 Daniel went back to the kitchen .\t\t\t0.0000\t\t0.0000\n",
      "7 Mary moved to the hallway . <P>\t\t\t0.0000\t\t0.0002\n",
      "8 Sandra took the football there . <P>\t\t\t0.0000\t\t0.0000\n",
      "9 Mary got the milk there . <P>\t\t\t0.0000\t\t0.0000\n",
      "10 Daniel journeyed to the bathroom . <P>\t\t\t0.0000\t\t0.0000\n",
      "11 Mary travelled to the office . <P>\t\t\t0.0000\t\t0.0093\n",
      "12 Mary went back to the kitchen .\t\t\t0.0000\t\t0.0365\n",
      "14 Daniel went back to the garden .\t\t\t0.0000\t\t0.0000\n",
      "15 Sandra moved to the bedroom . <P>\t\t\t0.0000\t\t0.0000\n",
      "16 Mary journeyed to the hallway . <P>\t\t\t0.0000\t\t0.1874\n",
      "17 Mary dropped the milk there . <P>\t\t\t0.0895\t\t0.0000\n",
      "19 Mary picked up the milk there .\t\t\t0.9105\t\t0.0000\n",
      "20 Mary travelled to the garden . <P>\t\t\t0.0000\t\t0.7665\n",
      "<P> <P> <P> <P> <P> <P> <P> <P>\t\t\t0.0000\t\t0.0000\n",
      "<P> <P> <P> <P> <P> <P> <P> <P>\t\t\t0.0000\t\t0.0000\n",
      "<P> <P> <P> <P> <P> <P> <P> <P>\t\t\t0.0000\t\t0.0000\n",
      "<P> <P> <P> <P> <P> <P> <P> <P>\t\t\t0.0000\t\t0.0000\n",
      "<P> <P> <P> <P> <P> <P> <P> <P>\t\t\t0.0000\t\t0.0000\n",
      "<P> <P> <P> <P> <P> <P> <P> <P>\t\t\t0.0000\t\t0.0000\n",
      "<P> <P> <P> <P> <P> <P> <P> <P>\t\t\t0.0000\t\t0.0000\n",
      "<P> <P> <P> <P> <P> <P> <P> <P>\t\t\t0.0000\t\t0.0000\n",
      "<P> <P> <P> <P> <P> <P> <P> <P>\t\t\t0.0000\t\t0.0000\n",
      "<P> <P> <P> <P> <P> <P> <P> <P>\t\t\t0.0000\t\t0.0000\n",
      "<P> <P> <P> <P> <P> <P> <P> <P>\t\t\t0.0000\t\t0.0000\n",
      "<P> <P> <P> <P> <P> <P> <P> <P>\t\t\t0.0000\t\t0.0000\n",
      "<P> <P> <P> <P> <P> <P> <P> <P>\t\t\t0.0000\t\t0.0000\n",
      "<P> <P> <P> <P> <P> <P> <P> <P>\t\t\t0.0000\t\t0.0000\n",
      "<P> <P> <P> <P> <P> <P> <P> <P>\t\t\t0.0000\t\t0.0000\n",
      "<P> <P> <P> <P> <P> <P> <P> <P>\t\t\t0.0000\t\t0.0000\n",
      "<P> <P> <P> <P> <P> <P> <P> <P>\t\t\t0.0000\t\t0.0000\n",
      "<P> <P> <P> <P> <P> <P> <P> <P>\t\t\t0.0000\t\t0.0000\n",
      "<P> <P> <P> <P> <P> <P> <P> <P>\t\t\t0.0000\t\t0.0000\n",
      "<P> <P> <P> <P> <P> <P> <P> <P>\t\t\t0.0000\t\t0.0000\n",
      "<P> <P> <P> <P> <P> <P> <P> <P>\t\t\t0.0000\t\t0.0000\n",
      "<P> <P> <P> <P> <P> <P> <P> <P>\t\t\t0.0000\t\t0.0000\n",
      "<P> <P> <P> <P> <P> <P> <P> <P>\t\t\t0.0000\t\t0.0000\n",
      "<P> <P> <P> <P> <P> <P> <P> <P>\t\t\t0.0000\t\t0.0000\n",
      "<P> <P> <P> <P> <P> <P> <P> <P>\t\t\t0.0000\t\t0.0000\n",
      "<P> <P> <P> <P> <P> <P> <P> <P>\t\t\t0.0000\t\t0.0000\n",
      "<P> <P> <P> <P> <P> <P> <P> <P>\t\t\t0.0000\t\t0.0000\n",
      "<P> <P> <P> <P> <P> <P> <P> <P>\t\t\t0.0000\t\t0.0000\n",
      "<P> <P> <P> <P> <P> <P> <P> <P>\t\t\t0.0000\t\t0.0000\n",
      "<P> <P> <P> <P> <P> <P> <P> <P>\t\t\t0.0000\t\t0.0000\n",
      "<P> <P> <P> <P> <P> <P> <P> <P>\t\t\t0.0000\t\t0.0000\n",
      "<P> <P> <P> <P> <P> <P> <P> <P>\t\t\t0.0000\t\t0.0000\n",
      "<P> <P> <P> <P> <P> <P> <P> <P>\t\t\t0.0000\t\t0.0000\n",
      "<P> <P> <P> <P> <P> <P> <P> <P>\t\t\t0.0000\t\t0.0000\n",
      "<P> <P> <P> <P> <P> <P> <P> <P>\t\t\t0.0000\t\t0.0000\n",
      "<P> <P> <P> <P> <P> <P> <P> <P>\t\t\t0.0000\t\t0.0000\n",
      "<P> <P> <P> <P> <P> <P> <P> <P>\t\t\t0.0000\t\t0.0000\n",
      "<P> <P> <P> <P> <P> <P> <P> <P>\t\t\t0.0000\t\t0.0000\n",
      "<P> <P> <P> <P> <P> <P> <P> <P>\t\t\t0.0000\t\t0.0000\n",
      "<P> <P> <P> <P> <P> <P> <P> <P>\t\t\t0.0000\t\t0.0000\n",
      "<P> <P> <P> <P> <P> <P> <P> <P>\t\t\t0.0000\t\t0.0000\n",
      "<P> <P> <P> <P> <P> <P> <P> <P>\t\t\t0.0000\t\t0.0000\n",
      "<P> <P> <P> <P> <P> <P> <P> <P>\t\t\t0.0000\t\t0.0000\n",
      "<P> <P> <P> <P> <P> <P> <P> <P>\t\t\t0.0000\t\t0.0000\n",
      "<P> <P> <P> <P> <P> <P> <P> <P>\t\t\t0.0000\t\t0.0000\n",
      "<P> <P> <P> <P> <P> <P> <P> <P>\t\t\t0.0000\t\t0.0000\n",
      "<P> <P> <P> <P> <P> <P> <P> <P>\t\t\t0.0000\t\t0.0000\n",
      "<P> <P> <P> <P> <P> <P> <P> <P>\t\t\t0.0000\t\t0.0000\n",
      "<P> <P> <P> <P> <P> <P> <P> <P>\t\t\t0.0000\t\t0.0000\n",
      "<P> <P> <P> <P> <P> <P> <P> <P>\t\t\t0.0000\t\t0.0000\n",
      "<P> <P> <P> <P> <P> <P> <P> <P>\t\t\t0.0000\t\t0.0000\n",
      "<P> <P> <P> <P> <P> <P> <P> <P>\t\t\t0.0000\t\t0.0000\n",
      "<P> <P> <P> <P> <P> <P> <P> <P>\t\t\t0.0000\t\t0.0000\n",
      "<P> <P> <P> <P> <P> <P> <P> <P>\t\t\t0.0000\t\t0.0000\n",
      "<P> <P> <P> <P> <P> <P> <P> <P>\t\t\t0.0000\t\t0.0000\n",
      "<P> <P> <P> <P> <P> <P> <P> <P>\t\t\t0.0000\t\t0.0000\n",
      "<P> <P> <P> <P> <P> <P> <P> <P>\t\t\t0.0000\t\t0.0000\n",
      "<P> <P> <P> <P> <P> <P> <P> <P>\t\t\t0.0000\t\t0.0000\n",
      "<P> <P> <P> <P> <P> <P> <P> <P>\t\t\t0.0000\t\t0.0000\n",
      "<P> <P> <P> <P> <P> <P> <P> <P>\t\t\t0.0000\t\t0.0000\n",
      "<P> <P> <P> <P> <P> <P> <P> <P>\t\t\t0.0000\t\t0.0000\n",
      "<P> <P> <P> <P> <P> <P> <P> <P>\t\t\t0.0000\t\t0.0000\n",
      "<P> <P> <P> <P> <P> <P> <P> <P>\t\t\t0.0000\t\t0.0000\n",
      "<P> <P> <P> <P> <P> <P> <P> <P>\t\t\t0.0000\t\t0.0000\n",
      "<P> <P> <P> <P> <P> <P> <P> <P>\t\t\t0.0000\t\t0.0000\n",
      "<P> <P> <P> <P> <P> <P> <P> <P>\t\t\t0.0000\t\t0.0000\n",
      "<P> <P> <P> <P> <P> <P> <P> <P>\t\t\t0.0000\t\t0.0000\n",
      "<P> <P> <P> <P> <P> <P> <P> <P>\t\t\t0.0000\t\t0.0000\n",
      "<P> <P> <P> <P> <P> <P> <P> <P>\t\t\t0.0000\t\t0.0000\n",
      "<P> <P> <P> <P> <P> <P> <P> <P>\t\t\t0.0000\t\t0.0000\n",
      "Continue y/ny\n",
      "\n",
      "1.0 1.0\n",
      "Question:  Where is the apple ? Answer: office Prediction: office\n",
      "Story: \n",
      "1 Sandra took the football there . <P>\t\t\t0.0000\t\t0.0000\n",
      "2 Sandra took the apple there . <P>\t\t\t0.0000\t\t0.0000\n",
      "3 John went to the bedroom . <P>\t\t\t0.0000\t\t0.0011\n",
      "4 John took the milk there . <P>\t\t\t0.0000\t\t0.0000\n",
      "5 John dropped the milk there . <P>\t\t\t0.0000\t\t0.0000\n",
      "6 Sandra picked up the milk there .\t\t\t0.0000\t\t0.0000\n",
      "7 Sandra put down the milk . <P>\t\t\t0.0000\t\t0.0001\n",
      "8 Sandra took the milk there . <P>\t\t\t0.0000\t\t0.0000\n",
      "9 Mary journeyed to the kitchen . <P>\t\t\t0.0000\t\t0.0003\n",
      "10 Daniel went back to the kitchen .\t\t\t0.0000\t\t0.0004\n",
      "11 John went back to the kitchen .\t\t\t0.0000\t\t0.0037\n",
      "12 Sandra put down the apple there .\t\t\t0.0078\t\t0.0002\n",
      "13 Sandra picked up the apple there .\t\t\t0.0176\t\t0.0000\n",
      "14 Mary journeyed to the office . <P>\t\t\t0.0000\t\t0.0001\n",
      "15 John moved to the hallway . <P>\t\t\t0.0000\t\t0.0008\n",
      "16 Sandra went back to the bathroom .\t\t\t0.0000\t\t0.2476\n",
      "18 Daniel went back to the bedroom .\t\t\t0.0000\t\t0.0000\n",
      "19 Daniel travelled to the bathroom . <P>\t\t\t0.0000\t\t0.0001\n",
      "20 Mary went to the bedroom . <P>\t\t\t0.0000\t\t0.0000\n",
      "21 Sandra moved to the kitchen . <P>\t\t\t0.0000\t\t0.0600\n",
      "22 Sandra travelled to the garden . <P>\t\t\t0.0000\t\t0.0441\n",
      "23 Mary moved to the kitchen . <P>\t\t\t0.0000\t\t0.0000\n",
      "24 Mary travelled to the bathroom . <P>\t\t\t0.0000\t\t0.0000\n",
      "25 Daniel went back to the hallway .\t\t\t0.0000\t\t0.0000\n",
      "26 John went back to the bathroom .\t\t\t0.0000\t\t0.0001\n",
      "27 Mary moved to the hallway . <P>\t\t\t0.0000\t\t0.0000\n",
      "28 Daniel moved to the bathroom . <P>\t\t\t0.0000\t\t0.0000\n",
      "29 Daniel moved to the garden . <P>\t\t\t0.0001\t\t0.0000\n",
      "30 Sandra went to the hallway . <P>\t\t\t0.0000\t\t0.0502\n",
      "31 Daniel went back to the bedroom .\t\t\t0.0000\t\t0.0000\n",
      "32 John went to the office . <P>\t\t\t0.0000\t\t0.0002\n",
      "33 Sandra journeyed to the office . <P>\t\t\t0.0000\t\t0.0964\n",
      "34 Mary travelled to the kitchen . <P>\t\t\t0.0000\t\t0.0000\n",
      "35 Mary moved to the garden . <P>\t\t\t0.0004\t\t0.0000\n",
      "36 Mary went to the hallway . <P>\t\t\t0.0000\t\t0.0000\n",
      "37 Mary travelled to the kitchen . <P>\t\t\t0.0000\t\t0.0001\n",
      "38 Mary travelled to the bathroom . <P>\t\t\t0.0000\t\t0.0000\n",
      "39 Mary moved to the office . <P>\t\t\t0.0000\t\t0.0001\n",
      "40 John moved to the bedroom . <P>\t\t\t0.0000\t\t0.0003\n",
      "41 Daniel went back to the office .\t\t\t0.0000\t\t0.0000\n",
      "42 Sandra discarded the milk . <P> <P>\t\t\t0.0711\t\t0.0007\n",
      "43 Daniel got the milk there . <P>\t\t\t0.0019\t\t0.0000\n",
      "44 Daniel travelled to the bedroom . <P>\t\t\t0.0000\t\t0.0003\n",
      "45 John went to the bathroom . <P>\t\t\t0.0000\t\t0.0000\n",
      "47 John went back to the office .\t\t\t0.0000\t\t0.4574\n",
      "48 Sandra dropped the apple there . <P>\t\t\t0.9011\t\t0.0052\n",
      "50 John went to the kitchen . <P>\t\t\t0.0000\t\t0.0148\n",
      "51 Sandra dropped the football there . <P>\t\t\t0.0000\t\t0.0155\n",
      "<P> <P> <P> <P> <P> <P> <P> <P>\t\t\t0.0000\t\t0.0000\n",
      "<P> <P> <P> <P> <P> <P> <P> <P>\t\t\t0.0000\t\t0.0000\n",
      "<P> <P> <P> <P> <P> <P> <P> <P>\t\t\t0.0000\t\t0.0000\n",
      "<P> <P> <P> <P> <P> <P> <P> <P>\t\t\t0.0000\t\t0.0000\n",
      "<P> <P> <P> <P> <P> <P> <P> <P>\t\t\t0.0000\t\t0.0000\n",
      "<P> <P> <P> <P> <P> <P> <P> <P>\t\t\t0.0000\t\t0.0000\n",
      "<P> <P> <P> <P> <P> <P> <P> <P>\t\t\t0.0000\t\t0.0000\n",
      "<P> <P> <P> <P> <P> <P> <P> <P>\t\t\t0.0000\t\t0.0000\n",
      "<P> <P> <P> <P> <P> <P> <P> <P>\t\t\t0.0000\t\t0.0000\n",
      "<P> <P> <P> <P> <P> <P> <P> <P>\t\t\t0.0000\t\t0.0000\n",
      "<P> <P> <P> <P> <P> <P> <P> <P>\t\t\t0.0000\t\t0.0000\n",
      "<P> <P> <P> <P> <P> <P> <P> <P>\t\t\t0.0000\t\t0.0000\n",
      "<P> <P> <P> <P> <P> <P> <P> <P>\t\t\t0.0000\t\t0.0000\n",
      "<P> <P> <P> <P> <P> <P> <P> <P>\t\t\t0.0000\t\t0.0000\n",
      "<P> <P> <P> <P> <P> <P> <P> <P>\t\t\t0.0000\t\t0.0000\n",
      "<P> <P> <P> <P> <P> <P> <P> <P>\t\t\t0.0000\t\t0.0000\n",
      "<P> <P> <P> <P> <P> <P> <P> <P>\t\t\t0.0000\t\t0.0000\n",
      "<P> <P> <P> <P> <P> <P> <P> <P>\t\t\t0.0000\t\t0.0000\n",
      "<P> <P> <P> <P> <P> <P> <P> <P>\t\t\t0.0000\t\t0.0000\n",
      "<P> <P> <P> <P> <P> <P> <P> <P>\t\t\t0.0000\t\t0.0000\n",
      "<P> <P> <P> <P> <P> <P> <P> <P>\t\t\t0.0000\t\t0.0000\n",
      "<P> <P> <P> <P> <P> <P> <P> <P>\t\t\t0.0000\t\t0.0000\n",
      "<P> <P> <P> <P> <P> <P> <P> <P>\t\t\t0.0000\t\t0.0000\n",
      "<P> <P> <P> <P> <P> <P> <P> <P>\t\t\t0.0000\t\t0.0000\n",
      "<P> <P> <P> <P> <P> <P> <P> <P>\t\t\t0.0000\t\t0.0000\n",
      "<P> <P> <P> <P> <P> <P> <P> <P>\t\t\t0.0000\t\t0.0000\n",
      "<P> <P> <P> <P> <P> <P> <P> <P>\t\t\t0.0000\t\t0.0000\n",
      "<P> <P> <P> <P> <P> <P> <P> <P>\t\t\t0.0000\t\t0.0000\n",
      "<P> <P> <P> <P> <P> <P> <P> <P>\t\t\t0.0000\t\t0.0000\n",
      "<P> <P> <P> <P> <P> <P> <P> <P>\t\t\t0.0000\t\t0.0000\n",
      "<P> <P> <P> <P> <P> <P> <P> <P>\t\t\t0.0000\t\t0.0000\n",
      "<P> <P> <P> <P> <P> <P> <P> <P>\t\t\t0.0000\t\t0.0000\n",
      "<P> <P> <P> <P> <P> <P> <P> <P>\t\t\t0.0000\t\t0.0000\n",
      "<P> <P> <P> <P> <P> <P> <P> <P>\t\t\t0.0000\t\t0.0000\n",
      "<P> <P> <P> <P> <P> <P> <P> <P>\t\t\t0.0000\t\t0.0000\n",
      "<P> <P> <P> <P> <P> <P> <P> <P>\t\t\t0.0000\t\t0.0000\n",
      "<P> <P> <P> <P> <P> <P> <P> <P>\t\t\t0.0000\t\t0.0000\n",
      "<P> <P> <P> <P> <P> <P> <P> <P>\t\t\t0.0000\t\t0.0000\n",
      "<P> <P> <P> <P> <P> <P> <P> <P>\t\t\t0.0000\t\t0.0000\n",
      "<P> <P> <P> <P> <P> <P> <P> <P>\t\t\t0.0000\t\t0.0000\n"
     ]
    },
    {
     "name": "stdout",
     "output_type": "stream",
     "text": [
      "Continue y/nn\n"
     ]
    }
   ],
   "source": [
    "#Prints a story sample, its query, answer, prediction and the weights correspoing to both hops. \n",
    "\n",
    "m = len(X_train[0])\n",
    "while(True):\n",
    "    print()\n",
    "    idx = np.random.choice(m)\n",
    "    story_sample = X_train[0][idx]\n",
    "    question_sample = X_train[1][idx]\n",
    "    answer_sample = X_train[2][idx]\n",
    "\n",
    "    weights_1_sample, weights_2_sample, pred_sample = story_weights_model.predict([[story_sample], [question_sample]])\n",
    "    \n",
    "    print(np.sum(weights_1_sample[0]), np.sum(weights_2_sample[0]))\n",
    "    print(\"Question: \", to_text(question_sample), \"Answer:\", to_text(answer_sample), \"Prediction:\", idx2word[np.argmax(pred_sample)])\n",
    "\n",
    "    print(\"Story: \")\n",
    "    for sentence_idxs, weight_1, weight_2 in zip(story_sample, weights_1_sample[0], weights_2_sample[0]):\n",
    "        print(\"{}\\t\\t\\t{:.4f}\\t\\t{:.4f}\".format(to_text(sentence_idxs) , weight_1, weight_2))\n",
    "        \n",
    "    res = input(\"Continue y/n\");\n",
    "    if(res == \"n\"):\n",
    "        break;"
   ]
  },
  {
   "cell_type": "code",
   "execution_count": null,
   "metadata": {},
   "outputs": [],
   "source": []
  }
 ],
 "metadata": {
  "kernelspec": {
   "display_name": "Python 3",
   "language": "python",
   "name": "python3"
  },
  "language_info": {
   "codemirror_mode": {
    "name": "ipython",
    "version": 3
   },
   "file_extension": ".py",
   "mimetype": "text/x-python",
   "name": "python",
   "nbconvert_exporter": "python",
   "pygments_lexer": "ipython3",
   "version": "3.5.4"
  }
 },
 "nbformat": 4,
 "nbformat_minor": 2
}
