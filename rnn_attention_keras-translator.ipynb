{
 "cells": [
  {
   "cell_type": "code",
   "execution_count": 1,
   "metadata": {},
   "outputs": [
    {
     "name": "stderr",
     "output_type": "stream",
     "text": [
      "Using TensorFlow backend.\n"
     ]
    }
   ],
   "source": [
    "import numpy as np\n",
    "from keras.preprocessing.text import Tokenizer\n",
    "from keras.preprocessing.sequence import pad_sequences"
   ]
  },
  {
   "cell_type": "code",
   "execution_count": 2,
   "metadata": {},
   "outputs": [],
   "source": [
    "from keras.layers import CuDNNLSTM as LSTM\n",
    "from keras.layers import Dense, Bidirectional, Concatenate, Input\n",
    "from keras.models import Model\n",
    "import keras.backend as K\n",
    "from keras.layers import Lambda, Dot\n",
    "from keras.layers import RepeatVector \n",
    "from keras.layers import Embedding\n",
    "from keras.optimizers import Adam"
   ]
  },
  {
   "cell_type": "code",
   "execution_count": 5,
   "metadata": {},
   "outputs": [],
   "source": [
    "MAX_SENTENCES = 10000\n",
    "MAX_VOCABULARY = 20000\n",
    "MAX_SEQUENCE_LENGTH = 100\n",
    "EMBEDDINGS_DIM = 100\n",
    "LATENT_ENCODER_DIM = 200\n",
    "LATENT_DECODER_DIM = 150"
   ]
  },
  {
   "cell_type": "code",
   "execution_count": 6,
   "metadata": {},
   "outputs": [],
   "source": [
    "spanish_input_sentences = []\n",
    "spanish_output_sentences = []\n",
    "english_sentences = []\n",
    "\n",
    "count = 0\n",
    "with open(\"./spa.txt\", encoding=\"utf-8\") as f:\n",
    "    for line in f:\n",
    "        if(count< MAX_SENTENCES):\n",
    "            english, spanish = line.strip().split(\"\\t\");\n",
    "            spanish_input = \"<sos> \" + spanish; \n",
    "            spanish_output = spanish + \" <eos>\"\n",
    "            spanish_input_sentences.append(spanish_input);\n",
    "            spanish_output_sentences.append(spanish_output);\n",
    "            english_sentences.append(english);\n",
    "            count += 1"
   ]
  },
  {
   "cell_type": "code",
   "execution_count": null,
   "metadata": {},
   "outputs": [],
   "source": []
  },
  {
   "cell_type": "code",
   "execution_count": 8,
   "metadata": {},
   "outputs": [],
   "source": [
    "encoder_tokenizer = Tokenizer(num_words = MAX_VOCABULARY)\n",
    "decoder_tokenizer = Tokenizer(num_words = MAX_VOCABULARY, filters = '.')\n",
    "#decoder_tokenizer = Tokenizer(num_words = MAX_VOCABULARY)\n",
    "encoder_tokenizer.fit_on_texts(english_sentences)\n",
    "decoder_tokenizer.fit_on_texts(spanish_input_sentences + spanish_output_sentences) #Dont remove special characers"
   ]
  },
  {
   "cell_type": "code",
   "execution_count": 9,
   "metadata": {},
   "outputs": [],
   "source": [
    "encoder_sequences = encoder_tokenizer.texts_to_sequences(english_sentences)\n",
    "decoder_sequences_input = decoder_tokenizer.texts_to_sequences(spanish_input_sentences)\n",
    "decoder_sequences_target = decoder_tokenizer.texts_to_sequences(spanish_output_sentences)"
   ]
  },
  {
   "cell_type": "code",
   "execution_count": 10,
   "metadata": {},
   "outputs": [
    {
     "data": {
      "text/plain": [
       "(5, 9)"
      ]
     },
     "execution_count": 10,
     "metadata": {},
     "output_type": "execute_result"
    }
   ],
   "source": [
    "MAX_ENCODER_SEQUENCE_LENGTH = max([len(sequence) for sequence in encoder_sequences])\n",
    "MAX_DECODER_SEQUENCE_LENGTH = max([len(sequence) for sequence in decoder_sequences_input])\n",
    "MAX_ENCODER_SEQUENCE_LENGTH = min(MAX_ENCODER_SEQUENCE_LENGTH, MAX_SEQUENCE_LENGTH)\n",
    "MAX_DECODER_SEQUENCE_LENGTH = min(MAX_DECODER_SEQUENCE_LENGTH, MAX_SEQUENCE_LENGTH)\n",
    "MAX_ENCODER_SEQUENCE_LENGTH, MAX_DECODER_SEQUENCE_LENGTH"
   ]
  },
  {
   "cell_type": "code",
   "execution_count": 11,
   "metadata": {},
   "outputs": [],
   "source": [
    "encoder_sequences_padded = pad_sequences(encoder_sequences, maxlen=MAX_ENCODER_SEQUENCE_LENGTH, padding='post')\n",
    "decoder_sequences_input_padded = pad_sequences(decoder_sequences_input, maxlen=MAX_DECODER_SEQUENCE_LENGTH, padding='post')\n",
    "decoder_sequences_target_padded = pad_sequences(decoder_sequences_target, maxlen=MAX_DECODER_SEQUENCE_LENGTH, padding='post')"
   ]
  },
  {
   "cell_type": "code",
   "execution_count": 12,
   "metadata": {},
   "outputs": [
    {
     "data": {
      "text/plain": [
       "(2365, 5604)"
      ]
     },
     "execution_count": 12,
     "metadata": {},
     "output_type": "execute_result"
    }
   ],
   "source": [
    "#We need to add + 1 so as to take into account the index 0.\n",
    "#In the output of the decoder we normally create a dense layer of size vocabulary_length taking for granted that\n",
    "#index 0 is a valid index and part of our vocabulary. Keras tokenizer doesn't take the zero into account and we \n",
    "#need to correct for it. We add a 1 to our vocabulary_length so the final dense layer is size vocabulary_length + 1.\n",
    "MAX_ENCODER_VOCABULARY = min(len(encoder_tokenizer.word_index), MAX_VOCABULARY) + 1\n",
    "MAX_DECODER_VOCABULARY = min(len(decoder_tokenizer.word_index), MAX_VOCABULARY) + 1\n",
    "MAX_ENCODER_VOCABULARY, MAX_DECODER_VOCABULARY"
   ]
  },
  {
   "cell_type": "code",
   "execution_count": 13,
   "metadata": {},
   "outputs": [],
   "source": [
    "encoder_word2idx = {}\n",
    "encoder_idx2word = {}\n",
    "decoder_word2idx = {}\n",
    "decoder_idx2word = {}\n",
    "\n",
    "for word, index in encoder_tokenizer.word_index.items():\n",
    "    if index <= MAX_ENCODER_VOCABULARY:\n",
    "        encoder_word2idx[word] = index;\n",
    "        encoder_idx2word[index] = word;\n",
    "        \n",
    "for word, index in decoder_tokenizer.word_index.items():\n",
    "    if index <= MAX_DECODER_VOCABULARY:\n",
    "        decoder_word2idx[word] = index;\n",
    "        decoder_idx2word[index] = word;"
   ]
  },
  {
   "cell_type": "code",
   "execution_count": 16,
   "metadata": {},
   "outputs": [],
   "source": [
    "#One hot targets\n",
    "one_hot_targets = np.zeros((len(decoder_sequences_target_padded), MAX_DECODER_SEQUENCE_LENGTH, MAX_DECODER_VOCABULARY))\n",
    "for sequence_pos, sequence in enumerate(decoder_sequences_target_padded):\n",
    "    for word_pos, word_idx in enumerate(sequence):\n",
    "        one_hot_targets[sequence_pos, word_pos, word_idx] = 1.0"
   ]
  },
  {
   "cell_type": "code",
   "execution_count": null,
   "metadata": {},
   "outputs": [],
   "source": []
  },
  {
   "cell_type": "code",
   "execution_count": 17,
   "metadata": {},
   "outputs": [],
   "source": [
    "#100 vector dimension.\n",
    "word2vec = {}\n",
    "with open(\"../basic_language_models/large_files/glove.6B/glove.6B.100d.txt\", encoding=\"utf-8\") as f:\n",
    "    for line in f:\n",
    "        tokens = line.split();\n",
    "        word = tokens[0];\n",
    "        vector = np.array(tokens[1:])\n",
    "        word2vec[word] = vector;"
   ]
  },
  {
   "cell_type": "code",
   "execution_count": 18,
   "metadata": {},
   "outputs": [],
   "source": [
    "encoder_embeddings_weights = np.zeros((MAX_ENCODER_VOCABULARY, EMBEDDINGS_DIM));\n",
    "for word, index in encoder_tokenizer.word_index.items():\n",
    "    if index <= MAX_ENCODER_VOCABULARY:\n",
    "        if word in word2vec:\n",
    "            encoder_embeddings_weights[index] = word2vec[word]"
   ]
  },
  {
   "cell_type": "code",
   "execution_count": 19,
   "metadata": {},
   "outputs": [],
   "source": [
    "def softmax_over_time(x):\n",
    "    array_norm = K.exp(x - K.max(x, axis = 1, keepdims = True))\n",
    "    return array_norm/K.sum(array_norm, axis = 1, keepdims = True)"
   ]
  },
  {
   "cell_type": "code",
   "execution_count": null,
   "metadata": {},
   "outputs": [],
   "source": []
  },
  {
   "cell_type": "code",
   "execution_count": 20,
   "metadata": {},
   "outputs": [],
   "source": [
    "encoder_embeddings = Embedding(input_dim = MAX_ENCODER_VOCABULARY, \n",
    "                        output_dim = EMBEDDINGS_DIM,\n",
    "                        weights = [encoder_embeddings_weights],\n",
    "                        input_length = MAX_ENCODER_SEQUENCE_LENGTH)"
   ]
  },
  {
   "cell_type": "code",
   "execution_count": 21,
   "metadata": {},
   "outputs": [],
   "source": [
    "decoder_embeddings = Embedding(input_dim = MAX_DECODER_VOCABULARY,\n",
    "                              output_dim = EMBEDDINGS_DIM)\n",
    "                              #weights = [encoder_embeddings_weights])"
   ]
  },
  {
   "cell_type": "code",
   "execution_count": 22,
   "metadata": {},
   "outputs": [
    {
     "name": "stdout",
     "output_type": "stream",
     "text": [
      "def foo(module, x): pass <unknown> exec 1024\n",
      "def foo(module, x): pass <unknown> exec 1024\n"
     ]
    }
   ],
   "source": [
    "encoder_input = Input([MAX_ENCODER_SEQUENCE_LENGTH])\n",
    "encoder_input_embedded = encoder_embeddings(encoder_input)\n",
    "lstm = LSTM(LATENT_ENCODER_DIM, return_sequences=True)\n",
    "encoder_rnn = Bidirectional(lstm)(encoder_input_embedded)"
   ]
  },
  {
   "cell_type": "code",
   "execution_count": 23,
   "metadata": {},
   "outputs": [
    {
     "data": {
      "text/plain": [
       "<tf.Tensor 'bidirectional_1/concat_2:0' shape=(?, 5, 400) dtype=float32>"
      ]
     },
     "execution_count": 23,
     "metadata": {},
     "output_type": "execute_result"
    }
   ],
   "source": [
    "encoder_rnn"
   ]
  },
  {
   "cell_type": "code",
   "execution_count": 24,
   "metadata": {},
   "outputs": [],
   "source": [
    "n_hidden1 = 10\n",
    "repeat_layer = RepeatVector(MAX_ENCODER_SEQUENCE_LENGTH)\n",
    "concatenate_layer = Concatenate()\n",
    "dense1_layer = Dense(n_hidden1, activation='tanh')\n",
    "dense2_layer = Dense(1, activation = softmax_over_time)\n",
    "dot_layer = Dot(axes= 1)\n",
    "\n",
    "def attention_layer(h, rnn_output):\n",
    "    # rnn_output is the output of the bidirectional layer (?, Tx, 2*LATENT_ENCODER_DIM)\n",
    "    # h is the last hidden state of the decoder lstm (?, LATENT_DECODER_DIM)\n",
    "\n",
    "    h_T = repeat_layer(h) #(?, Tx, LATENT_DECODER_DIM)\n",
    "    h_encoder_concat = concatenate_layer([h_T, rnn_output])  #(?, Tx, LATENT_DECODER_DIM), (?, Tx, 2*LATENT_ENCODER_DIM)\n",
    "    #(?, T, LATENT_DECODER_DIM + 2*LATENT_ENCODER_DIM) ---> #(?, T, LATENT_DECODER_DIM + 2*LATENT_ENCODER_DIM)\n",
    "    \n",
    "    hidden1 = dense1_layer(h_encoder_concat)\n",
    "    #print(hidden1)  #(?, Tx, n_hidden1)\n",
    "    alphas = dense2_layer(hidden1)\n",
    "    #print(alphas) #(?, Tx, 1)\n",
    "    context = dot_layer([alphas, rnn_output])\n",
    "    return alphas, context; #(?, 1, 2*LATENT_ENCODER_DIM)"
   ]
  },
  {
   "cell_type": "code",
   "execution_count": 25,
   "metadata": {},
   "outputs": [],
   "source": [
    "#input_h = Input([LATENT_DECODER_DIM])\n",
    "#attention_layer(input_h)\n",
    "def permute_dimensions(x):\n",
    "    #Stacking and permuting Must be inside a single function so they are passed together to the Lambda function\n",
    "    #If done independently keras will complain that stack or permute_dimentions are not layers.\n",
    "    x = K.stack(x)\n",
    "    return K.permute_dimensions(x, (1, 0, 2))"
   ]
  },
  {
   "cell_type": "code",
   "execution_count": 26,
   "metadata": {},
   "outputs": [
    {
     "data": {
      "text/plain": [
       "9"
      ]
     },
     "execution_count": 26,
     "metadata": {},
     "output_type": "execute_result"
    }
   ],
   "source": [
    "MAX_DECODER_SEQUENCE_LENGTH"
   ]
  },
  {
   "cell_type": "code",
   "execution_count": 27,
   "metadata": {},
   "outputs": [],
   "source": [
    "decoder_input = Input([MAX_DECODER_SEQUENCE_LENGTH], name= \"decoder_input_\")\n",
    "decoder_input_embedded = decoder_embeddings(decoder_input)\n",
    "\n",
    "lstm_decoder = LSTM(units = LATENT_DECODER_DIM, return_state=True);\n",
    "\n",
    "dense_decoder = Dense(MAX_DECODER_VOCABULARY, activation = 'softmax');\n",
    "concatenate_context_and_input = Concatenate(axis = 2)\n",
    "h_init = Input([LATENT_DECODER_DIM], name = \"h_init\")\n",
    "c_init = Input([LATENT_DECODER_DIM], name = \"c_init\")\n",
    "h = h_init;\n",
    "c = c_init;\n",
    "\n"
   ]
  },
  {
   "cell_type": "code",
   "execution_count": 28,
   "metadata": {},
   "outputs": [],
   "source": [
    "outputs = []\n",
    "\n",
    "for t in range(MAX_DECODER_SEQUENCE_LENGTH):\n",
    "    selector = Lambda(lambda x: x[:, t: t + 1])    \n",
    "    current_input = selector(decoder_input_embedded)  #(?, 1, EMBEDDIGS_DIM)\n",
    "    __, context = attention_layer(h, encoder_rnn) #(?, 1, 2*LATENT_ENCODER_DIM)    \n",
    "    #Teacher forcing\n",
    "\n",
    "    context_concatenated = concatenate_context_and_input([context, current_input]) #(?, 1, EMBEDDINGS_DIM + 2*LATENT_ENCODER_DIM)\n",
    "    o, h, c = lstm_decoder(context_concatenated, initial_state = [h, c])\n",
    "    word_probs = dense_decoder(o) #(?, MAX_DECODER_VOCABULARY)\n",
    "    outputs.append(word_probs)\n",
    "    \n",
    "    \n",
    "#outputs is a list of Ty elements each of size batch_size, MAX_DECODER_VOCABULARY\n",
    " #(Ty, ?, MAX_DECODER_VOCABULARY)\n",
    "outputs_layer = Lambda(permute_dimensions)(outputs)  #(?, Ty, MAX_DECODER_VOCABULARY)\n",
    "    \n",
    "#model = Model(inputs = [encoder_input, decoder_input, h_init, c_init], outputs = outputs)\n"
   ]
  },
  {
   "cell_type": "code",
   "execution_count": 29,
   "metadata": {},
   "outputs": [],
   "source": [
    "model = Model(inputs = [encoder_input, decoder_input, h_init, c_init], outputs = outputs_layer)"
   ]
  },
  {
   "cell_type": "code",
   "execution_count": 30,
   "metadata": {},
   "outputs": [],
   "source": [
    "m = len(encoder_sequences_padded)\n",
    "h_init_ = np.zeros((m, LATENT_DECODER_DIM))\n",
    "c_init_ = np.zeros((m, LATENT_DECODER_DIM))\n",
    "model.compile(optimizer = Adam(0.001), \n",
    "              loss = 'categorical_crossentropy', \n",
    "              metrics = ['accuracy'])"
   ]
  },
  {
   "cell_type": "code",
   "execution_count": 31,
   "metadata": {},
   "outputs": [
    {
     "name": "stdout",
     "output_type": "stream",
     "text": [
      "Train on 8000 samples, validate on 2000 samples\n",
      "Epoch 1/200\n",
      "8000/8000 [==============================] - 47s 6ms/step - loss: 4.3010 - acc: 0.5710 - val_loss: 3.3599 - val_acc: 0.5258\n",
      "Epoch 2/200\n",
      "8000/8000 [==============================] - 46s 6ms/step - loss: 2.7631 - acc: 0.5807 - val_loss: 3.0868 - val_acc: 0.5258\n",
      "Epoch 3/200\n",
      "8000/8000 [==============================] - 47s 6ms/step - loss: 2.5181 - acc: 0.5961 - val_loss: 2.9332 - val_acc: 0.6048\n",
      "Epoch 4/200\n",
      "8000/8000 [==============================] - 44s 6ms/step - loss: 2.3827 - acc: 0.6807 - val_loss: 2.8390 - val_acc: 0.6354\n",
      "Epoch 5/200\n",
      "8000/8000 [==============================] - 44s 6ms/step - loss: 2.2946 - acc: 0.6917 - val_loss: 2.7922 - val_acc: 0.6367\n",
      "Epoch 6/200\n",
      "8000/8000 [==============================] - 44s 6ms/step - loss: 2.2328 - acc: 0.6932 - val_loss: 2.7418 - val_acc: 0.6369\n",
      "Epoch 7/200\n",
      "8000/8000 [==============================] - 43s 5ms/step - loss: 2.1827 - acc: 0.6981 - val_loss: 2.7113 - val_acc: 0.6501\n",
      "Epoch 8/200\n",
      "8000/8000 [==============================] - 43s 5ms/step - loss: 2.1444 - acc: 0.7038 - val_loss: 2.6930 - val_acc: 0.6583\n",
      "Epoch 9/200\n",
      "8000/8000 [==============================] - 43s 5ms/step - loss: 2.1125 - acc: 0.7055 - val_loss: 2.6746 - val_acc: 0.6596\n",
      "Epoch 10/200\n",
      "8000/8000 [==============================] - 44s 6ms/step - loss: 2.0860 - acc: 0.7057 - val_loss: 2.6486 - val_acc: 0.6598\n",
      "Epoch 11/200\n",
      "8000/8000 [==============================] - 45s 6ms/step - loss: 2.0610 - acc: 0.7062 - val_loss: 2.6248 - val_acc: 0.6600\n",
      "Epoch 12/200\n",
      "8000/8000 [==============================] - 44s 5ms/step - loss: 2.0335 - acc: 0.7067 - val_loss: 2.6077 - val_acc: 0.6615\n",
      "Epoch 13/200\n",
      "8000/8000 [==============================] - 43s 5ms/step - loss: 2.0032 - acc: 0.7083 - val_loss: 2.5798 - val_acc: 0.6636\n",
      "Epoch 14/200\n",
      "8000/8000 [==============================] - 44s 5ms/step - loss: 1.9659 - acc: 0.7119 - val_loss: 2.5336 - val_acc: 0.6675\n",
      "Epoch 15/200\n",
      "8000/8000 [==============================] - 43s 5ms/step - loss: 1.9243 - acc: 0.7165 - val_loss: 2.4911 - val_acc: 0.6677\n",
      "Epoch 16/200\n",
      "8000/8000 [==============================] - 46s 6ms/step - loss: 1.8825 - acc: 0.7213 - val_loss: 2.4552 - val_acc: 0.6736\n",
      "Epoch 17/200\n",
      "8000/8000 [==============================] - 45s 6ms/step - loss: 1.8431 - acc: 0.7236 - val_loss: 2.4222 - val_acc: 0.6738\n",
      "Epoch 18/200\n",
      "8000/8000 [==============================] - 50s 6ms/step - loss: 1.8050 - acc: 0.7253 - val_loss: 2.3957 - val_acc: 0.6763\n",
      "Epoch 19/200\n",
      "8000/8000 [==============================] - 49s 6ms/step - loss: 1.7701 - acc: 0.7287 - val_loss: 2.3672 - val_acc: 0.6775\n",
      "Epoch 20/200\n",
      "8000/8000 [==============================] - 51s 6ms/step - loss: 1.7361 - acc: 0.7307 - val_loss: 2.3658 - val_acc: 0.6779\n",
      "Epoch 21/200\n",
      "8000/8000 [==============================] - 47s 6ms/step - loss: 1.7030 - acc: 0.7334 - val_loss: 2.3295 - val_acc: 0.6797\n",
      "Epoch 22/200\n",
      "8000/8000 [==============================] - 44s 6ms/step - loss: 1.6683 - acc: 0.7373 - val_loss: 2.3049 - val_acc: 0.6815\n",
      "Epoch 23/200\n",
      "8000/8000 [==============================] - 46s 6ms/step - loss: 1.6346 - acc: 0.7410 - val_loss: 2.2868 - val_acc: 0.6831\n",
      "Epoch 24/200\n",
      "8000/8000 [==============================] - 48s 6ms/step - loss: 1.6013 - acc: 0.7441 - val_loss: 2.2719 - val_acc: 0.6852\n",
      "Epoch 25/200\n",
      "8000/8000 [==============================] - 45s 6ms/step - loss: 1.5688 - acc: 0.7481 - val_loss: 2.2553 - val_acc: 0.6869\n",
      "Epoch 26/200\n",
      "8000/8000 [==============================] - 43s 5ms/step - loss: 1.5371 - acc: 0.7510 - val_loss: 2.2397 - val_acc: 0.6908\n",
      "Epoch 27/200\n",
      "8000/8000 [==============================] - 44s 5ms/step - loss: 1.5067 - acc: 0.7538 - val_loss: 2.2201 - val_acc: 0.6917\n",
      "Epoch 28/200\n",
      "8000/8000 [==============================] - 44s 5ms/step - loss: 1.4759 - acc: 0.7572 - val_loss: 2.2103 - val_acc: 0.6922\n",
      "Epoch 29/200\n",
      "8000/8000 [==============================] - 47s 6ms/step - loss: 1.4453 - acc: 0.7598 - val_loss: 2.1956 - val_acc: 0.6946\n",
      "Epoch 30/200\n",
      "8000/8000 [==============================] - 53s 7ms/step - loss: 1.4156 - acc: 0.7631 - val_loss: 2.1879 - val_acc: 0.6973\n",
      "Epoch 31/200\n",
      "8000/8000 [==============================] - 48s 6ms/step - loss: 1.3865 - acc: 0.7661 - val_loss: 2.1723 - val_acc: 0.6987\n",
      "Epoch 32/200\n",
      "8000/8000 [==============================] - 48s 6ms/step - loss: 1.3577 - acc: 0.7694 - val_loss: 2.1530 - val_acc: 0.7041\n",
      "Epoch 33/200\n",
      "8000/8000 [==============================] - 47s 6ms/step - loss: 1.3303 - acc: 0.7724 - val_loss: 2.1491 - val_acc: 0.7033\n",
      "Epoch 34/200\n",
      "8000/8000 [==============================] - 50s 6ms/step - loss: 1.3023 - acc: 0.7755 - val_loss: 2.1318 - val_acc: 0.7043\n",
      "Epoch 35/200\n",
      "8000/8000 [==============================] - 49s 6ms/step - loss: 1.2740 - acc: 0.7792 - val_loss: 2.1233 - val_acc: 0.7077\n",
      "Epoch 36/200\n",
      "8000/8000 [==============================] - 48s 6ms/step - loss: 1.2463 - acc: 0.7837 - val_loss: 2.1176 - val_acc: 0.7099\n",
      "Epoch 37/200\n",
      "8000/8000 [==============================] - 46s 6ms/step - loss: 1.2192 - acc: 0.7862 - val_loss: 2.1051 - val_acc: 0.7126\n",
      "Epoch 38/200\n",
      "8000/8000 [==============================] - 46s 6ms/step - loss: 1.1931 - acc: 0.7897 - val_loss: 2.1008 - val_acc: 0.7141\n",
      "Epoch 39/200\n",
      "8000/8000 [==============================] - 47s 6ms/step - loss: 1.1664 - acc: 0.7926 - val_loss: 2.0915 - val_acc: 0.7172\n",
      "Epoch 40/200\n",
      "8000/8000 [==============================] - 47s 6ms/step - loss: 1.1400 - acc: 0.7958 - val_loss: 2.0784 - val_acc: 0.7184\n",
      "Epoch 41/200\n",
      "8000/8000 [==============================] - 48s 6ms/step - loss: 1.1144 - acc: 0.7990 - val_loss: 2.0724 - val_acc: 0.7193\n",
      "Epoch 42/200\n",
      "8000/8000 [==============================] - 47s 6ms/step - loss: 1.0884 - acc: 0.8024 - val_loss: 2.0660 - val_acc: 0.7227\n",
      "Epoch 43/200\n",
      "8000/8000 [==============================] - 49s 6ms/step - loss: 1.0646 - acc: 0.8048 - val_loss: 2.0540 - val_acc: 0.7239\n",
      "Epoch 44/200\n",
      "8000/8000 [==============================] - 49s 6ms/step - loss: 1.0396 - acc: 0.8078 - val_loss: 2.0500 - val_acc: 0.7232\n",
      "Epoch 45/200\n",
      "8000/8000 [==============================] - 49s 6ms/step - loss: 1.0143 - acc: 0.8109 - val_loss: 2.0498 - val_acc: 0.7258\n",
      "Epoch 46/200\n",
      "8000/8000 [==============================] - 47s 6ms/step - loss: 0.9896 - acc: 0.8139 - val_loss: 2.0356 - val_acc: 0.7274\n",
      "Epoch 47/200\n",
      "8000/8000 [==============================] - 50s 6ms/step - loss: 0.9648 - acc: 0.8179 - val_loss: 2.0322 - val_acc: 0.7290\n",
      "Epoch 48/200\n",
      "8000/8000 [==============================] - 48s 6ms/step - loss: 0.9400 - acc: 0.8207 - val_loss: 2.0261 - val_acc: 0.7283\n",
      "Epoch 49/200\n",
      "8000/8000 [==============================] - 47s 6ms/step - loss: 0.9159 - acc: 0.8236 - val_loss: 2.0229 - val_acc: 0.7293\n",
      "Epoch 50/200\n",
      "8000/8000 [==============================] - 47s 6ms/step - loss: 0.8916 - acc: 0.8271 - val_loss: 2.0152 - val_acc: 0.7296\n",
      "Epoch 51/200\n",
      "8000/8000 [==============================] - 46s 6ms/step - loss: 0.8675 - acc: 0.8306 - val_loss: 2.0129 - val_acc: 0.7313\n",
      "Epoch 52/200\n",
      "8000/8000 [==============================] - 48s 6ms/step - loss: 0.8417 - acc: 0.8334 - val_loss: 2.0099 - val_acc: 0.7318\n",
      "Epoch 53/200\n",
      "8000/8000 [==============================] - 45s 6ms/step - loss: 0.8164 - acc: 0.8372 - val_loss: 2.0064 - val_acc: 0.7328\n",
      "Epoch 54/200\n",
      "8000/8000 [==============================] - 46s 6ms/step - loss: 0.7918 - acc: 0.8407 - val_loss: 2.0009 - val_acc: 0.7346\n",
      "Epoch 55/200\n",
      "8000/8000 [==============================] - 45s 6ms/step - loss: 0.7674 - acc: 0.8440 - val_loss: 2.0001 - val_acc: 0.7371\n",
      "Epoch 56/200\n",
      "8000/8000 [==============================] - 49s 6ms/step - loss: 0.7425 - acc: 0.8481 - val_loss: 2.0009 - val_acc: 0.7349\n",
      "Epoch 57/200\n",
      "8000/8000 [==============================] - 48s 6ms/step - loss: 0.7186 - acc: 0.8515 - val_loss: 1.9927 - val_acc: 0.7386\n",
      "Epoch 58/200\n",
      "8000/8000 [==============================] - 49s 6ms/step - loss: 0.6947 - acc: 0.8558 - val_loss: 1.9901 - val_acc: 0.7373\n",
      "Epoch 59/200\n",
      "8000/8000 [==============================] - 48s 6ms/step - loss: 0.6723 - acc: 0.8593 - val_loss: 1.9904 - val_acc: 0.7401\n",
      "Epoch 60/200\n"
     ]
    },
    {
     "name": "stdout",
     "output_type": "stream",
     "text": [
      "8000/8000 [==============================] - 49s 6ms/step - loss: 0.6480 - acc: 0.8643 - val_loss: 1.9874 - val_acc: 0.7401\n",
      "Epoch 61/200\n",
      "8000/8000 [==============================] - 50s 6ms/step - loss: 0.6237 - acc: 0.8694 - val_loss: 1.9874 - val_acc: 0.7411\n",
      "Epoch 62/200\n",
      "8000/8000 [==============================] - 50s 6ms/step - loss: 0.6009 - acc: 0.8740 - val_loss: 1.9830 - val_acc: 0.7424\n",
      "Epoch 63/200\n",
      "8000/8000 [==============================] - 47s 6ms/step - loss: 0.5782 - acc: 0.8780 - val_loss: 1.9810 - val_acc: 0.7422\n",
      "Epoch 64/200\n",
      "8000/8000 [==============================] - 47s 6ms/step - loss: 0.5551 - acc: 0.8826 - val_loss: 1.9780 - val_acc: 0.7434\n",
      "Epoch 65/200\n",
      "8000/8000 [==============================] - 46s 6ms/step - loss: 0.5323 - acc: 0.8887 - val_loss: 1.9777 - val_acc: 0.7426\n",
      "Epoch 66/200\n",
      "8000/8000 [==============================] - 46s 6ms/step - loss: 0.5115 - acc: 0.8924 - val_loss: 1.9774 - val_acc: 0.7434\n",
      "Epoch 67/200\n",
      "8000/8000 [==============================] - 46s 6ms/step - loss: 0.4894 - acc: 0.8974 - val_loss: 1.9749 - val_acc: 0.7451\n",
      "Epoch 68/200\n",
      "8000/8000 [==============================] - 45s 6ms/step - loss: 0.4683 - acc: 0.9014 - val_loss: 1.9747 - val_acc: 0.7448\n",
      "Epoch 69/200\n",
      "8000/8000 [==============================] - 44s 6ms/step - loss: 0.4484 - acc: 0.9060 - val_loss: 1.9753 - val_acc: 0.7447\n",
      "Epoch 70/200\n",
      "8000/8000 [==============================] - 47s 6ms/step - loss: 0.4282 - acc: 0.9108 - val_loss: 1.9739 - val_acc: 0.7451\n",
      "Epoch 71/200\n",
      "8000/8000 [==============================] - 48s 6ms/step - loss: 0.4082 - acc: 0.9150 - val_loss: 1.9732 - val_acc: 0.7454\n",
      "Epoch 72/200\n",
      "8000/8000 [==============================] - 49s 6ms/step - loss: 0.3904 - acc: 0.9196 - val_loss: 1.9676 - val_acc: 0.7459\n",
      "Epoch 73/200\n",
      "8000/8000 [==============================] - 44s 5ms/step - loss: 0.3730 - acc: 0.9225 - val_loss: 1.9683 - val_acc: 0.7462\n",
      "Epoch 74/200\n",
      "8000/8000 [==============================] - 44s 5ms/step - loss: 0.3556 - acc: 0.9252 - val_loss: 1.9747 - val_acc: 0.7454\n",
      "Epoch 75/200\n",
      "8000/8000 [==============================] - 50s 6ms/step - loss: 0.3399 - acc: 0.9283 - val_loss: 1.9684 - val_acc: 0.7476\n",
      "Epoch 76/200\n",
      "8000/8000 [==============================] - 45s 6ms/step - loss: 0.3248 - acc: 0.9317 - val_loss: 1.9681 - val_acc: 0.7492\n",
      "Epoch 77/200\n",
      "8000/8000 [==============================] - 44s 5ms/step - loss: 0.3100 - acc: 0.9338 - val_loss: 1.9693 - val_acc: 0.7491\n",
      "Epoch 78/200\n",
      "8000/8000 [==============================] - 47s 6ms/step - loss: 0.2963 - acc: 0.9356 - val_loss: 1.9714 - val_acc: 0.7472\n",
      "Epoch 79/200\n",
      "8000/8000 [==============================] - 49s 6ms/step - loss: 0.2835 - acc: 0.9384 - val_loss: 1.9771 - val_acc: 0.7485\n",
      "Epoch 80/200\n",
      "8000/8000 [==============================] - 47s 6ms/step - loss: 0.2718 - acc: 0.9394 - val_loss: 1.9784 - val_acc: 0.7507\n",
      "Epoch 81/200\n",
      "8000/8000 [==============================] - 47s 6ms/step - loss: 0.2593 - acc: 0.9414 - val_loss: 1.9776 - val_acc: 0.7488\n",
      "Epoch 82/200\n",
      "8000/8000 [==============================] - 47s 6ms/step - loss: 0.2493 - acc: 0.9431 - val_loss: 1.9849 - val_acc: 0.7479\n",
      "Epoch 83/200\n",
      "8000/8000 [==============================] - 51s 6ms/step - loss: 0.2384 - acc: 0.9444 - val_loss: 1.9789 - val_acc: 0.7504\n",
      "Epoch 84/200\n",
      "8000/8000 [==============================] - 48s 6ms/step - loss: 0.2287 - acc: 0.9457 - val_loss: 1.9824 - val_acc: 0.7514\n",
      "Epoch 85/200\n",
      "8000/8000 [==============================] - 47s 6ms/step - loss: 0.2195 - acc: 0.9468 - val_loss: 1.9888 - val_acc: 0.7503\n",
      "Epoch 86/200\n",
      "8000/8000 [==============================] - 47s 6ms/step - loss: 0.2109 - acc: 0.9483 - val_loss: 1.9892 - val_acc: 0.7501\n",
      "Epoch 87/200\n",
      "8000/8000 [==============================] - 51s 6ms/step - loss: 0.2029 - acc: 0.9486 - val_loss: 1.9892 - val_acc: 0.7511\n",
      "Epoch 88/200\n",
      "8000/8000 [==============================] - 51s 6ms/step - loss: 0.1952 - acc: 0.9494 - val_loss: 1.9956 - val_acc: 0.7524\n",
      "Epoch 89/200\n",
      "8000/8000 [==============================] - 51s 6ms/step - loss: 0.1885 - acc: 0.9502 - val_loss: 1.9916 - val_acc: 0.7519\n",
      "Epoch 90/200\n",
      "8000/8000 [==============================] - 46s 6ms/step - loss: 0.1817 - acc: 0.9513 - val_loss: 2.0008 - val_acc: 0.7503\n",
      "Epoch 91/200\n",
      "8000/8000 [==============================] - 48s 6ms/step - loss: 0.1756 - acc: 0.9514 - val_loss: 2.0011 - val_acc: 0.7517\n",
      "Epoch 92/200\n",
      "8000/8000 [==============================] - 48s 6ms/step - loss: 0.1703 - acc: 0.9523 - val_loss: 2.0038 - val_acc: 0.7527\n",
      "Epoch 93/200\n",
      "8000/8000 [==============================] - 47s 6ms/step - loss: 0.1656 - acc: 0.9528 - val_loss: 2.0036 - val_acc: 0.7525\n",
      "Epoch 94/200\n",
      "8000/8000 [==============================] - 47s 6ms/step - loss: 0.1600 - acc: 0.9536 - val_loss: 2.0079 - val_acc: 0.7512\n",
      "Epoch 95/200\n",
      "8000/8000 [==============================] - 48s 6ms/step - loss: 0.1545 - acc: 0.9542 - val_loss: 2.0078 - val_acc: 0.7527\n",
      "Epoch 96/200\n",
      "8000/8000 [==============================] - 48s 6ms/step - loss: 0.1503 - acc: 0.9545 - val_loss: 2.0151 - val_acc: 0.7527\n",
      "Epoch 97/200\n",
      "8000/8000 [==============================] - 47s 6ms/step - loss: 0.1475 - acc: 0.9543 - val_loss: 2.0179 - val_acc: 0.7517\n",
      "Epoch 98/200\n",
      "8000/8000 [==============================] - 48s 6ms/step - loss: 0.1439 - acc: 0.9544 - val_loss: 2.0182 - val_acc: 0.7522\n",
      "Epoch 99/200\n",
      "8000/8000 [==============================] - 46s 6ms/step - loss: 0.1393 - acc: 0.9553 - val_loss: 2.0252 - val_acc: 0.7525\n",
      "Epoch 100/200\n",
      "8000/8000 [==============================] - 46s 6ms/step - loss: 0.1352 - acc: 0.9550 - val_loss: 2.0245 - val_acc: 0.7525\n",
      "Epoch 101/200\n",
      "8000/8000 [==============================] - 43s 5ms/step - loss: 0.1311 - acc: 0.9562 - val_loss: 2.0277 - val_acc: 0.7519\n",
      "Epoch 102/200\n",
      "8000/8000 [==============================] - 44s 6ms/step - loss: 0.1279 - acc: 0.9563 - val_loss: 2.0320 - val_acc: 0.7519\n",
      "Epoch 103/200\n",
      "8000/8000 [==============================] - 46s 6ms/step - loss: 0.1249 - acc: 0.9563 - val_loss: 2.0350 - val_acc: 0.7531\n",
      "Epoch 104/200\n",
      "8000/8000 [==============================] - 47s 6ms/step - loss: 0.1224 - acc: 0.9562 - val_loss: 2.0403 - val_acc: 0.7539\n",
      "Epoch 105/200\n",
      "8000/8000 [==============================] - 47s 6ms/step - loss: 0.1198 - acc: 0.9566 - val_loss: 2.0373 - val_acc: 0.7531\n",
      "Epoch 106/200\n",
      "8000/8000 [==============================] - 50s 6ms/step - loss: 0.1171 - acc: 0.9566 - val_loss: 2.0467 - val_acc: 0.7522\n",
      "Epoch 107/200\n",
      "8000/8000 [==============================] - 46s 6ms/step - loss: 0.1152 - acc: 0.9565 - val_loss: 2.0457 - val_acc: 0.7526\n",
      "Epoch 108/200\n",
      "8000/8000 [==============================] - 46s 6ms/step - loss: 0.1127 - acc: 0.9569 - val_loss: 2.0503 - val_acc: 0.7519\n",
      "Epoch 109/200\n",
      "8000/8000 [==============================] - 44s 6ms/step - loss: 0.1106 - acc: 0.9571 - val_loss: 2.0519 - val_acc: 0.7538\n",
      "Epoch 110/200\n",
      "8000/8000 [==============================] - 43s 5ms/step - loss: 0.1088 - acc: 0.9572 - val_loss: 2.0559 - val_acc: 0.7533\n",
      "Epoch 111/200\n",
      "8000/8000 [==============================] - 44s 5ms/step - loss: 0.1076 - acc: 0.9573 - val_loss: 2.0550 - val_acc: 0.7525\n",
      "Epoch 112/200\n",
      "8000/8000 [==============================] - 44s 5ms/step - loss: 0.1062 - acc: 0.9571 - val_loss: 2.0534 - val_acc: 0.7547\n",
      "Epoch 113/200\n",
      "8000/8000 [==============================] - 43s 5ms/step - loss: 0.1040 - acc: 0.9570 - val_loss: 2.0624 - val_acc: 0.7532\n",
      "Epoch 114/200\n",
      "8000/8000 [==============================] - 45s 6ms/step - loss: 0.1019 - acc: 0.9573 - val_loss: 2.0640 - val_acc: 0.7537\n",
      "Epoch 115/200\n",
      "8000/8000 [==============================] - 49s 6ms/step - loss: 0.1002 - acc: 0.9572 - val_loss: 2.0691 - val_acc: 0.7543\n",
      "Epoch 116/200\n",
      "8000/8000 [==============================] - 45s 6ms/step - loss: 0.0990 - acc: 0.9574 - val_loss: 2.0697 - val_acc: 0.7529\n",
      "Epoch 117/200\n",
      "8000/8000 [==============================] - 44s 5ms/step - loss: 0.0971 - acc: 0.9574 - val_loss: 2.0750 - val_acc: 0.7543\n",
      "Epoch 118/200\n",
      "8000/8000 [==============================] - 47s 6ms/step - loss: 0.0961 - acc: 0.9573 - val_loss: 2.0763 - val_acc: 0.7541\n",
      "Epoch 119/200\n",
      "8000/8000 [==============================] - 47s 6ms/step - loss: 0.0949 - acc: 0.9573 - val_loss: 2.0829 - val_acc: 0.7544\n"
     ]
    },
    {
     "name": "stdout",
     "output_type": "stream",
     "text": [
      "Epoch 120/200\n",
      "8000/8000 [==============================] - 48s 6ms/step - loss: 0.0935 - acc: 0.9574 - val_loss: 2.0841 - val_acc: 0.7541\n",
      "Epoch 121/200\n",
      "8000/8000 [==============================] - 48s 6ms/step - loss: 0.0927 - acc: 0.9573 - val_loss: 2.0919 - val_acc: 0.7545\n",
      "Epoch 122/200\n",
      "8000/8000 [==============================] - 48s 6ms/step - loss: 0.0916 - acc: 0.9572 - val_loss: 2.0979 - val_acc: 0.7539\n",
      "Epoch 123/200\n",
      "8000/8000 [==============================] - 48s 6ms/step - loss: 0.0908 - acc: 0.9570 - val_loss: 2.0931 - val_acc: 0.7541\n",
      "Epoch 124/200\n",
      "8000/8000 [==============================] - 47s 6ms/step - loss: 0.0897 - acc: 0.9575 - val_loss: 2.0921 - val_acc: 0.7534\n",
      "Epoch 125/200\n",
      "8000/8000 [==============================] - 46s 6ms/step - loss: 0.0893 - acc: 0.9573 - val_loss: 2.0944 - val_acc: 0.7536\n",
      "Epoch 126/200\n",
      "8000/8000 [==============================] - 48s 6ms/step - loss: 0.0900 - acc: 0.9573 - val_loss: 2.0991 - val_acc: 0.7556\n",
      "Epoch 127/200\n",
      "8000/8000 [==============================] - 47s 6ms/step - loss: 0.0882 - acc: 0.9571 - val_loss: 2.0972 - val_acc: 0.7547\n",
      "Epoch 128/200\n",
      "8000/8000 [==============================] - 49s 6ms/step - loss: 0.0868 - acc: 0.9574 - val_loss: 2.1038 - val_acc: 0.7536\n",
      "Epoch 129/200\n",
      "8000/8000 [==============================] - 46s 6ms/step - loss: 0.0852 - acc: 0.9575 - val_loss: 2.1069 - val_acc: 0.7547\n",
      "Epoch 130/200\n",
      "8000/8000 [==============================] - 48s 6ms/step - loss: 0.0842 - acc: 0.9580 - val_loss: 2.1112 - val_acc: 0.7534\n",
      "Epoch 131/200\n",
      "8000/8000 [==============================] - 48s 6ms/step - loss: 0.0835 - acc: 0.9573 - val_loss: 2.1177 - val_acc: 0.7532\n",
      "Epoch 132/200\n",
      "8000/8000 [==============================] - 49s 6ms/step - loss: 0.0827 - acc: 0.9573 - val_loss: 2.1137 - val_acc: 0.7540\n",
      "Epoch 133/200\n",
      "8000/8000 [==============================] - 47s 6ms/step - loss: 0.0822 - acc: 0.9571 - val_loss: 2.1189 - val_acc: 0.7527\n",
      "Epoch 134/200\n",
      "8000/8000 [==============================] - 48s 6ms/step - loss: 0.0821 - acc: 0.9574 - val_loss: 2.1204 - val_acc: 0.7531\n",
      "Epoch 135/200\n",
      "8000/8000 [==============================] - 47s 6ms/step - loss: 0.0811 - acc: 0.9578 - val_loss: 2.1224 - val_acc: 0.7523\n",
      "Epoch 136/200\n",
      "8000/8000 [==============================] - 47s 6ms/step - loss: 0.0802 - acc: 0.9580 - val_loss: 2.1263 - val_acc: 0.7537\n",
      "Epoch 137/200\n",
      "8000/8000 [==============================] - 48s 6ms/step - loss: 0.0795 - acc: 0.9577 - val_loss: 2.1286 - val_acc: 0.7544\n",
      "Epoch 138/200\n",
      "8000/8000 [==============================] - 47s 6ms/step - loss: 0.0786 - acc: 0.9580 - val_loss: 2.1299 - val_acc: 0.7551\n",
      "Epoch 139/200\n",
      "8000/8000 [==============================] - 47s 6ms/step - loss: 0.0784 - acc: 0.9575 - val_loss: 2.1359 - val_acc: 0.7537\n",
      "Epoch 140/200\n",
      "8000/8000 [==============================] - 47s 6ms/step - loss: 0.0780 - acc: 0.9569 - val_loss: 2.1349 - val_acc: 0.7534\n",
      "Epoch 141/200\n",
      "8000/8000 [==============================] - 44s 5ms/step - loss: 0.0778 - acc: 0.9575 - val_loss: 2.1417 - val_acc: 0.7539\n",
      "Epoch 142/200\n",
      "8000/8000 [==============================] - 44s 5ms/step - loss: 0.0775 - acc: 0.9577 - val_loss: 2.1460 - val_acc: 0.7530\n",
      "Epoch 143/200\n",
      "8000/8000 [==============================] - 47s 6ms/step - loss: 0.0767 - acc: 0.9574 - val_loss: 2.1467 - val_acc: 0.7552\n",
      "Epoch 144/200\n",
      "8000/8000 [==============================] - 45s 6ms/step - loss: 0.0763 - acc: 0.9575 - val_loss: 2.1446 - val_acc: 0.7551\n",
      "Epoch 145/200\n",
      "8000/8000 [==============================] - 44s 6ms/step - loss: 0.0759 - acc: 0.9576 - val_loss: 2.1470 - val_acc: 0.7532\n",
      "Epoch 146/200\n",
      "8000/8000 [==============================] - 44s 6ms/step - loss: 0.0755 - acc: 0.9569 - val_loss: 2.1505 - val_acc: 0.7527\n",
      "Epoch 147/200\n",
      "8000/8000 [==============================] - 45s 6ms/step - loss: 0.0751 - acc: 0.9571 - val_loss: 2.1535 - val_acc: 0.7538\n",
      "Epoch 148/200\n",
      "8000/8000 [==============================] - 44s 6ms/step - loss: 0.0745 - acc: 0.9570 - val_loss: 2.1504 - val_acc: 0.7558\n",
      "Epoch 149/200\n",
      "8000/8000 [==============================] - 45s 6ms/step - loss: 0.0744 - acc: 0.9571 - val_loss: 2.1687 - val_acc: 0.7539\n",
      "Epoch 150/200\n",
      "8000/8000 [==============================] - 45s 6ms/step - loss: 0.0742 - acc: 0.9576 - val_loss: 2.1527 - val_acc: 0.7551\n",
      "Epoch 151/200\n",
      "8000/8000 [==============================] - 47s 6ms/step - loss: 0.0765 - acc: 0.9572 - val_loss: 2.1606 - val_acc: 0.7542\n",
      "Epoch 152/200\n",
      "8000/8000 [==============================] - 48s 6ms/step - loss: 0.0784 - acc: 0.9572 - val_loss: 2.1630 - val_acc: 0.7541\n",
      "Epoch 153/200\n",
      "8000/8000 [==============================] - 46s 6ms/step - loss: 0.0767 - acc: 0.9570 - val_loss: 2.1503 - val_acc: 0.7538\n",
      "Epoch 154/200\n",
      "8000/8000 [==============================] - 49s 6ms/step - loss: 0.0767 - acc: 0.9567 - val_loss: 2.1597 - val_acc: 0.7553\n",
      "Epoch 155/200\n",
      "8000/8000 [==============================] - 46s 6ms/step - loss: 0.0740 - acc: 0.9575 - val_loss: 2.1628 - val_acc: 0.7550\n",
      "Epoch 156/200\n",
      "8000/8000 [==============================] - 50s 6ms/step - loss: 0.0723 - acc: 0.9578 - val_loss: 2.1659 - val_acc: 0.7553\n",
      "Epoch 157/200\n",
      "8000/8000 [==============================] - 46s 6ms/step - loss: 0.0720 - acc: 0.9574 - val_loss: 2.1702 - val_acc: 0.7545\n",
      "Epoch 158/200\n",
      "8000/8000 [==============================] - 46s 6ms/step - loss: 0.0714 - acc: 0.9575 - val_loss: 2.1682 - val_acc: 0.7558\n",
      "Epoch 159/200\n",
      "8000/8000 [==============================] - 47s 6ms/step - loss: 0.0710 - acc: 0.9573 - val_loss: 2.1722 - val_acc: 0.7567\n",
      "Epoch 160/200\n",
      "8000/8000 [==============================] - 46s 6ms/step - loss: 0.0706 - acc: 0.9578 - val_loss: 2.1692 - val_acc: 0.7556\n",
      "Epoch 161/200\n",
      "8000/8000 [==============================] - 46s 6ms/step - loss: 0.0704 - acc: 0.9573 - val_loss: 2.1775 - val_acc: 0.7543\n",
      "Epoch 162/200\n",
      "8000/8000 [==============================] - 47s 6ms/step - loss: 0.0701 - acc: 0.9566 - val_loss: 2.1770 - val_acc: 0.7561\n",
      "Epoch 163/200\n",
      "8000/8000 [==============================] - 46s 6ms/step - loss: 0.0700 - acc: 0.9577 - val_loss: 2.1781 - val_acc: 0.7551\n",
      "Epoch 164/200\n",
      "8000/8000 [==============================] - 48s 6ms/step - loss: 0.0698 - acc: 0.9575 - val_loss: 2.1773 - val_acc: 0.7565\n",
      "Epoch 165/200\n",
      "8000/8000 [==============================] - 47s 6ms/step - loss: 0.0697 - acc: 0.9577 - val_loss: 2.1931 - val_acc: 0.7552\n",
      "Epoch 166/200\n",
      "8000/8000 [==============================] - 47s 6ms/step - loss: 0.0695 - acc: 0.9570 - val_loss: 2.1860 - val_acc: 0.7559\n",
      "Epoch 167/200\n",
      "8000/8000 [==============================] - 47s 6ms/step - loss: 0.0691 - acc: 0.9572 - val_loss: 2.1932 - val_acc: 0.7552\n",
      "Epoch 168/200\n",
      "8000/8000 [==============================] - 47s 6ms/step - loss: 0.0690 - acc: 0.9572 - val_loss: 2.1973 - val_acc: 0.7553\n",
      "Epoch 169/200\n",
      "8000/8000 [==============================] - 47s 6ms/step - loss: 0.0690 - acc: 0.9568 - val_loss: 2.1881 - val_acc: 0.7547\n",
      "Epoch 170/200\n",
      "8000/8000 [==============================] - 44s 5ms/step - loss: 0.0685 - acc: 0.9574 - val_loss: 2.1945 - val_acc: 0.7552\n",
      "Epoch 171/200\n",
      "8000/8000 [==============================] - 44s 5ms/step - loss: 0.0685 - acc: 0.9576 - val_loss: 2.1980 - val_acc: 0.7550\n",
      "Epoch 172/200\n",
      "8000/8000 [==============================] - 43s 5ms/step - loss: 0.0683 - acc: 0.9568 - val_loss: 2.2000 - val_acc: 0.7555\n",
      "Epoch 173/200\n",
      "8000/8000 [==============================] - 44s 5ms/step - loss: 0.0682 - acc: 0.9567 - val_loss: 2.2029 - val_acc: 0.7550\n",
      "Epoch 174/200\n",
      "8000/8000 [==============================] - 43s 5ms/step - loss: 0.0678 - acc: 0.9570 - val_loss: 2.2107 - val_acc: 0.7567\n",
      "Epoch 175/200\n",
      "8000/8000 [==============================] - 43s 5ms/step - loss: 0.0678 - acc: 0.9574 - val_loss: 2.2076 - val_acc: 0.7552\n",
      "Epoch 176/200\n",
      "8000/8000 [==============================] - 46s 6ms/step - loss: 0.0677 - acc: 0.9571 - val_loss: 2.2078 - val_acc: 0.7550\n",
      "Epoch 177/200\n",
      "8000/8000 [==============================] - 43s 5ms/step - loss: 0.0687 - acc: 0.9573 - val_loss: 2.2254 - val_acc: 0.7549\n",
      "Epoch 178/200\n",
      "8000/8000 [==============================] - 43s 5ms/step - loss: 0.0698 - acc: 0.9577 - val_loss: 2.2163 - val_acc: 0.7552\n",
      "Epoch 179/200\n"
     ]
    },
    {
     "name": "stdout",
     "output_type": "stream",
     "text": [
      "8000/8000 [==============================] - 44s 5ms/step - loss: 0.0727 - acc: 0.9569 - val_loss: 2.2064 - val_acc: 0.7561\n",
      "Epoch 180/200\n",
      "8000/8000 [==============================] - 44s 6ms/step - loss: 0.0767 - acc: 0.9567 - val_loss: 2.2092 - val_acc: 0.7545\n",
      "Epoch 181/200\n",
      "8000/8000 [==============================] - 46s 6ms/step - loss: 0.0746 - acc: 0.9568 - val_loss: 2.2067 - val_acc: 0.7539\n",
      "Epoch 182/200\n",
      "8000/8000 [==============================] - 47s 6ms/step - loss: 0.0705 - acc: 0.9575 - val_loss: 2.2027 - val_acc: 0.7559\n",
      "Epoch 183/200\n",
      "8000/8000 [==============================] - 47s 6ms/step - loss: 0.0683 - acc: 0.9578 - val_loss: 2.2118 - val_acc: 0.7554\n",
      "Epoch 184/200\n",
      "8000/8000 [==============================] - 49s 6ms/step - loss: 0.0672 - acc: 0.9574 - val_loss: 2.2148 - val_acc: 0.7562\n",
      "Epoch 185/200\n",
      "8000/8000 [==============================] - 47s 6ms/step - loss: 0.0668 - acc: 0.9575 - val_loss: 2.2198 - val_acc: 0.7557\n",
      "Epoch 186/200\n",
      "8000/8000 [==============================] - 43s 5ms/step - loss: 0.0664 - acc: 0.9576 - val_loss: 2.2174 - val_acc: 0.7559\n",
      "Epoch 187/200\n",
      "8000/8000 [==============================] - 43s 5ms/step - loss: 0.0657 - acc: 0.9574 - val_loss: 2.2203 - val_acc: 0.7564\n",
      "Epoch 188/200\n",
      "8000/8000 [==============================] - 43s 5ms/step - loss: 0.0656 - acc: 0.9575 - val_loss: 2.2213 - val_acc: 0.7560\n",
      "Epoch 189/200\n",
      "8000/8000 [==============================] - 43s 5ms/step - loss: 0.0657 - acc: 0.9572 - val_loss: 2.2249 - val_acc: 0.7565\n",
      "Epoch 190/200\n",
      "8000/8000 [==============================] - 44s 5ms/step - loss: 0.0656 - acc: 0.9571 - val_loss: 2.2208 - val_acc: 0.7563\n",
      "Epoch 191/200\n",
      "8000/8000 [==============================] - 48s 6ms/step - loss: 0.0655 - acc: 0.9575 - val_loss: 2.2251 - val_acc: 0.7566\n",
      "Epoch 192/200\n",
      "8000/8000 [==============================] - 47s 6ms/step - loss: 0.0653 - acc: 0.9570 - val_loss: 2.2316 - val_acc: 0.7553\n",
      "Epoch 193/200\n",
      "8000/8000 [==============================] - 45s 6ms/step - loss: 0.0652 - acc: 0.9573 - val_loss: 2.2306 - val_acc: 0.7544\n",
      "Epoch 194/200\n",
      "8000/8000 [==============================] - 44s 5ms/step - loss: 0.0650 - acc: 0.9576 - val_loss: 2.2330 - val_acc: 0.7554\n",
      "Epoch 195/200\n",
      "8000/8000 [==============================] - 43s 5ms/step - loss: 0.0652 - acc: 0.9575 - val_loss: 2.2346 - val_acc: 0.7561\n",
      "Epoch 196/200\n",
      "8000/8000 [==============================] - 44s 5ms/step - loss: 0.0651 - acc: 0.9572 - val_loss: 2.2372 - val_acc: 0.7547\n",
      "Epoch 197/200\n",
      "8000/8000 [==============================] - 47s 6ms/step - loss: 0.0649 - acc: 0.9576 - val_loss: 2.2363 - val_acc: 0.7564\n",
      "Epoch 198/200\n",
      "8000/8000 [==============================] - 46s 6ms/step - loss: 0.0648 - acc: 0.9573 - val_loss: 2.2379 - val_acc: 0.7558\n",
      "Epoch 199/200\n",
      "8000/8000 [==============================] - 44s 6ms/step - loss: 0.0649 - acc: 0.9573 - val_loss: 2.2434 - val_acc: 0.7561\n",
      "Epoch 200/200\n",
      "8000/8000 [==============================] - 47s 6ms/step - loss: 0.0648 - acc: 0.9571 - val_loss: 2.2406 - val_acc: 0.7571\n"
     ]
    }
   ],
   "source": [
    "\n",
    "r = model.fit(x = [encoder_sequences_padded, decoder_sequences_input_padded, h_init_, c_init_], \n",
    "          y = one_hot_targets, \n",
    "          batch_size = 128, \n",
    "          epochs = 200, \n",
    "          validation_split = 0.2)"
   ]
  },
  {
   "cell_type": "code",
   "execution_count": 32,
   "metadata": {},
   "outputs": [],
   "source": [
    "#model.save_weights(\"./19032019_weights_translator_last\")"
   ]
  },
  {
   "cell_type": "code",
   "execution_count": 51,
   "metadata": {},
   "outputs": [
    {
     "data": {
      "image/png": "[encoded data removed]",
      "text/plain": [
       "<Figure size 432x288 with 1 Axes>"
      ]
     },
     "metadata": {},
     "output_type": "display_data"
    }
   ],
   "source": [
    "import matplotlib.pyplot as plt\n",
    "\n",
    "plt.plot(r.history['val_loss'], label = \"val loss\")\n",
    "plt.plot(r.history['loss'], label = \"train loss\")\n",
    "plt.legend()\n",
    "plt.show()"
   ]
  },
  {
   "cell_type": "code",
   "execution_count": 34,
   "metadata": {},
   "outputs": [
    {
     "data": {
      "image/png": "[encoded data removed]",
      "text/plain": [
       "<Figure size 432x288 with 1 Axes>"
      ]
     },
     "metadata": {},
     "output_type": "display_data"
    }
   ],
   "source": [
    "plt.plot(r.history['val_acc'], label = \"val acc\")\n",
    "plt.plot(r.history['acc'], label = \"train acc\")\n",
    "plt.legend()\n",
    "plt.show()"
   ]
  },
  {
   "cell_type": "code",
   "execution_count": 35,
   "metadata": {},
   "outputs": [],
   "source": [
    "#I create this model as a precomputation step. The subsequent prediction calculations will use the same bidirectional_model output\n",
    "#given an ecoder_input. So we can save time.\n",
    "\n",
    "#Input: encoder_input\n",
    "\n",
    "bidirectional_model = Model(inputs = encoder_input, outputs = encoder_rnn)\n",
    "\n",
    "#Input encoder_rnn\n",
    "\n",
    "rnn_output_placeholder = Input([MAX_ENCODER_SEQUENCE_LENGTH, 2*LATENT_ENCODER_DIM])\n",
    "\n",
    "\n",
    "#Will hold the last predicted word\n",
    "decoder_input_pred = Input([1], name=\"decoder_input_pred\")\n",
    "decoder_input_pred_embedded = decoder_embeddings(decoder_input_pred)\n",
    "\n",
    "\n",
    "alphas_pred,context_pred = attention_layer(h_init, rnn_output_placeholder)\n",
    "context_pred_concatenated = concatenate_context_and_input([context_pred, decoder_input_pred_embedded])\n",
    "o_curr, h_curr, c_curr = lstm_decoder(context_pred_concatenated, initial_state = [h_init, c_init])\n",
    "probs_pred = dense_decoder(o_curr)\n",
    "#translator_model = Model(inputs = [rnn_output_placeholder, h_init], outputs = [h_ss, a_ss, context_pred])\n",
    "translator_model = Model(inputs = [rnn_output_placeholder, decoder_input_pred, h_init, c_init], outputs = [probs_pred, h_curr, c_curr, context_pred, alphas_pred])"
   ]
  },
  {
   "cell_type": "code",
   "execution_count": 45,
   "metadata": {},
   "outputs": [],
   "source": [
    "def translate(sentence):\n",
    "    \n",
    "    encoder_sequence = encoder_tokenizer.texts_to_sequences([sentence])\n",
    "    encoder_sequence_padded = pad_sequences(encoder_sequence, maxlen = MAX_ENCODER_SEQUENCE_LENGTH, padding = \"post\")\n",
    "    \n",
    "    decoder_input_pred_ = np.array([[decoder_word2idx['<sos>']]])\n",
    "    h_init_ = np.zeros([1, LATENT_DECODER_DIM])\n",
    "    c_init_ = np.zeros([1, LATENT_DECODER_DIM])\n",
    "    output_sentence = []\n",
    "    attention_matrix = np.zeros((MAX_DECODER_SEQUENCE_LENGTH, MAX_ENCODER_SEQUENCE_LENGTH))\n",
    "    rnn_output_ = bidirectional_model.predict(encoder_sequence_padded);\n",
    "    #print(np.sum(rnn_output_), rnn_output_.shape)\n",
    "    #rnn_output_ = np.random.rand(1, 5, 300)\n",
    "    #print(rnn_output_.shape, np.sum(rnn_output_))\n",
    "    for t in range(MAX_DECODER_SEQUENCE_LENGTH):  \n",
    "        #print(decoder_input_pred_)\n",
    "        probs_pred_, h_init_, c_init_, context_prd_, alphas_pred_ = translator_model.predict([rnn_output_, decoder_input_pred_, h_init_, c_init_])\n",
    "        attention_matrix[t] = alphas_pred_[0,:,0]\n",
    "        #print(\"alphas:\", alphas_pred_[0,:,0].shape)\n",
    "        #print(\"output\", np.sum(probs_pred_), np.sum(h_init_), np.sum(c_init_), np.sum(context_prd_))\n",
    "        word_idx = np.argmax(probs_pred_[0][1:]) + 1;\n",
    "        word = decoder_idx2word[word_idx];\n",
    "        \n",
    "        decoder_input_pred_[0, 0] = word_idx;\n",
    "        output_sentence.append(word)\n",
    "        \n",
    "        if(word == '<eos>'):\n",
    "            break;\n",
    "\n",
    "\n",
    "\n",
    "    return attention_matrix, \" \".join(output_sentence)"
   ]
  },
  {
   "cell_type": "code",
   "execution_count": 52,
   "metadata": {},
   "outputs": [],
   "source": [
    "#index = 0\n",
    "#english_sentence = english_sentences[index]\n",
    "#attention_matrix, spanish_sentence = translate(english_sentence)\n",
    "#spanish_sentence"
   ]
  },
  {
   "cell_type": "code",
   "execution_count": 47,
   "metadata": {},
   "outputs": [],
   "source": [
    "import matplotlib.pyplot as plt"
   ]
  },
  {
   "cell_type": "code",
   "execution_count": 48,
   "metadata": {},
   "outputs": [],
   "source": [
    "def plot_attention_matrix(attention_matrix, english_sentence, spanish_sentence):\n",
    "    encoder_sequence = encoder_tokenizer.texts_to_sequences([english_sentence])\n",
    "    labels = [''] + [encoder_idx2word[idx] for idx in encoder_sequence[0]] + ['']*(MAX_ENCODER_SEQUENCE_LENGTH - len(encoder_sequence))\n",
    "    decoded_sequence = spanish_sentence.split()\n",
    "    y_labels = [''] + decoded_sequence + ['']*(MAX_DECODER_SEQUENCE_LENGTH - len(decoded_sequence))\n",
    "    \n",
    "    plt.figure(figsize=(10, 10))\n",
    "    ax = plt.gca()\n",
    "    plt.imshow(attention_matrix, cmap = 'gray')\n",
    "    ax.set_xticklabels(labels)\n",
    "    ax.set_yticklabels(y_labels)\n",
    "    plt.show()"
   ]
  },
  {
   "cell_type": "code",
   "execution_count": 49,
   "metadata": {},
   "outputs": [
    {
     "name": "stdout",
     "output_type": "stream",
     "text": [
      "él salió a comer <eos>\n"
     ]
    },
    {
     "data": {
      "image/png": "[encoded data removed]",
      "text/plain": [
       "<Figure size 720x720 with 1 Axes>"
      ]
     },
     "metadata": {},
     "output_type": "display_data"
    }
   ],
   "source": [
    "index = 1000\n",
    "english_sentence = english_sentences[index]\n",
    "encoder_sequence = encoder_tokenizer.texts_to_sequences([english_sentence])\n",
    "attention_matrix, spanish_sentence = translate(english_sentence)\n",
    "print(spanish_sentence)\n",
    "plot_attention_matrix(attention_matrix, english_sentence, spanish_sentence)"
   ]
  },
  {
   "cell_type": "code",
   "execution_count": null,
   "metadata": {},
   "outputs": [],
   "source": []
  },
  {
   "cell_type": "code",
   "execution_count": null,
   "metadata": {},
   "outputs": [],
   "source": []
  },
  {
   "cell_type": "code",
   "execution_count": 50,
   "metadata": {},
   "outputs": [
    {
     "name": "stdout",
     "output_type": "stream",
     "text": [
      "Continue? y/ny\n",
      "Original: I'm a liar.\n",
      "Translation: soy un mentiroso <eos>\n",
      "Continue? y/ny\n",
      "Original: I'm hungry.\n",
      "Translation: me pica el bagre <eos>\n",
      "Continue? y/ny\n",
      "Original: That's not true.\n",
      "Translation: no es verdad <eos>\n",
      "Continue? y/ny\n",
      "Original: That's a lot!\n",
      "Translation: ¡es un montón! <eos>\n",
      "Continue? y/ny\n",
      "Original: He is old.\n",
      "Translation: él es anciano <eos>\n",
      "Continue? y/nn\n"
     ]
    }
   ],
   "source": [
    "while(True):\n",
    "    res = input(\"Continue? y/n\");\n",
    "    if(res == 'y'):\n",
    "        rand_index = np.random.randint(MAX_SENTENCES);\n",
    "        english_sentence = english_sentences[rand_index];\n",
    "        encoder_sequence = encoder_tokenizer.texts_to_sequences([english_sentence]);\n",
    "        attention_matrix, spanish_sentence = translate(english_sentence);\n",
    "        print(\"Original:\", english_sentence)\n",
    "        print(\"Translation:\", spanish_sentence)\n",
    "    else:\n",
    "        break;\n",
    "    "
   ]
  },
  {
   "cell_type": "code",
   "execution_count": null,
   "metadata": {},
   "outputs": [],
   "source": []
  },
  {
   "cell_type": "code",
   "execution_count": null,
   "metadata": {},
   "outputs": [],
   "source": []
  },
  {
   "cell_type": "code",
   "execution_count": null,
   "metadata": {},
   "outputs": [],
   "source": []
  }
 ],
 "metadata": {
  "kernelspec": {
   "display_name": "Python 3",
   "language": "python",
   "name": "python3"
  },
  "language_info": {
   "codemirror_mode": {
    "name": "ipython",
    "version": 3
   },
   "file_extension": ".py",
   "mimetype": "text/x-python",
   "name": "python",
   "nbconvert_exporter": "python",
   "pygments_lexer": "ipython3",
   "version": "3.5.4"
  }
 },
 "nbformat": 4,
 "nbformat_minor": 2
}
