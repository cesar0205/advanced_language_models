{
 "cells": [
  {
   "cell_type": "code",
   "execution_count": 1,
   "metadata": {},
   "outputs": [
    {
     "name": "stderr",
     "output_type": "stream",
     "text": [
      "Using TensorFlow backend.\n"
     ]
    }
   ],
   "source": [
    "import numpy as np\n",
    "from keras.preprocessing.text import Tokenizer\n",
    "from keras.preprocessing.sequence import pad_sequences"
   ]
  },
  {
   "cell_type": "code",
   "execution_count": 2,
   "metadata": {},
   "outputs": [],
   "source": [
    "from keras.layers import CuDNNLSTM as LSTM\n",
    "from keras.layers import Dense, Bidirectional, Concatenate, Input\n",
    "from keras.models import Model\n",
    "import keras.backend as K\n",
    "from keras.layers import Lambda, Dot\n",
    "from keras.layers import RepeatVector \n",
    "from keras.layers import Embedding\n",
    "from keras.optimizers import Adam"
   ]
  },
  {
   "cell_type": "code",
   "execution_count": 3,
   "metadata": {},
   "outputs": [],
   "source": [
    "MAX_SENTENCES = 10000\n",
    "MAX_VOCABULARY = 20000\n",
    "MAX_SEQUENCE_LENGTH = 15\n",
    "EMBEDDINGS_DIM = 100\n",
    "LATENT_ENCODER_DIM = 300\n",
    "LATENT_DECODER_DIM = 300"
   ]
  },
  {
   "cell_type": "code",
   "execution_count": 4,
   "metadata": {},
   "outputs": [],
   "source": [
    "spanish_input_sentences = []\n",
    "spanish_output_sentences = []\n",
    "english_sentences = []\n",
    "\n",
    "count = 0\n",
    "#with open(\"./spa.txt\", encoding=\"utf-8\") as f:\n",
    "with open(\"./twitter_conversation_tab.txt\", encoding=\"utf-8\") as f:\n",
    "    for line in f:\n",
    "        if(count< MAX_SENTENCES):\n",
    "            english, spanish = line.strip().split(\"\\t\");\n",
    "            spanish_input = \"<sos> \" + spanish; \n",
    "            spanish_output = spanish + \" <eos>\"\n",
    "            spanish_input_sentences.append(spanish_input);\n",
    "            spanish_output_sentences.append(spanish_output);\n",
    "            english_sentences.append(english);\n",
    "            count += 1"
   ]
  },
  {
   "cell_type": "code",
   "execution_count": null,
   "metadata": {},
   "outputs": [],
   "source": []
  },
  {
   "cell_type": "code",
   "execution_count": 5,
   "metadata": {},
   "outputs": [],
   "source": [
    "encoder_tokenizer = Tokenizer(num_words = MAX_VOCABULARY, filters = '')\n",
    "#decoder_tokenizer = Tokenizer(num_words = MAX_VOCABULARY, filters = '.')\n",
    "decoder_tokenizer = Tokenizer(num_words = MAX_VOCABULARY, filters = '.')\n",
    "encoder_tokenizer.fit_on_texts(english_sentences)\n",
    "decoder_tokenizer.fit_on_texts(spanish_input_sentences + spanish_output_sentences) #Dont remove special characers"
   ]
  },
  {
   "cell_type": "code",
   "execution_count": null,
   "metadata": {},
   "outputs": [],
   "source": []
  },
  {
   "cell_type": "code",
   "execution_count": 6,
   "metadata": {},
   "outputs": [],
   "source": [
    "encoder_sequences = encoder_tokenizer.texts_to_sequences(english_sentences)\n",
    "decoder_sequences_input = decoder_tokenizer.texts_to_sequences(spanish_input_sentences)\n",
    "decoder_sequences_target = decoder_tokenizer.texts_to_sequences(spanish_output_sentences)"
   ]
  },
  {
   "cell_type": "code",
   "execution_count": 7,
   "metadata": {},
   "outputs": [
    {
     "data": {
      "text/plain": [
       "(15, 15)"
      ]
     },
     "execution_count": 7,
     "metadata": {},
     "output_type": "execute_result"
    }
   ],
   "source": [
    "MAX_ENCODER_SEQUENCE_LENGTH = max([len(sequence) for sequence in encoder_sequences])\n",
    "MAX_DECODER_SEQUENCE_LENGTH = max([len(sequence) for sequence in decoder_sequences_input])\n",
    "MAX_ENCODER_SEQUENCE_LENGTH = min(MAX_ENCODER_SEQUENCE_LENGTH, MAX_SEQUENCE_LENGTH)\n",
    "MAX_DECODER_SEQUENCE_LENGTH = min(MAX_DECODER_SEQUENCE_LENGTH, MAX_SEQUENCE_LENGTH)\n",
    "MAX_ENCODER_SEQUENCE_LENGTH, MAX_DECODER_SEQUENCE_LENGTH"
   ]
  },
  {
   "cell_type": "code",
   "execution_count": 8,
   "metadata": {},
   "outputs": [],
   "source": [
    "encoder_sequences_padded = pad_sequences(encoder_sequences, maxlen=MAX_ENCODER_SEQUENCE_LENGTH, padding='post')\n",
    "decoder_sequences_input_padded = pad_sequences(decoder_sequences_input, maxlen=MAX_DECODER_SEQUENCE_LENGTH, padding='post')\n",
    "decoder_sequences_target_padded = pad_sequences(decoder_sequences_target, maxlen=MAX_DECODER_SEQUENCE_LENGTH, padding='post')"
   ]
  },
  {
   "cell_type": "code",
   "execution_count": 9,
   "metadata": {},
   "outputs": [
    {
     "data": {
      "text/plain": [
       "(14136, 11622)"
      ]
     },
     "execution_count": 9,
     "metadata": {},
     "output_type": "execute_result"
    }
   ],
   "source": [
    "#We need to add + 1 so as to take into account the index 0.\n",
    "#In the output of the decoder we normally create a dense layer of size vocabulary_length taking for granted that\n",
    "#index 0 is a valid index and part of our vocabulary. Keras tokenizer doesn't take the zero into account and we \n",
    "#need to correct for it. We add a 1 to our vocabulary_length so the final dense layer is size vocabulary_length + 1.\n",
    "MAX_ENCODER_VOCABULARY = min(len(encoder_tokenizer.word_index), MAX_VOCABULARY) + 1\n",
    "MAX_DECODER_VOCABULARY = min(len(decoder_tokenizer.word_index), MAX_VOCABULARY) + 1\n",
    "MAX_ENCODER_VOCABULARY, MAX_DECODER_VOCABULARY"
   ]
  },
  {
   "cell_type": "code",
   "execution_count": 10,
   "metadata": {},
   "outputs": [],
   "source": [
    "encoder_word2idx = {}\n",
    "encoder_idx2word = {}\n",
    "decoder_word2idx = {}\n",
    "decoder_idx2word = {}\n",
    "\n",
    "for word, index in encoder_tokenizer.word_index.items():\n",
    "    if index <= MAX_ENCODER_VOCABULARY:\n",
    "        encoder_word2idx[word] = index;\n",
    "        encoder_idx2word[index] = word;\n",
    "        \n",
    "for word, index in decoder_tokenizer.word_index.items():\n",
    "    if index <= MAX_DECODER_VOCABULARY:\n",
    "        decoder_word2idx[word] = index;\n",
    "        decoder_idx2word[index] = word;"
   ]
  },
  {
   "cell_type": "code",
   "execution_count": 11,
   "metadata": {},
   "outputs": [
    {
     "data": {
      "text/plain": [
       "1"
      ]
     },
     "execution_count": 11,
     "metadata": {},
     "output_type": "execute_result"
    }
   ],
   "source": [
    "decoder_tokenizer.word_index['<sos>']"
   ]
  },
  {
   "cell_type": "code",
   "execution_count": 12,
   "metadata": {},
   "outputs": [
    {
     "data": {
      "text/plain": [
       "14135"
      ]
     },
     "execution_count": 12,
     "metadata": {},
     "output_type": "execute_result"
    }
   ],
   "source": [
    "max(encoder_word2idx.values())"
   ]
  },
  {
   "cell_type": "code",
   "execution_count": 13,
   "metadata": {},
   "outputs": [
    {
     "data": {
      "text/plain": [
       "(15, 11622)"
      ]
     },
     "execution_count": 13,
     "metadata": {},
     "output_type": "execute_result"
    }
   ],
   "source": [
    "MAX_DECODER_SEQUENCE_LENGTH, MAX_DECODER_VOCABULARY"
   ]
  },
  {
   "cell_type": "code",
   "execution_count": null,
   "metadata": {},
   "outputs": [],
   "source": []
  },
  {
   "cell_type": "code",
   "execution_count": 14,
   "metadata": {},
   "outputs": [],
   "source": [
    "#One hot targets\n",
    "one_hot_targets = np.zeros((len(decoder_sequences_target_padded), MAX_DECODER_SEQUENCE_LENGTH, MAX_DECODER_VOCABULARY))\n",
    "for sequence_pos, sequence in enumerate(decoder_sequences_target_padded):\n",
    "    for word_pos, word_idx in enumerate(sequence):\n",
    "        one_hot_targets[sequence_pos, word_pos, word_idx] = 1.0"
   ]
  },
  {
   "cell_type": "code",
   "execution_count": null,
   "metadata": {},
   "outputs": [],
   "source": []
  },
  {
   "cell_type": "code",
   "execution_count": 15,
   "metadata": {},
   "outputs": [],
   "source": [
    "#100 vector dimension.\n",
    "word2vec = {}\n",
    "with open(\"../basic_language_models/large_files/glove.6B/glove.6B.100d.txt\", encoding=\"utf-8\") as f:\n",
    "    for line in f:\n",
    "        tokens = line.split();\n",
    "        word = tokens[0];\n",
    "        vector = np.array(tokens[1:])\n",
    "        word2vec[word] = vector;"
   ]
  },
  {
   "cell_type": "code",
   "execution_count": 16,
   "metadata": {},
   "outputs": [],
   "source": [
    "encoder_embeddings_weights = np.zeros((MAX_ENCODER_VOCABULARY, EMBEDDINGS_DIM));\n",
    "for word, index in encoder_tokenizer.word_index.items():\n",
    "    if index <= MAX_ENCODER_VOCABULARY:\n",
    "        if word in word2vec:\n",
    "            encoder_embeddings_weights[index] = word2vec[word]"
   ]
  },
  {
   "cell_type": "code",
   "execution_count": 17,
   "metadata": {},
   "outputs": [],
   "source": [
    "def softmax_over_time(x):\n",
    "    array_norm = K.exp(x - K.max(x, axis = 1, keepdims = True))\n",
    "    return array_norm/K.sum(array_norm, axis = 1, keepdims = True)"
   ]
  },
  {
   "cell_type": "code",
   "execution_count": null,
   "metadata": {},
   "outputs": [],
   "source": []
  },
  {
   "cell_type": "code",
   "execution_count": 18,
   "metadata": {},
   "outputs": [],
   "source": [
    "encoder_embeddings = Embedding(input_dim = MAX_ENCODER_VOCABULARY, \n",
    "                        output_dim = EMBEDDINGS_DIM,\n",
    "                        weights = [encoder_embeddings_weights],\n",
    "                        input_length = MAX_ENCODER_SEQUENCE_LENGTH)"
   ]
  },
  {
   "cell_type": "code",
   "execution_count": 19,
   "metadata": {},
   "outputs": [],
   "source": [
    "decoder_embeddings = Embedding(input_dim = MAX_DECODER_VOCABULARY,\n",
    "                              output_dim = EMBEDDINGS_DIM)\n",
    "                              #weights = [encoder_embeddings_weights])"
   ]
  },
  {
   "cell_type": "code",
   "execution_count": 20,
   "metadata": {},
   "outputs": [
    {
     "name": "stdout",
     "output_type": "stream",
     "text": [
      "def foo(module, x): pass <unknown> exec 1024\n",
      "def foo(module, x): pass <unknown> exec 1024\n"
     ]
    }
   ],
   "source": [
    "encoder_input = Input([MAX_ENCODER_SEQUENCE_LENGTH])\n",
    "encoder_input_embedded = encoder_embeddings(encoder_input)\n",
    "lstm = LSTM(LATENT_ENCODER_DIM, return_sequences=True)\n",
    "encoder_rnn = Bidirectional(lstm)(encoder_input_embedded)"
   ]
  },
  {
   "cell_type": "code",
   "execution_count": 21,
   "metadata": {},
   "outputs": [
    {
     "data": {
      "text/plain": [
       "<tf.Tensor 'bidirectional_1/concat_2:0' shape=(?, 15, 600) dtype=float32>"
      ]
     },
     "execution_count": 21,
     "metadata": {},
     "output_type": "execute_result"
    }
   ],
   "source": [
    "encoder_rnn"
   ]
  },
  {
   "cell_type": "code",
   "execution_count": 22,
   "metadata": {},
   "outputs": [],
   "source": [
    "#n_hidden1 = 10\n",
    "n_hidden1 = 20\n",
    "repeat_layer = RepeatVector(MAX_ENCODER_SEQUENCE_LENGTH)\n",
    "concatenate_layer = Concatenate()\n",
    "dense1_layer = Dense(n_hidden1, activation='tanh')\n",
    "dense2_layer = Dense(1, activation = softmax_over_time)\n",
    "dot_layer = Dot(axes= 1)\n",
    "\n",
    "def attention_layer(h, rnn_output):\n",
    "    # rnn_output is the output of the bidirectional layer (?, Tx, 2*LATENT_ENCODER_DIM)\n",
    "    # h is the last hidden state of the decoder lstm (?, LATENT_DECODER_DIM)\n",
    "\n",
    "    h_T = repeat_layer(h) #(?, Tx, LATENT_DECODER_DIM)\n",
    "    h_encoder_concat = concatenate_layer([h_T, rnn_output])  #(?, Tx, LATENT_DECODER_DIM), (?, Tx, 2*LATENT_ENCODER_DIM)\n",
    "    #(?, T, LATENT_DECODER_DIM + 2*LATENT_ENCODER_DIM) ---> #(?, T, LATENT_DECODER_DIM + 2*LATENT_ENCODER_DIM)\n",
    "    \n",
    "    hidden1 = dense1_layer(h_encoder_concat)\n",
    "    #print(hidden1)  #(?, Tx, n_hidden1)\n",
    "    alphas = dense2_layer(hidden1)\n",
    "    #print(alphas) #(?, Tx, 1)\n",
    "    context = dot_layer([alphas, rnn_output])\n",
    "    return alphas, context; #(?, 1, 2*LATENT_ENCODER_DIM)"
   ]
  },
  {
   "cell_type": "code",
   "execution_count": 23,
   "metadata": {},
   "outputs": [],
   "source": [
    "#input_h = Input([LATENT_DECODER_DIM])\n",
    "#attention_layer(input_h)\n",
    "def permute_dimensions(x):\n",
    "    #Stacking and permuting Must be inside a single function so they are passed together to the Lambda function\n",
    "    #If done independently keras will complain that stack or permute_dimentions are not layers.\n",
    "    x = K.stack(x)\n",
    "    return K.permute_dimensions(x, (1, 0, 2))"
   ]
  },
  {
   "cell_type": "code",
   "execution_count": 24,
   "metadata": {},
   "outputs": [
    {
     "data": {
      "text/plain": [
       "15"
      ]
     },
     "execution_count": 24,
     "metadata": {},
     "output_type": "execute_result"
    }
   ],
   "source": [
    "MAX_DECODER_SEQUENCE_LENGTH"
   ]
  },
  {
   "cell_type": "code",
   "execution_count": 25,
   "metadata": {},
   "outputs": [],
   "source": [
    "decoder_input = Input([MAX_DECODER_SEQUENCE_LENGTH], name= \"decoder_input_\")\n",
    "decoder_input_embedded = decoder_embeddings(decoder_input)\n",
    "\n",
    "lstm_decoder = LSTM(units = LATENT_DECODER_DIM, return_state=True);\n",
    "\n",
    "dense_decoder = Dense(MAX_DECODER_VOCABULARY, activation = 'softmax');\n",
    "concatenate_context_and_input = Concatenate(axis = 2)\n",
    "h_init = Input([LATENT_DECODER_DIM], name = \"h_init\")\n",
    "c_init = Input([LATENT_DECODER_DIM], name = \"c_init\")\n",
    "h = h_init;\n",
    "c = c_init;\n",
    "\n",
    "outputs = []\n",
    "for t in range(MAX_DECODER_SEQUENCE_LENGTH):\n",
    "    selector = Lambda(lambda x: x[:, t: t + 1])    \n",
    "    current_input = selector(decoder_input_embedded)  #(?, 1, EMBEDDIGS_DIM)\n",
    "    __, context = attention_layer(h, encoder_rnn) #(?, 1, 2*LATENT_ENCODER_DIM)    \n",
    "    #Teacher forcing\n",
    "    context_concatenated = concatenate_context_and_input([context, current_input]) #(?, 1, EMBEDDINGS_DIM + 2*LATENT_ENCODER_DIM)\n",
    "    o, h, c = lstm_decoder(context_concatenated, initial_state = [h, c])\n",
    "    word_probs = dense_decoder(o) #(?, MAX_DECODER_VOCABULARY)\n",
    "    outputs.append(word_probs)\n",
    "    \n",
    "#outputs is a list of Ty elements each of size batch_size, MAX_DECODER_VOCABULARY\n",
    " #(Ty, ?, MAX_DECODER_VOCABULARY)\n",
    "outputs_layer = Lambda(permute_dimensions)(outputs)  #(?, Ty, MAX_DECODER_VOCABULARY)\n",
    "    \n",
    "#model = Model(inputs = [encoder_input, decoder_input, h_init, c_init], outputs = outputs)\n"
   ]
  },
  {
   "cell_type": "code",
   "execution_count": 26,
   "metadata": {},
   "outputs": [],
   "source": [
    "model = Model(inputs = [encoder_input, decoder_input, h_init, c_init], outputs = outputs_layer)"
   ]
  },
  {
   "cell_type": "code",
   "execution_count": 27,
   "metadata": {},
   "outputs": [],
   "source": [
    "m = len(encoder_sequences_padded)\n",
    "h_init_ = np.zeros((m, LATENT_DECODER_DIM))\n",
    "c_init_ = np.zeros((m, LATENT_DECODER_DIM))\n",
    "model.compile(optimizer = Adam(0.001), \n",
    "              loss = 'categorical_crossentropy', \n",
    "              metrics = ['accuracy'])"
   ]
  },
  {
   "cell_type": "code",
   "execution_count": 28,
   "metadata": {},
   "outputs": [
    {
     "name": "stdout",
     "output_type": "stream",
     "text": [
      "Train on 6792 samples, validate on 1698 samples\n",
      "Epoch 1/200\n",
      "6792/6792 [==============================] - 158s 23ms/step - loss: 5.7125 - acc: 0.3647 - val_loss: 5.2839 - val_acc: 0.3370\n",
      "Epoch 2/200\n",
      "6792/6792 [==============================] - 138s 20ms/step - loss: 4.8396 - acc: 0.3719 - val_loss: 5.1986 - val_acc: 0.3370\n",
      "Epoch 3/200\n",
      "6792/6792 [==============================] - 130s 19ms/step - loss: 4.6519 - acc: 0.3719 - val_loss: 4.9477 - val_acc: 0.3370\n",
      "Epoch 4/200\n",
      "6792/6792 [==============================] - 132s 19ms/step - loss: 4.4115 - acc: 0.3779 - val_loss: 4.8202 - val_acc: 0.3990\n",
      "Epoch 5/200\n",
      "6792/6792 [==============================] - 146s 22ms/step - loss: 4.3153 - acc: 0.4318 - val_loss: 4.7853 - val_acc: 0.4031\n",
      "Epoch 6/200\n",
      "6792/6792 [==============================] - 144s 21ms/step - loss: 4.2716 - acc: 0.4377 - val_loss: 4.7758 - val_acc: 0.4018\n",
      "Epoch 7/200\n",
      "6792/6792 [==============================] - 147s 22ms/step - loss: 4.2388 - acc: 0.4417 - val_loss: 4.7603 - val_acc: 0.4079\n",
      "Epoch 8/200\n",
      "6792/6792 [==============================] - 147s 22ms/step - loss: 4.2073 - acc: 0.4436 - val_loss: 4.7546 - val_acc: 0.4083\n",
      "Epoch 9/200\n",
      "6792/6792 [==============================] - 144s 21ms/step - loss: 4.1821 - acc: 0.4441 - val_loss: 4.7417 - val_acc: 0.4089\n",
      "Epoch 10/200\n",
      "6792/6792 [==============================] - 146s 22ms/step - loss: 4.1580 - acc: 0.4458 - val_loss: 4.7247 - val_acc: 0.4119\n",
      "Epoch 11/200\n",
      "6792/6792 [==============================] - 141s 21ms/step - loss: 4.1339 - acc: 0.4479 - val_loss: 4.7421 - val_acc: 0.4103\n",
      "Epoch 12/200\n",
      "6792/6792 [==============================] - 142s 21ms/step - loss: 4.1116 - acc: 0.4495 - val_loss: 4.7445 - val_acc: 0.4114\n",
      "Epoch 13/200\n",
      "6792/6792 [==============================] - 143s 21ms/step - loss: 4.0953 - acc: 0.4503 - val_loss: 4.7198 - val_acc: 0.4131\n",
      "Epoch 14/200\n",
      "6792/6792 [==============================] - 148s 22ms/step - loss: 4.0771 - acc: 0.4516 - val_loss: 4.7263 - val_acc: 0.4138\n",
      "Epoch 15/200\n",
      "6792/6792 [==============================] - 153s 22ms/step - loss: 4.0605 - acc: 0.4518 - val_loss: 4.7106 - val_acc: 0.4135\n",
      "Epoch 16/200\n",
      "6792/6792 [==============================] - 141s 21ms/step - loss: 4.0457 - acc: 0.4532 - val_loss: 4.7271 - val_acc: 0.4129\n",
      "Epoch 17/200\n",
      "6792/6792 [==============================] - 139s 21ms/step - loss: 4.0347 - acc: 0.4539 - val_loss: 4.7268 - val_acc: 0.4137\n",
      "Epoch 18/200\n",
      "6792/6792 [==============================] - 143s 21ms/step - loss: 4.0193 - acc: 0.4547 - val_loss: 4.7499 - val_acc: 0.4129\n",
      "Epoch 19/200\n",
      "6792/6792 [==============================] - 142s 21ms/step - loss: 4.0073 - acc: 0.4556 - val_loss: 4.7436 - val_acc: 0.4117\n",
      "Epoch 20/200\n",
      "6792/6792 [==============================] - 131s 19ms/step - loss: 3.9984 - acc: 0.4560 - val_loss: 4.7319 - val_acc: 0.4102\n",
      "Epoch 21/200\n",
      "6792/6792 [==============================] - 137s 20ms/step - loss: 3.9875 - acc: 0.4564 - val_loss: 4.7472 - val_acc: 0.4101\n",
      "Epoch 22/200\n",
      "6792/6792 [==============================] - 138s 20ms/step - loss: 3.9802 - acc: 0.4567 - val_loss: 4.7515 - val_acc: 0.4098\n",
      "Epoch 23/200\n",
      "6792/6792 [==============================] - 139s 21ms/step - loss: 3.9679 - acc: 0.4574 - val_loss: 4.7259 - val_acc: 0.4078\n",
      "Epoch 24/200\n",
      "6792/6792 [==============================] - 137s 20ms/step - loss: 3.9576 - acc: 0.4592 - val_loss: 4.7179 - val_acc: 0.4056\n",
      "Epoch 25/200\n",
      "6792/6792 [==============================] - 166s 24ms/step - loss: 3.9512 - acc: 0.4595 - val_loss: 4.7238 - val_acc: 0.4099\n",
      "Epoch 26/200\n",
      "6792/6792 [==============================] - 147s 22ms/step - loss: 3.9339 - acc: 0.4613 - val_loss: 4.7481 - val_acc: 0.4114\n",
      "Epoch 27/200\n",
      "6792/6792 [==============================] - 153s 22ms/step - loss: 3.9180 - acc: 0.4637 - val_loss: 4.7382 - val_acc: 0.4112\n",
      "Epoch 28/200\n",
      "6792/6792 [==============================] - 146s 22ms/step - loss: 3.9049 - acc: 0.4644 - val_loss: 4.7720 - val_acc: 0.4136\n",
      "Epoch 29/200\n",
      "6792/6792 [==============================] - 139s 20ms/step - loss: 3.8950 - acc: 0.4654 - val_loss: 4.7148 - val_acc: 0.4086\n",
      "Epoch 30/200\n",
      "6792/6792 [==============================] - 135s 20ms/step - loss: 3.8813 - acc: 0.4663 - val_loss: 4.7706 - val_acc: 0.4123\n",
      "Epoch 31/200\n",
      "6792/6792 [==============================] - 140s 21ms/step - loss: 3.8714 - acc: 0.4677 - val_loss: 4.7713 - val_acc: 0.4131\n",
      "Epoch 32/200\n",
      "6792/6792 [==============================] - 148s 22ms/step - loss: 3.8591 - acc: 0.4670 - val_loss: 4.7614 - val_acc: 0.4134\n",
      "Epoch 33/200\n",
      "6792/6792 [==============================] - 153s 23ms/step - loss: 3.8441 - acc: 0.4683 - val_loss: 4.7133 - val_acc: 0.4077\n",
      "Epoch 34/200\n",
      "6792/6792 [==============================] - 138s 20ms/step - loss: 3.8407 - acc: 0.4683 - val_loss: 4.7667 - val_acc: 0.4118\n",
      "Epoch 35/200\n",
      "6792/6792 [==============================] - 145s 21ms/step - loss: 3.8262 - acc: 0.4684 - val_loss: 4.7345 - val_acc: 0.4129\n",
      "Epoch 36/200\n",
      "6792/6792 [==============================] - 143s 21ms/step - loss: 3.8104 - acc: 0.4695 - val_loss: 4.7459 - val_acc: 0.4130\n",
      "Epoch 37/200\n",
      "6792/6792 [==============================] - 146s 22ms/step - loss: 3.7948 - acc: 0.4697 - val_loss: 4.7272 - val_acc: 0.4108\n",
      "Epoch 38/200\n",
      "6792/6792 [==============================] - 145s 21ms/step - loss: 3.7916 - acc: 0.4702 - val_loss: 4.7683 - val_acc: 0.4105\n",
      "Epoch 39/200\n",
      "6792/6792 [==============================] - 151s 22ms/step - loss: 3.7767 - acc: 0.4700 - val_loss: 4.7448 - val_acc: 0.4122\n",
      "Epoch 40/200\n",
      "6792/6792 [==============================] - 145s 21ms/step - loss: 3.7614 - acc: 0.4707 - val_loss: 4.7532 - val_acc: 0.4125\n",
      "Epoch 41/200\n",
      "6792/6792 [==============================] - 146s 22ms/step - loss: 3.7501 - acc: 0.4713 - val_loss: 4.7666 - val_acc: 0.4117\n",
      "Epoch 42/200\n",
      "6792/6792 [==============================] - 142s 21ms/step - loss: 3.7429 - acc: 0.4717 - val_loss: 4.7689 - val_acc: 0.4127\n",
      "Epoch 43/200\n",
      "6792/6792 [==============================] - 146s 22ms/step - loss: 3.7296 - acc: 0.4717 - val_loss: 4.7824 - val_acc: 0.4125\n",
      "Epoch 44/200\n",
      "6792/6792 [==============================] - 133s 20ms/step - loss: 3.7262 - acc: 0.4717 - val_loss: 4.7688 - val_acc: 0.4120\n",
      "Epoch 45/200\n",
      "6792/6792 [==============================] - 129s 19ms/step - loss: 3.7088 - acc: 0.4727 - val_loss: 4.8095 - val_acc: 0.4135\n",
      "Epoch 46/200\n",
      "6792/6792 [==============================] - 129s 19ms/step - loss: 3.7003 - acc: 0.4731 - val_loss: 4.8159 - val_acc: 0.4128\n",
      "Epoch 47/200\n",
      "6792/6792 [==============================] - 138s 20ms/step - loss: 3.6890 - acc: 0.4734 - val_loss: 4.7626 - val_acc: 0.4111\n",
      "Epoch 48/200\n",
      "6792/6792 [==============================] - 157s 23ms/step - loss: 3.6750 - acc: 0.4741 - val_loss: 4.7959 - val_acc: 0.4132\n",
      "Epoch 49/200\n",
      "6792/6792 [==============================] - 146s 22ms/step - loss: 3.6606 - acc: 0.4746 - val_loss: 4.7480 - val_acc: 0.4102\n",
      "Epoch 50/200\n",
      "6792/6792 [==============================] - 132s 19ms/step - loss: 3.6494 - acc: 0.4753 - val_loss: 4.7590 - val_acc: 0.4130\n",
      "Epoch 51/200\n",
      "6792/6792 [==============================] - 130s 19ms/step - loss: 3.6345 - acc: 0.4761 - val_loss: 4.7939 - val_acc: 0.4137\n",
      "Epoch 52/200\n",
      "6792/6792 [==============================] - 135s 20ms/step - loss: 3.6251 - acc: 0.4762 - val_loss: 4.7740 - val_acc: 0.4138\n",
      "Epoch 53/200\n",
      "6792/6792 [==============================] - 129s 19ms/step - loss: 3.6103 - acc: 0.4767 - val_loss: 4.7991 - val_acc: 0.4135\n",
      "Epoch 54/200\n",
      "6792/6792 [==============================] - 134s 20ms/step - loss: 3.5970 - acc: 0.4778 - val_loss: 4.7902 - val_acc: 0.4136\n",
      "Epoch 55/200\n",
      "6792/6792 [==============================] - 132s 19ms/step - loss: 3.5803 - acc: 0.4786 - val_loss: 4.8462 - val_acc: 0.4153\n",
      "Epoch 56/200\n",
      "6792/6792 [==============================] - 132s 19ms/step - loss: 3.5749 - acc: 0.4788 - val_loss: 4.7987 - val_acc: 0.4134\n",
      "Epoch 57/200\n",
      "6792/6792 [==============================] - 130s 19ms/step - loss: 3.5559 - acc: 0.4802 - val_loss: 4.7538 - val_acc: 0.4119\n",
      "Epoch 58/200\n",
      "6792/6792 [==============================] - 139s 20ms/step - loss: 3.5447 - acc: 0.4802 - val_loss: 4.7874 - val_acc: 0.4139\n",
      "Epoch 59/200\n"
     ]
    },
    {
     "name": "stdout",
     "output_type": "stream",
     "text": [
      "6792/6792 [==============================] - 133s 20ms/step - loss: 3.5259 - acc: 0.4809 - val_loss: 4.8072 - val_acc: 0.4162\n",
      "Epoch 60/200\n",
      "6792/6792 [==============================] - 136s 20ms/step - loss: 3.5151 - acc: 0.4821 - val_loss: 4.8237 - val_acc: 0.4162\n",
      "Epoch 61/200\n",
      "6792/6792 [==============================] - 134s 20ms/step - loss: 3.5030 - acc: 0.4822 - val_loss: 4.7815 - val_acc: 0.4152\n",
      "Epoch 62/200\n",
      "6792/6792 [==============================] - 132s 19ms/step - loss: 3.4831 - acc: 0.4841 - val_loss: 4.7941 - val_acc: 0.4159\n",
      "Epoch 63/200\n",
      "6792/6792 [==============================] - 135s 20ms/step - loss: 3.4667 - acc: 0.4844 - val_loss: 4.7859 - val_acc: 0.4141\n",
      "Epoch 64/200\n",
      "6792/6792 [==============================] - 145s 21ms/step - loss: 3.4500 - acc: 0.4853 - val_loss: 4.7974 - val_acc: 0.4151\n",
      "Epoch 65/200\n",
      "6792/6792 [==============================] - 128s 19ms/step - loss: 3.4328 - acc: 0.4862 - val_loss: 4.8553 - val_acc: 0.4172\n",
      "Epoch 66/200\n",
      "6792/6792 [==============================] - 130s 19ms/step - loss: 3.4281 - acc: 0.4861 - val_loss: 4.7952 - val_acc: 0.4146\n",
      "Epoch 67/200\n",
      "6792/6792 [==============================] - 129s 19ms/step - loss: 3.4082 - acc: 0.4872 - val_loss: 4.7962 - val_acc: 0.4155\n",
      "Epoch 68/200\n",
      "6792/6792 [==============================] - 128s 19ms/step - loss: 3.3882 - acc: 0.4872 - val_loss: 4.7816 - val_acc: 0.4153\n",
      "Epoch 69/200\n",
      "6792/6792 [==============================] - 129s 19ms/step - loss: 3.3739 - acc: 0.4882 - val_loss: 4.7931 - val_acc: 0.4154\n",
      "Epoch 70/200\n",
      "6792/6792 [==============================] - 128s 19ms/step - loss: 3.3506 - acc: 0.4895 - val_loss: 4.7874 - val_acc: 0.4151\n",
      "Epoch 71/200\n",
      "6792/6792 [==============================] - 129s 19ms/step - loss: 3.3384 - acc: 0.4902 - val_loss: 4.8054 - val_acc: 0.4149\n",
      "Epoch 72/200\n",
      "6792/6792 [==============================] - 129s 19ms/step - loss: 3.3214 - acc: 0.4909 - val_loss: 4.8080 - val_acc: 0.4176\n",
      "Epoch 73/200\n",
      "6792/6792 [==============================] - 128s 19ms/step - loss: 3.2998 - acc: 0.4916 - val_loss: 4.7840 - val_acc: 0.4165\n",
      "Epoch 74/200\n",
      "6792/6792 [==============================] - 128s 19ms/step - loss: 3.2800 - acc: 0.4925 - val_loss: 4.8248 - val_acc: 0.4178\n",
      "Epoch 75/200\n",
      "6792/6792 [==============================] - 129s 19ms/step - loss: 3.2609 - acc: 0.4939 - val_loss: 4.7981 - val_acc: 0.4174\n",
      "Epoch 76/200\n",
      "6792/6792 [==============================] - 128s 19ms/step - loss: 3.2368 - acc: 0.4942 - val_loss: 4.7663 - val_acc: 0.4166\n",
      "Epoch 77/200\n",
      "6792/6792 [==============================] - 138s 20ms/step - loss: 3.2143 - acc: 0.4954 - val_loss: 4.8083 - val_acc: 0.4168\n",
      "Epoch 78/200\n",
      "6792/6792 [==============================] - 132s 19ms/step - loss: 3.1870 - acc: 0.4963 - val_loss: 4.7890 - val_acc: 0.4170\n",
      "Epoch 79/200\n",
      "6792/6792 [==============================] - 128s 19ms/step - loss: 3.1630 - acc: 0.4973 - val_loss: 4.8083 - val_acc: 0.4181\n",
      "Epoch 80/200\n",
      "6792/6792 [==============================] - 129s 19ms/step - loss: 3.1334 - acc: 0.4984 - val_loss: 4.8324 - val_acc: 0.4186\n",
      "Epoch 81/200\n",
      "6792/6792 [==============================] - 129s 19ms/step - loss: 3.1110 - acc: 0.4999 - val_loss: 4.7829 - val_acc: 0.4174\n",
      "Epoch 82/200\n",
      "6792/6792 [==============================] - 129s 19ms/step - loss: 3.0822 - acc: 0.5012 - val_loss: 4.8556 - val_acc: 0.4191\n",
      "Epoch 83/200\n",
      "6792/6792 [==============================] - 129s 19ms/step - loss: 3.0604 - acc: 0.5017 - val_loss: 4.7874 - val_acc: 0.4190\n",
      "Epoch 84/200\n",
      "6792/6792 [==============================] - 133s 20ms/step - loss: 3.0311 - acc: 0.5031 - val_loss: 4.7662 - val_acc: 0.4184\n",
      "Epoch 85/200\n",
      "6792/6792 [==============================] - 129s 19ms/step - loss: 2.9946 - acc: 0.5054 - val_loss: 4.7716 - val_acc: 0.4179\n",
      "Epoch 86/200\n",
      "6792/6792 [==============================] - 132s 19ms/step - loss: 2.9665 - acc: 0.5064 - val_loss: 4.8223 - val_acc: 0.4201\n",
      "Epoch 87/200\n",
      "6792/6792 [==============================] - 131s 19ms/step - loss: 2.9399 - acc: 0.5080 - val_loss: 4.7686 - val_acc: 0.4172\n",
      "Epoch 88/200\n",
      "6792/6792 [==============================] - 134s 20ms/step - loss: 2.9128 - acc: 0.5088 - val_loss: 4.8023 - val_acc: 0.4199\n",
      "Epoch 89/200\n",
      "6792/6792 [==============================] - 134s 20ms/step - loss: 2.8745 - acc: 0.5111 - val_loss: 4.7875 - val_acc: 0.4201\n",
      "Epoch 90/200\n",
      "6792/6792 [==============================] - 138s 20ms/step - loss: 2.8390 - acc: 0.5131 - val_loss: 4.8045 - val_acc: 0.4199\n",
      "Epoch 91/200\n",
      "6792/6792 [==============================] - 147s 22ms/step - loss: 2.8052 - acc: 0.5165 - val_loss: 4.7899 - val_acc: 0.4214\n",
      "Epoch 92/200\n",
      "6792/6792 [==============================] - 148s 22ms/step - loss: 2.7765 - acc: 0.5176 - val_loss: 4.7838 - val_acc: 0.4209\n",
      "Epoch 93/200\n",
      "6792/6792 [==============================] - 140s 21ms/step - loss: 2.7436 - acc: 0.5195 - val_loss: 4.7792 - val_acc: 0.4210\n",
      "Epoch 94/200\n",
      "6792/6792 [==============================] - 139s 20ms/step - loss: 2.7099 - acc: 0.5221 - val_loss: 4.8034 - val_acc: 0.4227\n",
      "Epoch 95/200\n",
      "6792/6792 [==============================] - 138s 20ms/step - loss: 2.6722 - acc: 0.5259 - val_loss: 4.8055 - val_acc: 0.4222\n",
      "Epoch 96/200\n",
      "6792/6792 [==============================] - 136s 20ms/step - loss: 2.6452 - acc: 0.5281 - val_loss: 4.8127 - val_acc: 0.4228\n",
      "Epoch 97/200\n",
      "6792/6792 [==============================] - 148s 22ms/step - loss: 2.6088 - acc: 0.5309 - val_loss: 4.8044 - val_acc: 0.4227\n",
      "Epoch 98/200\n",
      "6792/6792 [==============================] - 147s 22ms/step - loss: 2.5657 - acc: 0.5346 - val_loss: 4.8114 - val_acc: 0.4236\n",
      "Epoch 99/200\n",
      "6792/6792 [==============================] - 137s 20ms/step - loss: 2.5322 - acc: 0.5379 - val_loss: 4.8076 - val_acc: 0.4242\n",
      "Epoch 100/200\n",
      "6792/6792 [==============================] - 133s 20ms/step - loss: 2.4986 - acc: 0.5414 - val_loss: 4.7992 - val_acc: 0.4255\n",
      "Epoch 101/200\n",
      "6792/6792 [==============================] - 136s 20ms/step - loss: 2.4618 - acc: 0.5456 - val_loss: 4.8044 - val_acc: 0.4266\n",
      "Epoch 102/200\n",
      "6792/6792 [==============================] - 133s 20ms/step - loss: 2.4250 - acc: 0.5504 - val_loss: 4.8262 - val_acc: 0.4270\n",
      "Epoch 103/200\n",
      "6792/6792 [==============================] - 139s 20ms/step - loss: 2.3847 - acc: 0.5550 - val_loss: 4.8100 - val_acc: 0.4278\n",
      "Epoch 104/200\n",
      "6792/6792 [==============================] - 143s 21ms/step - loss: 2.3461 - acc: 0.5603 - val_loss: 4.8183 - val_acc: 0.4282\n",
      "Epoch 105/200\n",
      "6792/6792 [==============================] - 150s 22ms/step - loss: 2.3078 - acc: 0.5660 - val_loss: 4.8270 - val_acc: 0.4298\n",
      "Epoch 106/200\n",
      "6792/6792 [==============================] - 146s 22ms/step - loss: 2.2807 - acc: 0.5710 - val_loss: 4.8266 - val_acc: 0.4325\n",
      "Epoch 107/200\n",
      "6792/6792 [==============================] - 146s 21ms/step - loss: 2.2306 - acc: 0.5791 - val_loss: 4.8330 - val_acc: 0.4331\n",
      "Epoch 108/200\n",
      "6792/6792 [==============================] - 145s 21ms/step - loss: 2.1925 - acc: 0.5862 - val_loss: 4.8117 - val_acc: 0.4342\n",
      "Epoch 109/200\n",
      "6792/6792 [==============================] - 143s 21ms/step - loss: 2.1525 - acc: 0.5923 - val_loss: 4.8436 - val_acc: 0.4363\n",
      "Epoch 110/200\n",
      "6792/6792 [==============================] - 135s 20ms/step - loss: 2.1099 - acc: 0.5999 - val_loss: 4.8205 - val_acc: 0.4382\n",
      "Epoch 111/200\n",
      "6792/6792 [==============================] - 134s 20ms/step - loss: 2.0703 - acc: 0.6070 - val_loss: 4.8257 - val_acc: 0.4400\n",
      "Epoch 112/200\n",
      "6792/6792 [==============================] - 142s 21ms/step - loss: 2.0284 - acc: 0.6149 - val_loss: 4.8597 - val_acc: 0.4402\n",
      "Epoch 113/200\n",
      "6792/6792 [==============================] - 146s 21ms/step - loss: 1.9872 - acc: 0.6224 - val_loss: 4.8734 - val_acc: 0.4422\n",
      "Epoch 114/200\n",
      "6792/6792 [==============================] - 147s 22ms/step - loss: 1.9518 - acc: 0.6281 - val_loss: 4.8602 - val_acc: 0.4437\n",
      "Epoch 115/200\n",
      "6792/6792 [==============================] - 132s 19ms/step - loss: 1.9138 - acc: 0.6365 - val_loss: 4.8472 - val_acc: 0.4439\n",
      "Epoch 116/200\n",
      "6792/6792 [==============================] - 131s 19ms/step - loss: 1.8830 - acc: 0.6416 - val_loss: 4.8436 - val_acc: 0.4439\n",
      "Epoch 117/200\n",
      "6792/6792 [==============================] - 134s 20ms/step - loss: 1.8390 - acc: 0.6489 - val_loss: 4.8629 - val_acc: 0.4466\n"
     ]
    },
    {
     "name": "stdout",
     "output_type": "stream",
     "text": [
      "Epoch 118/200\n",
      "6792/6792 [==============================] - 129s 19ms/step - loss: 1.7986 - acc: 0.6560 - val_loss: 4.8485 - val_acc: 0.4470\n",
      "Epoch 119/200\n",
      "6792/6792 [==============================] - 145s 21ms/step - loss: 1.7680 - acc: 0.6618 - val_loss: 4.8803 - val_acc: 0.4486\n",
      "Epoch 120/200\n",
      "6792/6792 [==============================] - 144s 21ms/step - loss: 1.7235 - acc: 0.6699 - val_loss: 4.8825 - val_acc: 0.4494\n",
      "Epoch 121/200\n",
      "6792/6792 [==============================] - 133s 20ms/step - loss: 1.6836 - acc: 0.6776 - val_loss: 4.8615 - val_acc: 0.4504\n",
      "Epoch 122/200\n",
      "6792/6792 [==============================] - 140s 21ms/step - loss: 1.6509 - acc: 0.6828 - val_loss: 4.8997 - val_acc: 0.4513\n",
      "Epoch 123/200\n",
      "6792/6792 [==============================] - 140s 21ms/step - loss: 1.6155 - acc: 0.6881 - val_loss: 4.8925 - val_acc: 0.4528\n",
      "Epoch 124/200\n",
      "6792/6792 [==============================] - 135s 20ms/step - loss: 1.5825 - acc: 0.6944 - val_loss: 4.8881 - val_acc: 0.4537\n",
      "Epoch 125/200\n",
      "6792/6792 [==============================] - 145s 21ms/step - loss: 1.5444 - acc: 0.7016 - val_loss: 4.9242 - val_acc: 0.4546\n",
      "Epoch 126/200\n",
      "6792/6792 [==============================] - 141s 21ms/step - loss: 1.5195 - acc: 0.7059 - val_loss: 4.9215 - val_acc: 0.4556\n",
      "Epoch 127/200\n",
      "6792/6792 [==============================] - 144s 21ms/step - loss: 1.4876 - acc: 0.7110 - val_loss: 4.8748 - val_acc: 0.4543\n",
      "Epoch 128/200\n",
      "6792/6792 [==============================] - 140s 21ms/step - loss: 1.4559 - acc: 0.7169 - val_loss: 4.9118 - val_acc: 0.4577\n",
      "Epoch 129/200\n",
      "6792/6792 [==============================] - 132s 19ms/step - loss: 1.4207 - acc: 0.7236 - val_loss: 4.9062 - val_acc: 0.4583\n",
      "Epoch 130/200\n",
      "6792/6792 [==============================] - 130s 19ms/step - loss: 1.3822 - acc: 0.7308 - val_loss: 4.9110 - val_acc: 0.4601\n",
      "Epoch 131/200\n",
      "6792/6792 [==============================] - 128s 19ms/step - loss: 1.3480 - acc: 0.7371 - val_loss: 4.9198 - val_acc: 0.4605\n",
      "Epoch 132/200\n",
      "6792/6792 [==============================] - 149s 22ms/step - loss: 1.3196 - acc: 0.7424 - val_loss: 4.9282 - val_acc: 0.4613\n",
      "Epoch 133/200\n",
      "6792/6792 [==============================] - 143s 21ms/step - loss: 1.2843 - acc: 0.7492 - val_loss: 4.9393 - val_acc: 0.4631\n",
      "Epoch 134/200\n",
      "6792/6792 [==============================] - 152s 22ms/step - loss: 1.2540 - acc: 0.7560 - val_loss: 4.9568 - val_acc: 0.4633\n",
      "Epoch 135/200\n",
      "6792/6792 [==============================] - 147s 22ms/step - loss: 1.2258 - acc: 0.7614 - val_loss: 4.9696 - val_acc: 0.4641\n",
      "Epoch 136/200\n",
      "6792/6792 [==============================] - 143s 21ms/step - loss: 1.1992 - acc: 0.7664 - val_loss: 4.9723 - val_acc: 0.4649\n",
      "Epoch 137/200\n",
      "6792/6792 [==============================] - 139s 20ms/step - loss: 1.1839 - acc: 0.7686 - val_loss: 4.9466 - val_acc: 0.4645\n",
      "Epoch 138/200\n",
      "6792/6792 [==============================] - 137s 20ms/step - loss: 1.1467 - acc: 0.7763 - val_loss: 4.9886 - val_acc: 0.4671\n",
      "Epoch 139/200\n",
      "6792/6792 [==============================] - 133s 20ms/step - loss: 1.1190 - acc: 0.7828 - val_loss: 4.9869 - val_acc: 0.4671\n",
      "Epoch 140/200\n",
      "6792/6792 [==============================] - 129s 19ms/step - loss: 1.0838 - acc: 0.7899 - val_loss: 4.9837 - val_acc: 0.4687\n",
      "Epoch 141/200\n",
      "6792/6792 [==============================] - 128s 19ms/step - loss: 1.0552 - acc: 0.7956 - val_loss: 4.9949 - val_acc: 0.4695\n",
      "Epoch 142/200\n",
      "6792/6792 [==============================] - 130s 19ms/step - loss: 1.0283 - acc: 0.8019 - val_loss: 5.0122 - val_acc: 0.4705\n",
      "Epoch 143/200\n",
      "6792/6792 [==============================] - 128s 19ms/step - loss: 1.0015 - acc: 0.8069 - val_loss: 5.0281 - val_acc: 0.4712\n",
      "Epoch 144/200\n",
      "6792/6792 [==============================] - 129s 19ms/step - loss: 0.9755 - acc: 0.8124 - val_loss: 5.0151 - val_acc: 0.4724\n",
      "Epoch 145/200\n",
      "6792/6792 [==============================] - 130s 19ms/step - loss: 0.9473 - acc: 0.8180 - val_loss: 5.0183 - val_acc: 0.4720\n",
      "Epoch 146/200\n",
      "6792/6792 [==============================] - 128s 19ms/step - loss: 0.9207 - acc: 0.8249 - val_loss: 5.0449 - val_acc: 0.4746\n",
      "Epoch 147/200\n",
      "6792/6792 [==============================] - 128s 19ms/step - loss: 0.9030 - acc: 0.8279 - val_loss: 5.0355 - val_acc: 0.4744\n",
      "Epoch 148/200\n",
      "6792/6792 [==============================] - 128s 19ms/step - loss: 0.8765 - acc: 0.8335 - val_loss: 5.0464 - val_acc: 0.4766\n",
      "Epoch 149/200\n",
      "6792/6792 [==============================] - 128s 19ms/step - loss: 0.8550 - acc: 0.8384 - val_loss: 5.0531 - val_acc: 0.4762\n",
      "Epoch 150/200\n",
      "6792/6792 [==============================] - 132s 19ms/step - loss: 0.8364 - acc: 0.8423 - val_loss: 5.0766 - val_acc: 0.4781\n",
      "Epoch 151/200\n",
      "6792/6792 [==============================] - 130s 19ms/step - loss: 0.8058 - acc: 0.8496 - val_loss: 5.0558 - val_acc: 0.4779\n",
      "Epoch 152/200\n",
      "6792/6792 [==============================] - 129s 19ms/step - loss: 0.7813 - acc: 0.8548 - val_loss: 5.0721 - val_acc: 0.4803\n",
      "Epoch 153/200\n",
      "6792/6792 [==============================] - 128s 19ms/step - loss: 0.7531 - acc: 0.8621 - val_loss: 5.0948 - val_acc: 0.4806\n",
      "Epoch 154/200\n",
      "6792/6792 [==============================] - 128s 19ms/step - loss: 0.7306 - acc: 0.8665 - val_loss: 5.0929 - val_acc: 0.4821\n",
      "Epoch 155/200\n",
      "6792/6792 [==============================] - 128s 19ms/step - loss: 0.7105 - acc: 0.8711 - val_loss: 5.1361 - val_acc: 0.4842\n",
      "Epoch 156/200\n",
      "6792/6792 [==============================] - 128s 19ms/step - loss: 0.6962 - acc: 0.8738 - val_loss: 5.1332 - val_acc: 0.4841\n",
      "Epoch 157/200\n",
      "6792/6792 [==============================] - 128s 19ms/step - loss: 0.6749 - acc: 0.8787 - val_loss: 5.1386 - val_acc: 0.4843\n",
      "Epoch 158/200\n",
      "6792/6792 [==============================] - 128s 19ms/step - loss: 0.6520 - acc: 0.8841 - val_loss: 5.1441 - val_acc: 0.4860\n",
      "Epoch 159/200\n",
      "6792/6792 [==============================] - 128s 19ms/step - loss: 0.6264 - acc: 0.8902 - val_loss: 5.1572 - val_acc: 0.4879\n",
      "Epoch 160/200\n",
      "6792/6792 [==============================] - 128s 19ms/step - loss: 0.6083 - acc: 0.8939 - val_loss: 5.1534 - val_acc: 0.4871\n",
      "Epoch 161/200\n",
      "6792/6792 [==============================] - 128s 19ms/step - loss: 0.5987 - acc: 0.8955 - val_loss: 5.1720 - val_acc: 0.4883\n",
      "Epoch 162/200\n",
      "6792/6792 [==============================] - 128s 19ms/step - loss: 0.5766 - acc: 0.9010 - val_loss: 5.1831 - val_acc: 0.4894\n",
      "Epoch 163/200\n",
      "6792/6792 [==============================] - 129s 19ms/step - loss: 0.5591 - acc: 0.9042 - val_loss: 5.1774 - val_acc: 0.4901\n",
      "Epoch 164/200\n",
      "6792/6792 [==============================] - 128s 19ms/step - loss: 0.5376 - acc: 0.9091 - val_loss: 5.1833 - val_acc: 0.4902\n",
      "Epoch 165/200\n",
      "6792/6792 [==============================] - 129s 19ms/step - loss: 0.5194 - acc: 0.9142 - val_loss: 5.2084 - val_acc: 0.4927\n",
      "Epoch 166/200\n",
      "6792/6792 [==============================] - 128s 19ms/step - loss: 0.4966 - acc: 0.9189 - val_loss: 5.2103 - val_acc: 0.4919\n",
      "Epoch 167/200\n",
      "6792/6792 [==============================] - 128s 19ms/step - loss: 0.4778 - acc: 0.9229 - val_loss: 5.2257 - val_acc: 0.4937\n",
      "Epoch 168/200\n",
      "6792/6792 [==============================] - 128s 19ms/step - loss: 0.4625 - acc: 0.9268 - val_loss: 5.2264 - val_acc: 0.4927\n",
      "Epoch 169/200\n",
      "6792/6792 [==============================] - 128s 19ms/step - loss: 0.4460 - acc: 0.9300 - val_loss: 5.2613 - val_acc: 0.4956\n",
      "Epoch 170/200\n",
      "6792/6792 [==============================] - 129s 19ms/step - loss: 0.4307 - acc: 0.9336 - val_loss: 5.2855 - val_acc: 0.4944\n",
      "Epoch 171/200\n",
      "6792/6792 [==============================] - 129s 19ms/step - loss: 0.4372 - acc: 0.9312 - val_loss: 5.2355 - val_acc: 0.4929\n",
      "Epoch 172/200\n",
      "6792/6792 [==============================] - 128s 19ms/step - loss: 0.4243 - acc: 0.9337 - val_loss: 5.2471 - val_acc: 0.4942\n",
      "Epoch 173/200\n",
      "6792/6792 [==============================] - 129s 19ms/step - loss: 0.4052 - acc: 0.9380 - val_loss: 5.2556 - val_acc: 0.4963\n",
      "Epoch 174/200\n",
      "6792/6792 [==============================] - 129s 19ms/step - loss: 0.3797 - acc: 0.9439 - val_loss: 5.2796 - val_acc: 0.4970\n",
      "Epoch 175/200\n",
      "6792/6792 [==============================] - 128s 19ms/step - loss: 0.3576 - acc: 0.9495 - val_loss: 5.2715 - val_acc: 0.4975\n",
      "Epoch 176/200\n"
     ]
    },
    {
     "name": "stdout",
     "output_type": "stream",
     "text": [
      "6792/6792 [==============================] - 128s 19ms/step - loss: 0.3433 - acc: 0.9525 - val_loss: 5.3016 - val_acc: 0.4995\n",
      "Epoch 177/200\n",
      "6792/6792 [==============================] - 128s 19ms/step - loss: 0.3277 - acc: 0.9559 - val_loss: 5.2899 - val_acc: 0.4978\n",
      "Epoch 178/200\n",
      "6792/6792 [==============================] - 128s 19ms/step - loss: 0.3190 - acc: 0.9571 - val_loss: 5.3361 - val_acc: 0.5005\n",
      "Epoch 179/200\n",
      "6792/6792 [==============================] - 128s 19ms/step - loss: 0.3042 - acc: 0.9606 - val_loss: 5.3326 - val_acc: 0.5003\n",
      "Epoch 180/200\n",
      "6792/6792 [==============================] - 128s 19ms/step - loss: 0.2893 - acc: 0.9632 - val_loss: 5.3330 - val_acc: 0.5005\n",
      "Epoch 181/200\n",
      "6792/6792 [==============================] - 128s 19ms/step - loss: 0.2756 - acc: 0.9662 - val_loss: 5.3472 - val_acc: 0.5013\n",
      "Epoch 182/200\n",
      "6792/6792 [==============================] - 128s 19ms/step - loss: 0.2674 - acc: 0.9678 - val_loss: 5.3524 - val_acc: 0.5008\n",
      "Epoch 183/200\n",
      "6792/6792 [==============================] - 128s 19ms/step - loss: 0.2570 - acc: 0.9697 - val_loss: 5.3627 - val_acc: 0.5015\n",
      "Epoch 184/200\n",
      "6792/6792 [==============================] - 128s 19ms/step - loss: 0.2455 - acc: 0.9717 - val_loss: 5.3695 - val_acc: 0.5028\n",
      "Epoch 185/200\n",
      "6792/6792 [==============================] - 129s 19ms/step - loss: 0.2321 - acc: 0.9748 - val_loss: 5.3916 - val_acc: 0.5023\n",
      "Epoch 186/200\n",
      "6792/6792 [==============================] - 131s 19ms/step - loss: 0.2207 - acc: 0.9768 - val_loss: 5.3963 - val_acc: 0.5027\n",
      "Epoch 187/200\n",
      "6792/6792 [==============================] - 128s 19ms/step - loss: 0.2185 - acc: 0.9767 - val_loss: 5.3982 - val_acc: 0.5022\n",
      "Epoch 188/200\n",
      "6792/6792 [==============================] - 128s 19ms/step - loss: 0.2068 - acc: 0.9789 - val_loss: 5.4163 - val_acc: 0.5032\n",
      "Epoch 189/200\n",
      "6792/6792 [==============================] - 128s 19ms/step - loss: 0.2007 - acc: 0.9800 - val_loss: 5.4256 - val_acc: 0.5040\n",
      "Epoch 190/200\n",
      "6792/6792 [==============================] - 128s 19ms/step - loss: 0.1874 - acc: 0.9827 - val_loss: 5.4366 - val_acc: 0.5049\n",
      "Epoch 191/200\n",
      "6792/6792 [==============================] - 128s 19ms/step - loss: 0.1830 - acc: 0.9836 - val_loss: 5.4391 - val_acc: 0.5041\n",
      "Epoch 192/200\n",
      "6792/6792 [==============================] - 128s 19ms/step - loss: 0.1733 - acc: 0.9848 - val_loss: 5.4503 - val_acc: 0.5048\n",
      "Epoch 193/200\n",
      "6792/6792 [==============================] - 128s 19ms/step - loss: 0.1703 - acc: 0.9853 - val_loss: 5.4501 - val_acc: 0.5047\n",
      "Epoch 194/200\n",
      "6792/6792 [==============================] - 128s 19ms/step - loss: 0.1613 - acc: 0.9866 - val_loss: 5.4718 - val_acc: 0.5051\n",
      "Epoch 195/200\n",
      "6792/6792 [==============================] - 128s 19ms/step - loss: 0.1539 - acc: 0.9877 - val_loss: 5.4628 - val_acc: 0.5042\n",
      "Epoch 196/200\n",
      "6792/6792 [==============================] - 128s 19ms/step - loss: 0.1479 - acc: 0.9883 - val_loss: 5.4871 - val_acc: 0.5057\n",
      "Epoch 197/200\n",
      "6792/6792 [==============================] - 128s 19ms/step - loss: 0.1410 - acc: 0.9895 - val_loss: 5.4950 - val_acc: 0.5061\n",
      "Epoch 198/200\n",
      "6792/6792 [==============================] - 128s 19ms/step - loss: 0.1361 - acc: 0.9903 - val_loss: 5.5023 - val_acc: 0.5064\n",
      "Epoch 199/200\n",
      "6792/6792 [==============================] - 128s 19ms/step - loss: 0.1272 - acc: 0.9915 - val_loss: 5.5147 - val_acc: 0.5057\n",
      "Epoch 200/200\n",
      "6792/6792 [==============================] - 128s 19ms/step - loss: 0.1203 - acc: 0.9925 - val_loss: 5.5147 - val_acc: 0.5056\n"
     ]
    }
   ],
   "source": [
    "r = model.fit(x = [encoder_sequences_padded, decoder_sequences_input_padded, h_init_, c_init_], \n",
    "          y = one_hot_targets, \n",
    "          batch_size = 128, \n",
    "          epochs = 200, \n",
    "          validation_split = 0.2)"
   ]
  },
  {
   "cell_type": "code",
   "execution_count": 43,
   "metadata": {},
   "outputs": [],
   "source": [
    "#model.save_weights(\"./modelo_chatbot20032019_weights\")"
   ]
  },
  {
   "cell_type": "code",
   "execution_count": 31,
   "metadata": {},
   "outputs": [
    {
     "data": {
      "image/png": "[encoded data removed]",
      "text/plain": [
       "<Figure size 432x288 with 1 Axes>"
      ]
     },
     "metadata": {},
     "output_type": "display_data"
    }
   ],
   "source": [
    "import matplotlib.pyplot as plt\n",
    "\n",
    "plt.plot(r.history['val_loss'], label = \"val loss\")\n",
    "plt.plot(r.history['loss'], label = \"train loss\")\n",
    "plt.legend()\n",
    "plt.show()"
   ]
  },
  {
   "cell_type": "code",
   "execution_count": 32,
   "metadata": {},
   "outputs": [
    {
     "data": {
      "image/png": "[encoded data removed]",
      "text/plain": [
       "<Figure size 432x288 with 1 Axes>"
      ]
     },
     "metadata": {},
     "output_type": "display_data"
    }
   ],
   "source": [
    "plt.plot(r.history['val_acc'], label = \"val acc\")\n",
    "plt.plot(r.history['acc'], label = \"train acc\")\n",
    "plt.legend()\n",
    "plt.show()"
   ]
  },
  {
   "cell_type": "code",
   "execution_count": 33,
   "metadata": {},
   "outputs": [],
   "source": [
    "#I create this model as a precomputation step. The subsequent prediction calculations will use the same bidirectional_model output\n",
    "#given an ecoder_input. So we can save time.\n",
    "\n",
    "#Input: encoder_input\n",
    "\n",
    "bidirectional_model = Model(inputs = encoder_input, outputs = encoder_rnn)\n",
    "\n",
    "#Input encoder_rnn\n",
    "rnn_output_placeholder = Input([MAX_ENCODER_SEQUENCE_LENGTH, 2*LATENT_ENCODER_DIM])\n",
    "\n",
    "\n",
    "#Will hold the last predicted word\n",
    "decoder_input_pred = Input([1], name=\"decoder_input_pred\")\n",
    "decoder_input_pred_embedded = decoder_embeddings(decoder_input_pred)\n",
    "\n",
    "\n",
    "alphas_pred,context_pred = attention_layer(h_init, rnn_output_placeholder)\n",
    "context_pred_concatenated = concatenate_context_and_input([context_pred, decoder_input_pred_embedded])\n",
    "o_curr, h_curr, c_curr = lstm_decoder(context_pred_concatenated, initial_state = [h_init, c_init])\n",
    "probs_pred = dense_decoder(o_curr)\n",
    "\n",
    "translator_model = Model(inputs = [rnn_output_placeholder, decoder_input_pred, h_init, c_init], outputs = [probs_pred, h_curr, c_curr, context_pred, alphas_pred])"
   ]
  },
  {
   "cell_type": "code",
   "execution_count": null,
   "metadata": {},
   "outputs": [],
   "source": []
  },
  {
   "cell_type": "code",
   "execution_count": null,
   "metadata": {},
   "outputs": [],
   "source": []
  },
  {
   "cell_type": "code",
   "execution_count": 34,
   "metadata": {},
   "outputs": [],
   "source": [
    "def translate(sentence):\n",
    "    \n",
    "    encoder_sequence = encoder_tokenizer.texts_to_sequences([sentence])\n",
    "    encoder_sequence_padded = pad_sequences(encoder_sequence, maxlen = MAX_ENCODER_SEQUENCE_LENGTH, padding = \"post\")\n",
    "    \n",
    "    decoder_input_pred_ = np.array([[decoder_word2idx['<sos>']]])\n",
    "    h_init_ = np.zeros([1, LATENT_DECODER_DIM])\n",
    "    c_init_ = np.zeros([1, LATENT_DECODER_DIM])\n",
    "    output_sentence = []\n",
    "    attention_matrix = np.zeros((MAX_DECODER_SEQUENCE_LENGTH, MAX_ENCODER_SEQUENCE_LENGTH))\n",
    "    rnn_output_ = bidirectional_model.predict(encoder_sequence_padded);\n",
    "    #print(encoder_sequence_padded, np.sum(rnn_output_), rnn_output_.shape)\n",
    "    #rnn_output_ = np.random.rand(1, 5, 300)\n",
    "    #print(rnn_output_.shape, np.sum(rnn_output_))\n",
    "    for t in range(MAX_DECODER_SEQUENCE_LENGTH):  \n",
    "        #print(decoder_input_pred_)\n",
    "        probs_pred_, h_init_, c_init_, context_prd_, alphas_pred_ = translator_model.predict([rnn_output_, decoder_input_pred_, h_init_, c_init_])\n",
    "        attention_matrix[t] = alphas_pred_[0,:,0]\n",
    "        #print(\"alphas:\", alphas_pred_[0,:,0].shape)\n",
    "        #print(\"output\", np.sum(probs_pred_), np.sum(h_init_), np.sum(c_init_), np.sum(context_prd_))\n",
    "        word_idx = np.argmax(probs_pred_[0][1:]) + 1;\n",
    "        word = decoder_idx2word[word_idx];\n",
    "        \n",
    "        decoder_input_pred_[0, 0] = word_idx;\n",
    "        output_sentence.append(word)\n",
    "        \n",
    "        if(word == '<eos>'):\n",
    "            break;\n",
    "\n",
    "\n",
    "\n",
    "    return attention_matrix, \" \".join(output_sentence)"
   ]
  },
  {
   "cell_type": "code",
   "execution_count": 35,
   "metadata": {},
   "outputs": [],
   "source": [
    "import matplotlib.pyplot as plt"
   ]
  },
  {
   "cell_type": "code",
   "execution_count": 36,
   "metadata": {},
   "outputs": [],
   "source": [
    "def plot_attention_matrix(attention_matrix, english_sentence, spanish_sentence):\n",
    "    encoder_sequence = encoder_tokenizer.texts_to_sequences([english_sentence])\n",
    "    labels = [''] + [encoder_idx2word[idx] for idx in encoder_sequence[0]] + ['']*(MAX_ENCODER_SEQUENCE_LENGTH - len(encoder_sequence))\n",
    "    decoded_sequence = spanish_sentence.split()\n",
    "    y_labels = [''] + decoded_sequence + ['']*(MAX_DECODER_SEQUENCE_LENGTH - len(decoded_sequence))\n",
    "    \n",
    "    plt.figure(figsize=(10, 10))\n",
    "    ax = plt.gca()\n",
    "    plt.imshow(attention_matrix, cmap = 'gray')\n",
    "    ax.set_xticklabels(labels)\n",
    "    ax.set_yticklabels(y_labels)\n",
    "    plt.show()"
   ]
  },
  {
   "cell_type": "code",
   "execution_count": 37,
   "metadata": {},
   "outputs": [
    {
     "name": "stdout",
     "output_type": "stream",
     "text": [
      "i just wanted to go for the next one or gone for the forwards <eos>\n"
     ]
    },
    {
     "data": {
      "image/png": "[encoded data removed]",
      "text/plain": [
       "<Figure size 720x720 with 1 Axes>"
      ]
     },
     "metadata": {},
     "output_type": "display_data"
    }
   ],
   "source": [
    "index = 0\n",
    "english_sentence = english_sentences[index]\n",
    "encoder_sequence = encoder_tokenizer.texts_to_sequences([english_sentence])\n",
    "attention_matrix, spanish_sentence = translate(english_sentence)\n",
    "print(spanish_sentence)\n",
    "plot_attention_matrix(attention_matrix, english_sentence, spanish_sentence)"
   ]
  },
  {
   "cell_type": "code",
   "execution_count": null,
   "metadata": {},
   "outputs": [],
   "source": []
  },
  {
   "cell_type": "code",
   "execution_count": null,
   "metadata": {},
   "outputs": [],
   "source": []
  },
  {
   "cell_type": "code",
   "execution_count": null,
   "metadata": {},
   "outputs": [],
   "source": [
    "\n",
    "    "
   ]
  },
  {
   "cell_type": "code",
   "execution_count": 40,
   "metadata": {},
   "outputs": [
    {
     "name": "stdout",
     "output_type": "stream",
     "text": [
      "Write a sentence ('n' to exit):hey mate\n",
      "Answer: im sorry for im scared <eos>\n",
      "Write a sentence ('n' to exit):why?\n",
      "Answer: they feeeeeeeel iiiiiiiiittt <eos>\n",
      "Write a sentence ('n' to exit):is it everything ok?\n",
      "Answer: you're* and i'm not here to get a great <eos>\n",
      "Write a sentence ('n' to exit):yeah, I could've had a great time\n",
      "Answer: your time for you just got some ass <eos>\n",
      "Write a sentence ('n' to exit):haha, that's true\n",
      "Answer: yes that happens as far even goes i gotta miss you as yes <eos>\n",
      "Write a sentence ('n' to exit):n\n"
     ]
    }
   ],
   "source": [
    "while(True):\n",
    "    res = input(\"Write a sentence ('n' to exit):\");\n",
    "    if(res != 'n'):\n",
    "        english_sentence = res;\n",
    "        encoder_sequence = encoder_tokenizer.texts_to_sequences([english_sentence]);\n",
    "        attention_matrix, spanish_sentence = translate(english_sentence);\n",
    "        print(\"Answer:\", spanish_sentence)\n",
    "    else:\n",
    "        break;"
   ]
  },
  {
   "cell_type": "code",
   "execution_count": null,
   "metadata": {},
   "outputs": [],
   "source": []
  },
  {
   "cell_type": "code",
   "execution_count": null,
   "metadata": {},
   "outputs": [],
   "source": []
  }
 ],
 "metadata": {
  "kernelspec": {
   "display_name": "Python 3",
   "language": "python",
   "name": "python3"
  },
  "language_info": {
   "codemirror_mode": {
    "name": "ipython",
    "version": 3
   },
   "file_extension": ".py",
   "mimetype": "text/x-python",
   "name": "python",
   "nbconvert_exporter": "python",
   "pygments_lexer": "ipython3",
   "version": "3.5.4"
  }
 },
 "nbformat": 4,
 "nbformat_minor": 2
}
